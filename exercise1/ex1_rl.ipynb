{
 "cells": [
  {
   "cell_type": "markdown",
   "id": "53274fb5",
   "metadata": {
    "deletable": false,
    "editable": false,
    "nbgrader": {
     "cell_type": "markdown",
     "checksum": "7554c3b58a5e75c64308c40a838d6b33",
     "grade": false,
     "grade_id": "cell-36af2f1e65d7b244",
     "locked": true,
     "schema_version": 3,
     "solution": false,
     "task": false
    }
   },
   "source": [
    "\n",
    "<div class=\"alert alert-block alert-info\">\n",
    "   <h2 align=\"center\"> <center><b> Reinforcement Learning Assignment 1 - The Reinforcement Learning Framework</b></center></h2>\n",
    "\n",
    "<br>\n",
    "<center><font size=\"3\">This notebook is a part of teaching material for ELEC-E8125</font></center>\n",
    "<center><font size=\"3\">Sep 4, 2024 - Nov 30, 2024</font></center>\n",
    "<center><font size=\"3\">Aalto University</font></center>\n",
    "</div>\n",
    "\n",
    "\n",
    "<a id='TOC'></a>\n",
    "\n",
    "<div class=\"alert alert-block alert-success\">\n",
    "    \n",
    "# Table of contents\n",
    "* <a href='#1.'> 1. Introduction </a>\n",
    "* <a href='#1.1'> 1.1 Learning Objectives </a>\n",
    "* <a href='#1.2'> 1.2 Code Structure & Files </a>\n",
    "* <a href='#2.'> 2. Cartpole</a>\n",
    "* <a href='#3.'> 3. Reacher</a>\n",
    "* <a href='#4.'> 4. Submitting </a>\n",
    "* <a href='#4.1'> 4.1 Feedback </a>\n",
    "* <a href='#5.'> References</a>\n",
    "\n",
    "<a href='#T1'><b>Student Task 1.</b> Training a Model for Simple Cartpole Environment (10 points)</a>\\\n",
    "<a href='#Q1'><b>Student Question 1.1</b> Learning (10 points)</a>\\\n",
    "<a href='#T2'><b>Student Task 2.</b> Investigating Training Performance (10 points) </a>\\\n",
    "<a href='#Q2'><b>Student Question 2.1</b> Analysis of Training Performance (15 points) </a>\\\n",
    "<a href='#Q3'><b>Student Question 2.2</b> Stochasticity (10 points) </a>\\\n",
    "<a href='#T3'><b>Student Task 3.</b> Reward Functions (20 points) </a>\\\n",
    "<a href='#T4'><b>Student Task 4.</b> Visualizing Behavior (10 points) </a>\\\n",
    "<a href='#Q4'><b>Student Question 4.1</b> Achieved Peformance (5 points)\\\n",
    "<a href='#Q5'><b>Student Question 4.2</b> Analysis of Behaviour (10 points)</a>\n",
    "    \n",
    "**Total Points:** 100\n",
    "\n",
    "**Estimated runtime of all the cells:** 30 minutes "
   ]
  },
  {
   "cell_type": "markdown",
   "id": "44ab28e9",
   "metadata": {
    "deletable": false,
    "editable": false,
    "nbgrader": {
     "cell_type": "markdown",
     "checksum": "ecb4bed28908246a16850b56315b8e8e",
     "grade": false,
     "grade_id": "cell-afbabf910b8ed9fd",
     "locked": true,
     "schema_version": 3,
     "solution": false,
     "task": false
    },
    "tags": []
   },
   "source": [
    "# 1. Introduction <a id='1.'></a>\n",
    "In this exercise we will take a first look at a reinforcement learning environment, its components and modify the reward function of a simple agent.\n",
    "\n",
    "In this notebook two environments are used: Cartpole and Reacher. The cartpole environment is taken from [OpenAI's Gym library](https://www.gymlibrary.dev/). The reacher environment is custom made (and defined in ```reacher.py```) but utilizes the Gym API.\n",
    "\n",
    "## 1.1 Learning Objectives: <a id='1.1'></a>\n",
    "- To become familiar with assignment structure and the agent-environment relationshp\n",
    "- To understand the effects of stochasticity\n",
    "- To understand and explore the effects of task definition\n",
    "\n",
    "## 1.2 Code Structure & Files <a id='1.2'></a>\n",
    "\n",
    "The ```train.py``` file instantiates the environment and the RL agent that acts in it. The ```agent.py``` file contains the implementation of a simple reinforcement learning agent; for the sake of this exercise, you can assume it to be a black box (you don’t need to understand how it works, although you are encouraged to study it in more detail). You don’t have to edit any other file other than ```ex1.ipynb``` to complete this exercise.\n",
    "```\n",
    "├───cfg                  # Config files for environments e.g. define the maximum number of steps in an episode.\n",
    "├───imgs                 # Images used in notebook\n",
    "├───results \n",
    "│   ├───logging          # Contains logged data\n",
    "│   ├───model            # Contains the policies learned\n",
    "│   └───video            # Contains videos for each environment\n",
    "│       └───CartPole-v0\n",
    "│       │  └───test      # Videos saved during testing\n",
    "│       │  └───train     # Videos saved during training\n",
    "│       └───SpinningReacher-v0\n",
    "│           └───test\n",
    "│           └───train\n",
    "│   ex1.ipynb            # Main assignment file containing tasks <---------\n",
    "│   feedback.ipynb       # Please give feedback in here\n",
    "│   README.ipynb         # This file\n",
    "│   agent.py             # Contains functions that govern the policy\n",
    "│   reacher.py           # Defines the reacher environment\n",
    "│   train.py             # Contains training and testing functions\n",
    "│   utils.py             # Contains useful functions \n",
    "```"
   ]
  },
  {
   "cell_type": "markdown",
   "id": "100c1cfb",
   "metadata": {},
   "source": [
    "Please consult ```README.md``` for more details the assignments."
   ]
  },
  {
   "cell_type": "markdown",
   "id": "28556beb",
   "metadata": {},
   "source": [
    "## Warnings:\n",
    "\n",
    "- Don’t copy and paste cells within a notebook. This will mess up the tracking metadata and prevent autograding from working.\n",
    "- Only add new cells using the '+' button in the upper toolbar and do not split cells.\n",
    "- Be cautious about things such as copying the whole notebook to Colab to work on it. This has sometimes resulted in removing all notebook metadata, making autograding impossible."
   ]
  },
  {
   "cell_type": "code",
   "execution_count": 13,
   "id": "f097ab74",
   "metadata": {
    "tags": []
   },
   "outputs": [],
   "source": [
    "skip_training = True # Set this flag to True before validation and submission"
   ]
  },
  {
   "cell_type": "code",
   "execution_count": null,
   "id": "cc004e57",
   "metadata": {
    "deletable": false,
    "editable": false,
    "nbgrader": {
     "cell_type": "code",
     "checksum": "ecf78d754d0b1f6eb047222f9e14a0e4",
     "grade": true,
     "grade_id": "cell-8fb587d5abdec975",
     "locked": true,
     "points": 0,
     "schema_version": 3,
     "solution": false,
     "task": false
    }
   },
   "outputs": [],
   "source": []
  },
  {
   "cell_type": "code",
   "execution_count": 5,
   "id": "c8cb8a88",
   "metadata": {
    "tags": []
   },
   "outputs": [],
   "source": [
    "from pathlib import Path # to find directory\n",
    "work_dir = Path().cwd()/'results'\n",
    "import os\n",
    "\n",
    "import train as t # for training\n",
    "import utils as u # helper functions\n",
    "\n",
    "import numpy as np # The numpy library can be used for math functions\n",
    "import torch # Used to manage policy and learning\n",
    "from IPython.display import Video, display, HTML # to display videos"
   ]
  },
  {
   "cell_type": "markdown",
   "id": "f5e36a57",
   "metadata": {
    "deletable": false,
    "editable": false,
    "nbgrader": {
     "cell_type": "markdown",
     "checksum": "6468fd86adbbe289e7e8853d2b1cdf8b",
     "grade": false,
     "grade_id": "cell-56c1faa5635120ab",
     "locked": true,
     "schema_version": 3,
     "solution": false,
     "task": false
    }
   },
   "source": [
    "# 2. Cartpole <a id='2.'></a>\n",
    "\n",
    "The Cartpole environment consists of a cart and a pole mounted on top of it, as shown in Figure 1. The cart can move either to the left or to the right. The goal is to balance the pole in a vertical position in order to prevent it from falling down. The cart should also stay within limited distance from the center (trying to move outside screen boundaries is considered a failure).\n",
    "\n",
    "<figure>\n",
    "<img src=\"imgs/cartpole.png\" width=\"400px\">\n",
    "<figcaption style=\"text-align: center\"> Figure 1: The Cartpole environment  </figcaption>\n",
    "</figure>\n",
    "\n",
    "The state and the observation are four element vectors:\n",
    "\n",
    "$$\n",
    "o=s=\\left(\\begin{array}{c}\n",
    "x \\\\\n",
    "\\dot{x} \\\\\n",
    "\\theta \\\\\n",
    "\\dot{\\theta}\n",
    "\\end{array}\\right) \\text {, }\n",
    "$$\n",
    "\n",
    "where $x$ is the position of the cart, $\\dot{x}$ is its velocity, $\\theta$ is the angle of the pole w.r.t. the vertical axis, and $\\dot{\\theta}$ is the angular velocity of the pole.\n",
    "\n",
    "In the standard formulation, a reward of 1 is given for every timestep the pole remains balanced. Upon failing (the pole falls) or completing the task, an episode is finished.\n",
    "\n",
    "The training script will record videos of the agent’s learning progress during training, and the recorded videos are saved to ```results/video/CartPole-v0/train```. By default, the training information is saved to ```results/logging/CartPole-v0_{seed}.csv```. When the training is finished, the models are saved to ```results/model/Cartpole-v0_params.pt```. Videos of the agent’s behaviour during testing are saved to ```results/video/CartPole-v0/test```."
   ]
  },
  {
   "cell_type": "markdown",
   "id": "6d5bb7ba",
   "metadata": {
    "deletable": false,
    "editable": false,
    "nbgrader": {
     "cell_type": "markdown",
     "checksum": "a1c02d0e9b975ce9813ef40bd06998d0",
     "grade": false,
     "grade_id": "cell-4902974772926f28",
     "locked": true,
     "schema_version": 3,
     "solution": false,
     "task": false
    },
    "tags": []
   },
   "source": [
    "<a id='T1'></a>\n",
    "<div class=\" alert alert-warning\">\n",
    "    <h3><b>Student Task 1.</b> Training a Model for Simple Cartpole Environment (10 points) </h3> \n",
    "\n",
    "This task requires you to train a model for the cartpole environment with 100 timesteps per episode. Then test the model for 500 timesteps and report average reward. To do this, you can simply run the code in the cells below. \n",
    "\n",
    "To see a full list of options that can be passed through ```cfg_args``` consult the configuation file found in ```cfg/```.\n",
    "\n",
    "- **1st** Run training over 100 steps per episode by using ```t.train``` function. See the cell below. The training will run for 500 episodes automatically.\n",
    "- **2nd:** Export the training plot ```episodesep_reward``` from logged data (.csv format).\n",
    "- **3rd:** Run testing over 500 steps by using ```t.test``` function. See the cell below. See the cell below. Notice ```max_episode_steps``` parameter. \n",
    "- **4th:** **Manually** report the average reward after the cells have completed execution.\n",
    "    \n",
    "🔝\t<a href='#TOC'><b>Table of Contents</b></a>\n",
    "</div>\n"
   ]
  },
  {
   "cell_type": "code",
   "execution_count": 34,
   "id": "e0481176",
   "metadata": {
    "tags": []
   },
   "outputs": [
    {
     "name": "stdout",
     "output_type": "stream",
     "text": [
      "Numpy/Torch/Random Seed:  1\n",
      "Configuration Settings: {'exp_name': 'ex1', 'seed': 1, 'env_name': 'CartPole-v1', 'model_name': 'CartPole-v1', 'max_episode_steps': 100, 'train_episodes': 500, 'batch_size': 64, 'min_update_samples': 2000, 'testing': False, 'model_path': 'default', 'save_video': True, 'save_model': True, 'save_logging': True, 'silent': False, 'use_wandb': True, 'run_suffix': 0}\n",
      "Training device: cpu\n",
      "Observation space dimensions: 4\n",
      "Action space dimensions: 2\n",
      "\n",
      "Episode 0 finished. Total reward: 14.0 (14 timesteps)\n",
      "Episode 5 finished. Total reward: 38.0 (38 timesteps)\n",
      "Episode 10 finished. Total reward: 14.0 (14 timesteps)\n",
      "Episode 15 finished. Total reward: 83.0 (83 timesteps)\n",
      "Episode 20 finished. Total reward: 12.0 (12 timesteps)\n",
      "Episode 25 finished. Total reward: 18.0 (18 timesteps)\n",
      "Episode 30 finished. Total reward: 36.0 (36 timesteps)\n",
      "Episode 35 finished. Total reward: 16.0 (16 timesteps)\n",
      "Episode 40 finished. Total reward: 29.0 (29 timesteps)\n",
      "Episode 45 finished. Total reward: 15.0 (15 timesteps)\n",
      "Episode 50 finished. Total reward: 15.0 (15 timesteps)\n",
      "Episode 55 finished. Total reward: 27.0 (27 timesteps)\n",
      "Episode 60 finished. Total reward: 33.0 (33 timesteps)\n",
      "Episode 65 finished. Total reward: 11.0 (11 timesteps)\n",
      "Episode 70 finished. Total reward: 27.0 (27 timesteps)\n",
      "Episode 75 finished. Total reward: 13.0 (13 timesteps)\n",
      "Episode 80 finished. Total reward: 9.0 (9 timesteps)\n",
      "Episode 85 finished. Total reward: 19.0 (19 timesteps)\n",
      "Updating the policy...\n",
      "Updating finished!\n",
      "Episode 90 finished. Total reward: 58.0 (58 timesteps)\n",
      "Episode 95 finished. Total reward: 13.0 (13 timesteps)\n",
      "Episode 100 finished. Total reward: 17.0 (17 timesteps)\n",
      "Episode 105 finished. Total reward: 17.0 (17 timesteps)\n",
      "Episode 110 finished. Total reward: 27.0 (27 timesteps)\n",
      "Episode 115 finished. Total reward: 9.0 (9 timesteps)\n",
      "Episode 120 finished. Total reward: 17.0 (17 timesteps)\n",
      "Episode 125 finished. Total reward: 13.0 (13 timesteps)\n",
      "Episode 130 finished. Total reward: 26.0 (26 timesteps)\n",
      "Episode 135 finished. Total reward: 9.0 (9 timesteps)\n",
      "Episode 140 finished. Total reward: 89.0 (89 timesteps)\n",
      "Episode 145 finished. Total reward: 14.0 (14 timesteps)\n",
      "Episode 150 finished. Total reward: 30.0 (30 timesteps)\n",
      "Episode 155 finished. Total reward: 27.0 (27 timesteps)\n",
      "Episode 160 finished. Total reward: 23.0 (23 timesteps)\n",
      "Updating the policy...\n",
      "Updating finished!\n",
      "Episode 165 finished. Total reward: 24.0 (24 timesteps)\n",
      "Episode 170 finished. Total reward: 28.0 (28 timesteps)\n",
      "Episode 175 finished. Total reward: 32.0 (32 timesteps)\n",
      "Episode 180 finished. Total reward: 27.0 (27 timesteps)\n",
      "Episode 185 finished. Total reward: 65.0 (65 timesteps)\n",
      "Episode 190 finished. Total reward: 99.0 (99 timesteps)\n",
      "Episode 195 finished. Total reward: 30.0 (30 timesteps)\n",
      "Episode 200 finished. Total reward: 25.0 (25 timesteps)\n",
      "Episode 205 finished. Total reward: 29.0 (29 timesteps)\n",
      "Episode 210 finished. Total reward: 27.0 (27 timesteps)\n",
      "Updating the policy...\n",
      "Updating finished!\n",
      "Episode 215 finished. Total reward: 100.0 (100 timesteps)\n",
      "Episode 220 finished. Total reward: 100.0 (100 timesteps)\n",
      "Episode 225 finished. Total reward: 59.0 (59 timesteps)\n",
      "Episode 230 finished. Total reward: 74.0 (74 timesteps)\n",
      "Episode 235 finished. Total reward: 49.0 (49 timesteps)\n",
      "Episode 240 finished. Total reward: 96.0 (96 timesteps)\n",
      "Episode 245 finished. Total reward: 73.0 (73 timesteps)\n",
      "Updating the policy...\n",
      "Updating finished!\n",
      "Episode 250 finished. Total reward: 100.0 (100 timesteps)\n",
      "Episode 255 finished. Total reward: 100.0 (100 timesteps)\n",
      "Episode 260 finished. Total reward: 52.0 (52 timesteps)\n",
      "Episode 265 finished. Total reward: 100.0 (100 timesteps)\n",
      "Episode 270 finished. Total reward: 18.0 (18 timesteps)\n",
      "Updating the policy...\n",
      "Updating finished!\n",
      "Episode 275 finished. Total reward: 100.0 (100 timesteps)\n",
      "Episode 280 finished. Total reward: 92.0 (92 timesteps)\n",
      "Episode 285 finished. Total reward: 100.0 (100 timesteps)\n",
      "Episode 290 finished. Total reward: 100.0 (100 timesteps)\n",
      "Updating the policy...\n",
      "Updating finished!\n",
      "Episode 295 finished. Total reward: 100.0 (100 timesteps)\n",
      "Episode 300 finished. Total reward: 100.0 (100 timesteps)\n",
      "Episode 305 finished. Total reward: 100.0 (100 timesteps)\n",
      "Episode 310 finished. Total reward: 100.0 (100 timesteps)\n",
      "Updating the policy...\n",
      "Updating finished!\n",
      "Episode 315 finished. Total reward: 97.0 (97 timesteps)\n",
      "Episode 320 finished. Total reward: 100.0 (100 timesteps)\n",
      "Episode 325 finished. Total reward: 100.0 (100 timesteps)\n",
      "Episode 330 finished. Total reward: 100.0 (100 timesteps)\n",
      "Episode 335 finished. Total reward: 100.0 (100 timesteps)\n",
      "Updating the policy...\n",
      "Updating finished!\n",
      "Episode 340 finished. Total reward: 100.0 (100 timesteps)\n",
      "Episode 345 finished. Total reward: 100.0 (100 timesteps)\n",
      "Episode 350 finished. Total reward: 95.0 (95 timesteps)\n",
      "Episode 355 finished. Total reward: 100.0 (100 timesteps)\n",
      "Updating the policy...\n",
      "Updating finished!\n",
      "Episode 360 finished. Total reward: 100.0 (100 timesteps)\n",
      "Episode 365 finished. Total reward: 100.0 (100 timesteps)\n",
      "Episode 370 finished. Total reward: 100.0 (100 timesteps)\n",
      "Episode 375 finished. Total reward: 100.0 (100 timesteps)\n",
      "Updating the policy...\n",
      "Updating finished!\n",
      "Episode 380 finished. Total reward: 100.0 (100 timesteps)\n",
      "Episode 385 finished. Total reward: 100.0 (100 timesteps)\n",
      "Episode 390 finished. Total reward: 100.0 (100 timesteps)\n",
      "Episode 395 finished. Total reward: 100.0 (100 timesteps)\n",
      "Updating the policy...\n",
      "Updating finished!\n",
      "Episode 400 finished. Total reward: 85.0 (85 timesteps)\n",
      "Episode 405 finished. Total reward: 100.0 (100 timesteps)\n",
      "Episode 410 finished. Total reward: 100.0 (100 timesteps)\n",
      "Episode 415 finished. Total reward: 100.0 (100 timesteps)\n",
      "Episode 420 finished. Total reward: 100.0 (100 timesteps)\n",
      "Updating the policy...\n",
      "Updating finished!\n",
      "Episode 425 finished. Total reward: 100.0 (100 timesteps)\n",
      "Episode 430 finished. Total reward: 100.0 (100 timesteps)\n",
      "Episode 435 finished. Total reward: 100.0 (100 timesteps)\n",
      "Episode 440 finished. Total reward: 100.0 (100 timesteps)\n",
      "Updating the policy...\n",
      "Updating finished!\n",
      "Episode 445 finished. Total reward: 100.0 (100 timesteps)\n",
      "Episode 450 finished. Total reward: 100.0 (100 timesteps)\n",
      "Episode 455 finished. Total reward: 100.0 (100 timesteps)\n",
      "Episode 460 finished. Total reward: 100.0 (100 timesteps)\n",
      "Updating the policy...\n",
      "Updating finished!\n",
      "Episode 465 finished. Total reward: 100.0 (100 timesteps)\n",
      "Episode 470 finished. Total reward: 100.0 (100 timesteps)\n",
      "Episode 475 finished. Total reward: 100.0 (100 timesteps)\n",
      "Episode 480 finished. Total reward: 100.0 (100 timesteps)\n",
      "Updating the policy...\n",
      "Updating finished!\n",
      "Episode 485 finished. Total reward: 100.0 (100 timesteps)\n",
      "Episode 490 finished. Total reward: 100.0 (100 timesteps)\n",
      "Episode 495 finished. Total reward: 100.0 (100 timesteps)\n",
      "Episode 500 finished. Total reward: 100.0 (100 timesteps)\n",
      "Model saved to /notebooks/rl2024/ex1/results/model/CartPole-v1_params.pt\n",
      "------Training finished.------\n"
     ]
    }
   ],
   "source": [
    "if not skip_training:\n",
    "    t.train(cfg_path=Path().cwd()/'cfg'/'cartpole_v1.yaml', cfg_args=dict(seed=1, max_episode_steps=100, model_name=\"CartPole-v1\")) # < 5 mins"
   ]
  },
  {
   "cell_type": "code",
   "execution_count": 35,
   "id": "1f8cd415-c26a-44cf-9f76-f80237cdd918",
   "metadata": {
    "tags": []
   },
   "outputs": [
    {
     "data": {
      "image/png": "[encoded data removed]",
      "text/plain": [
       "<Figure size 450x300 with 1 Axes>"
      ]
     },
     "metadata": {},
     "output_type": "display_data"
    }
   ],
   "source": [
    "if not skip_training:\n",
    "    u.plot_reward(Path().cwd()/'results'/'logging'/'CartPole-v1_1.csv', 'CartPole')"
   ]
  },
  {
   "cell_type": "markdown",
   "id": "b0230ba0",
   "metadata": {
    "deletable": false,
    "editable": false,
    "nbgrader": {
     "cell_type": "markdown",
     "checksum": "4b2dc935e91cccb3f0345d4c423e7190",
     "grade": false,
     "grade_id": "cell-64fbeb2b60de708a",
     "locked": true,
     "schema_version": 3,
     "solution": false,
     "task": false
    }
   },
   "source": [
    "The command below will evaluate the trained model in 10 episodes and report the average reward (and episode length) for these 10 episodes. Do not delete the cell below as it is used for grading."
   ]
  },
  {
   "cell_type": "code",
   "execution_count": null,
   "id": "95418d8d",
   "metadata": {
    "deletable": false,
    "editable": false,
    "nbgrader": {
     "cell_type": "code",
     "checksum": "8b492043c94a6382f5ff92b768d1cc89",
     "grade": true,
     "grade_id": "cell-8b1bd0d092f865b7",
     "locked": true,
     "points": 10,
     "schema_version": 3,
     "solution": false,
     "task": false
    },
    "tags": []
   },
   "outputs": [
    {
     "name": "stdout",
     "output_type": "stream",
     "text": [
      "Numpy/Torch/Random Seed:  688\n",
      "Loading model from /notebooks/rl2024/ex1/results/model/CartPole-v1_params.pt ...\n",
      "Testing...\n",
      "Test ep reward: 123.0 seed: 434\n",
      "Test ep reward: 144.0 seed: 308\n",
      "Test ep reward: 128.0 seed: 922\n",
      "Test ep reward: 127.0 seed: 231\n",
      "Test ep reward: 121.0 seed: 961\n"
     ]
    }
   ],
   "source": [
    "%%capture --no-stdout\n",
    "assert t.test(episodes=10, cfg_path=Path().cwd()/'cfg'/'cartpole_v1.yaml', \n",
    "        cfg_args=dict(testing=True, save_video=(not skip_training), save_model=False, seed=None, max_episode_steps=500,model_name=\"CartPole-v1\")) > 100"
   ]
  },
  {
   "cell_type": "markdown",
   "id": "7829f371",
   "metadata": {},
   "source": [
    "Report below the average reward after testing the model"
   ]
  },
  {
   "cell_type": "markdown",
   "id": "18da8596",
   "metadata": {
    "deletable": false,
    "nbgrader": {
     "cell_type": "markdown",
     "checksum": "e556373c147e8173d8451bd1c237691e",
     "grade": true,
     "grade_id": "cell-24f7f8d91599a232",
     "locked": false,
     "points": 0,
     "schema_version": 3,
     "solution": true,
     "task": false
    }
   },
   "source": [
    "Average test reward: 131.2 episode length: 131.2"
   ]
  },
  {
   "cell_type": "markdown",
   "id": "65a689b7",
   "metadata": {
    "deletable": false,
    "editable": false,
    "nbgrader": {
     "cell_type": "markdown",
     "checksum": "9f2c06a70d499a71cbcb437b5400a3c1",
     "grade": false,
     "grade_id": "cell-17b4eb8d711f2770",
     "locked": true,
     "schema_version": 3,
     "solution": false,
     "task": false
    }
   },
   "source": [
    "The agent acting in the environment can be seen using the following command. Change the ```path``` to pick the episode you want to visualize. Bear in mind by default video saving for training is taken every 50 episodes."
   ]
  },
  {
   "cell_type": "code",
   "execution_count": 44,
   "id": "ee7bc0ff",
   "metadata": {
    "tags": []
   },
   "outputs": [
    {
     "name": "stdout",
     "output_type": "stream",
     "text": [
      "test/ ex1-episode-0.mp4\n"
     ]
    },
    {
     "data": {
      "text/html": [
       "<div style=\"width: 200px; height: 100px;; border: 1px solid #FF5733;\"><video loop autoplay  width=\"200\"  height=\"100\">\n",
       " <source src=\"data:video/mp4;base64,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\" type=\"video/mp4\">\n",
       " Your browser does not support the video tag.\n",
       " </video></div>"
      ],
      "text/plain": [
       "<IPython.core.display.HTML object>"
      ]
     },
     "metadata": {},
     "output_type": "display_data"
    },
    {
     "name": "stdout",
     "output_type": "stream",
     "text": [
      "test/ ex1-episode-50.mp4\n"
     ]
    },
    {
     "data": {
      "text/html": [
       "<div style=\"width: 200px; height: 100px;; border: 1px solid #FF5733;\"><video loop autoplay  width=\"200\"  height=\"100\">\n",
       " <source src=\"data:video/mp4;base64,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\" type=\"video/mp4\">\n",
       " Your browser does not support the video tag.\n",
       " </video></div>"
      ],
      "text/plain": [
       "<IPython.core.display.HTML object>"
      ]
     },
     "metadata": {},
     "output_type": "display_data"
    },
    {
     "name": "stdout",
     "output_type": "stream",
     "text": [
      "test/ ex1-episode-100.mp4\n"
     ]
    },
    {
     "data": {
      "text/html": [
       "<div style=\"width: 200px; height: 100px;; border: 1px solid #FF5733;\"><video loop autoplay  width=\"200\"  height=\"100\">\n",
       " <source src=\"data:video/mp4;base64,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\" type=\"video/mp4\">\n",
       " Your browser does not support the video tag.\n",
       " </video></div>"
      ],
      "text/plain": [
       "<IPython.core.display.HTML object>"
      ]
     },
     "metadata": {},
     "output_type": "display_data"
    },
    {
     "name": "stdout",
     "output_type": "stream",
     "text": [
      "test/ ex1-episode-150.mp4\n"
     ]
    },
    {
     "data": {
      "text/html": [
       "<div style=\"width: 200px; height: 100px;; border: 1px solid #FF5733;\"><video loop autoplay  width=\"200\"  height=\"100\">\n",
       " <source src=\"data:video/mp4;base64,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\" type=\"video/mp4\">\n",
       " Your browser does not support the video tag.\n",
       " </video></div>"
      ],
      "text/plain": [
       "<IPython.core.display.HTML object>"
      ]
     },
     "metadata": {},
     "output_type": "display_data"
    },
    {
     "name": "stdout",
     "output_type": "stream",
     "text": [
      "test/ ex1-episode-200.mp4\n"
     ]
    },
    {
     "data": {
      "text/html": [
       "<div style=\"width: 200px; height: 100px;; border: 1px solid #FF5733;\"><video loop autoplay  width=\"200\"  height=\"100\">\n",
       " <source src=\"data:video/mp4;base64,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\" type=\"video/mp4\">\n",
       " Your browser does not support the video tag.\n",
       " </video></div>"
      ],
      "text/plain": [
       "<IPython.core.display.HTML object>"
      ]
     },
     "metadata": {},
     "output_type": "display_data"
    },
    {
     "name": "stdout",
     "output_type": "stream",
     "text": [
      "test/ ex1-episode-250.mp4\n"
     ]
    },
    {
     "data": {
      "text/html": [
       "<div style=\"width: 200px; height: 100px;; border: 1px solid #FF5733;\"><video loop autoplay  width=\"200\"  height=\"100\">\n",
       " <source src=\"data:video/mp4;base64,AAAAIGZ0eXBpc29tAAACAGlzb21pc28yYXZjMW1wNDEAAAAIZnJlZQAAH/xtZGF0AAACrwYF//+r3EXpvebZSLeWLNgg2SPu73gyNjQgLSBjb3JlIDE2NCByMzA5NSBiYWVlNDAwIC0gSC4yNjQvTVBFRy00IEFWQyBjb2RlYyAtIENvcHlsZWZ0IDIwMDMtMjAyMiAtIGh0dHA6Ly93d3cudmlkZW9sYW4ub3JnL3gyNjQuaHRtbCAtIG9wdGlvbnM6IGNhYmFjPTEgcmVmPTMgZGVibG9jaz0xOjA6MCBhbmFseXNlPTB4MzoweDExMyBtZT1oZXggc3VibWU9NyBwc3k9MSBwc3lfcmQ9MS4wMDowLjAwIG1peGVkX3JlZj0xIG1lX3JhbmdlPTE2IGNocm9tYV9tZT0xIHRyZWxsaXM9MSA4eDhkY3Q9MSBjcW09MCBkZWFkem9uZT0yMSwxMSBmYXN0X3Bza2lwPTEgY2hyb21hX3FwX29mZnNldD0tMiB0aHJlYWRzPTEyIGxvb2thaGVhZF90aHJlYWRzPTIgc2xpY2VkX3RocmVhZHM9MCBucj0wIGRlY2ltYXRlPTEgaW50ZXJsYWNlZD0wIGJsdXJheV9jb21wYXQ9MCBjb25zdHJhaW5lZF9pbnRyYT0wIGJmcmFtZXM9MyBiX3B5cmFtaWQ9MiBiX2FkYXB0PTEgYl9iaWFzPTAgZGlyZWN0PTEgd2VpZ2h0Yj0xIG9wZW5fZ29wPTAgd2VpZ2h0cD0yIGtleWludD0yNTAga2V5aW50X21pbj0yNSBzY2VuZWN1dD00MCBpbnRyYV9yZWZyZXNoPTAgcmNfbG9va2FoZWFkPTQwIHJjPWNyZiBtYnRyZWU9MSBjcmY9MjMuMCBxY29tcD0wLjYwIHFwbWluPTAgcXBtYXg9NjkgcXBzdGVwPTQgaXBfcmF0aW89MS40MCBhcT0xOjEuMDAAgAAAAjdliIQAJ//+9bF8CmrJ84oM6DIu4Zckya62IuJtAMAAJShQAAADABLJlCWzIByZd0AAABMgA4ofQZQeYiYqxUC+6OBmriABuRe/IhMac89FYCLAmhOzbPaHXIW5YXkXieeD/ZlWfboiU46OOgXYGHnugOFijur2pz9qTwlOlyxxXFYrYlRNOAHkYJYh6SlQTZHheBeTGILqb1AvxGx7u7kPCMp+igBF9HkuEeWSYT5f24Hr2oKW6Ikuk2cETi+/ROXa6D5jBH8EOuLc1SkfHzMSADl/e1s2SoFRGdKzrwrVeHVHDI9cFAE+NEhcBzkEpxL4DZ1/EgM5mxil+lIbg3nmUKOHvjvKg4YUvFCs4gB6gAXh/Hjb510I/NVdZNjcEtgV2ZyHToNRZgQgse0cfFbZ0Owgxz6H4DLXkhlhVOBV/sNVpvwioCVcm1fnTepREyQ0FlbR3ehpbMwNBqp9qF5AJs4FDVBxeQVzk7oFQSiriM2E9Fl0fbC5ho20qlNnKzbMin8m9jcD5hCmpzXuk8GUE12YR+RDx/9Y92pr5jkZc5DL/OHM3JCSQTpfnQPzWuA4lbfTF/AnGMsRevuQwm3lOOWoafBBUTlkmWdheFBnqGFDYbOVqARHfbFkrtNAjP5V1mOV6ivNeTwRzG7BFTdDI59DC81JAycx8y2ISkk3qJcPUuAABv6Oz5xHdgl2DzvXksovZ8zLDTVOOmbsS4YNI085zAKzZDNRiwAAiYAAAAMAAAMAEBEAAAGmQZokbEI//eEAAAXX1siLY2gwMn0VgY2sa/S/G8SARGpli16pr0WKHf4VZ0KzNds2Q9cieWPL6eQw1+D1Dg7XEeRXHyntSsq8qB2YAt5x+6TUfXmnU5RCwLKNrBc37L6rGHDQ2EKnYzLTReG+bnLjGa2PQ2HtzJNLA7xdE6KCnYnVIFSp8BJW9KNvCuboTSNzAYz0He8PW2qOx23ufyeBgDKRfSGma5ja7k1Qzjss6GqJ0f+TFTtbVSsUwrgAMJzeRgJ7anZFUzdJYWfku2Zl3lJOtgMXJJYYfbfkr6gVmZYvsGMnyyZm8Yy/gUUgOUl9x1JfAPUM3sMEoRkIGXPsXSekXbAsz7mPDLCw9NGPn3tskhMnjwRtjoHhGRmsokr6cMTiZj05XhNoQM0FMS31GosfDtiwJhczcCa9r29XKtEGRaNKG4RNydp/WVmtp1a69UsGPSzpDgv0/nBtZ6uigZqjYrSnjwmUCZSUlwtF/UunOUSDo3foH43Vr4YAUtuRMYGj7HyEaGullT6wgKvtWSEgt/kMKXmBolAzjIRmFVr68W9gZUAAAABLQZ5CeIR/AAAfD+lvrQ57jv/O23kv5JzN7wgBufeUFTjfcMpFCVaYvjhGCvOzAFZ9AgNcP9zah1lS1P8ukyxKYRJLSLNNTylE27KTAAAAKgGeYXRH/wAAMjgDmK5Cr5TT+lTKwfZ0/v9vlHk20erVHOzifesKRgwD5gAAACABnmNqR/8AACO/BCcSycznQBez9MQlNDsBnELOXcrKbwAAAMdBmmhJqEFomUwIR//94QAABBfqPLmt4D8gFaUtPWDIDQWeASXtO67WGqduNgL+Dxprh1YU0Eo1EpMH1/q4bOkQAvjei+ne+tiF94vgGIJy168OsE2NMQs29MSkBBa+TOjUmGlBYYeVPJPqST+hD4XA4hhCGjY00tLlQhux3aTmmd2VZ4jj77zGjsXOT4dNHKZUmQjvK0r7uIB85CAJT6b/APIBjqn2e55v1NNlaFYa3NNGgZommazWKLDbpIZEg4z3Z8JOBzdPAAAAPEGehkURLCP/AAAWtSs4611n+fM9c5EDxQpZH68IOkI+RFQLQFHSkEusDUAB+GnY/MNd+pxul0BE0ilPgQAAADQBnqV0R/8AACPDF2ooejHDAKj1XspQJ8hrWgWS0t1PnXKfYFp0Ro/vE99qDwiiiq5HllnHAAAAGQGep2pH/wAABR0yXXJ7A5CJ7hWMrtJQz4AAAAB1QZqsSahBbJlMCEf//eEAAAQWU6C+AoV3irbkTe3l/Y3eg/a8eVzEWVFeoljqVP1dcrJ3LIyn9xs+9iLYnXG3PSPN3Cbf9bhpTvAbv6PGLknIWmI48eYt5mh+MEwodOMVhHuhyWmUmpqTZtRr8NcmOF/MlSNAAAAAOEGeykUVLCP/AAAWtSs0/V8pkK4s2gHkyhBtQAtpFhSkDmpJw/pg07TK1X3abmHg7yrfvzqhv3BZAAAAIAGe6XRH/wAAI5K6zo+f9/DASgWkjdeQdEzdbrB6xMLlAAAAIgGe62pH/wAADYSVLPcSWmauFZTJc855SdUJAAaAAQVRDwYAAABPQZrwSahBbJlMCE///fEAAAMCnvblvhuchIS3m7O/ObcppVEZLi4+P2xNNlTSeSDT9qcKaB96zgYTxDOoYSyQm+gCPYwmFaLZ3o9ngyfvUwAAACdBnw5FFSwj/wAAFrNHzq/757p11AJohSksQ6GJsGuet6GjY51cZScAAAArAZ8tdEf/AAAjwxdqNxX+wSshCou3uUAEjAlL4hcQrqO3fq5hRknnHLX/BwAAABcBny9qR/8AACO/Gs57Koyrf+6BkeNC2gAAAHVBmzRJqEFsmUwIR//94QAABBS0kS/SGkUTcxPlwo7iD92FTouD761aljbDkACck1YXQV7PC2guz070AG94zahR/4jbZNJGfLZmJUjNJ7o6ZvOtdke27HXbvifB1NFWUnnrZDghciYSPFNtJjl76TRDzeodvUwAAABBQZ9SRRUsI/8AABayrIuTFx2qZvskMbkVX+J7iFw5QWFmXgPvwv6YqwAUODMmk6orHR6rpzYgANXZ22MGpE6MtmEAAAAdAZ9xdEf/AAAjwz4OdbRuGrt54V+9Ey4d5zec+DAAAAAqAZ9zakf/AAAjrl/xt2rH105NCp605qUJzMIOqh4c9tM+osOQHok9wHwYAAAAgkGbeEmoQWyZTAhH//3hAAAENRRFMbG/eHH8glKXlvgLO/LLjOVCQ6Q1Som+i8Hr9aF/5dG8TDotqIBl9zcFbn4j+KiycnIjCzNGlwxAyK/wlPaeKHOhWJ+BFuwWjLEdq0j7vzf0kud0/P0w9oK2CFJblFug7vXVDZV23a0UVPWiIWEAAAAtQZ+WRRUsI/8AABdCrB6i8CucTeBjcMecdnKtcWL/bMHNi6n69NutBAxAqMQEAAAALAGftXRH/wAAJKv4XDZ58mfPxnHYwCGZR5Yb0Ifsqco4WkLRR8+oakFENtmBAAAALwGft2pH/wAAJK5eM4IyAZ8mSlL7dKyTpYHk5Wz8lOpbvgAtcD2jJNEXvZkNbLZNAAAAmkGbvEmoQWyZTAhH//3hAAAENRSfzteAnq1/GP1M3WIxVehGf+A2qEWHTaG2iktcSJ9TSU7u1l6cltUHWURgt3yCkS20mn9yL/79u4peaGCSF6UCgnewhA9KD8ZscU3wpTPbUme2p5k2dLpP/JTVmCee7j92PG+w5/IHTaFpfub1cEDzoPsjhKizjB3czDsEAxWzTX7/qAT124AAAAA5QZ/aRRUsI/8AABdLW26m5ldCQHgrfUXJJmm+lKRN+bNc3b5EK205JXaOkrBJ3poVmm1zNHFFpGO3AAAALAGf+XRH/wAAJMCZ3elekWUVZsbQqLPcT1eLslxHzw0C8nAOjtsTOc8576OSAAAAKAGf+2pH/wAAJK1bZnBnSHFcnyfBUa5MTvRiph7EbId90X1dTshAUfEAAACFQZvgSahBbJlMCEf//eEAAAQ0tyVk4TQBzQPEY0gWyjX3FiJr4mReXZCVYcy0B7rtuVAFkRBqTDwaKIxYlIEFZAdCH1jsvNJl4P3E6KwVdyZq9LgWmE23pHBQFFvBSPI/oXmvGsgLGz+mVrW2nLpnrvw1l3hFVRNn6wLrc5iswbCwqwjiTQAAAD5Bnh5FFSwj/wAAF0ID6Y/lgIhhpxvMyfDt+VoOCajRP4fWi2PKvonbUPrx3173SuCO5WkzTzDQKg+0nHZ+zAAAACQBnj10R/8AACSp6ccThZblFvXPsfxAL/8hblW7kISiAo069UYAAAAiAZ4/akf/AAAkrVwOj1RquoDUnGDvID7FTUPJ3VjZu2xO3QAAAHBBmiJJqEFsmUwUTCP//eEAAAQ0tXpJi2PyugdYABVajEE0XkLLHL2lmcM2Qy1vjx6EoSs+xcfQdLOzBFWvJKWx72XW+ucSVX3JNdvLv9h8cP/Wzh//JH0dZ1LaE34pnrJVBdFAqwaJ4PCHwlh1odD+AAAAKgGeQWpH/wAAJK5gBQp/NKke1rpQ+K/RXHqyql7TKsVGxfYHWrbbwVTswQAAAIhBmkZJ4QpSZTAhH/3hAAAEU05FP3aK9LIL0js+wABx2tpw9PEx5IPD/ls5fcAWWyw65D7TOLq4Rhwz9/sOWocqQ5KW8OY8A1DoIHlQLIhUgUdHQRNktXhg9tYnyXCyBI8xY9uM6EfMQrNWNbX364OzzwFTTrFnc9wedrpDgQHumisBKkqj03MeAAAASkGeZEU0TCP/AAAX6GMbXPbmKoArTlwzheAAexQrQqfI9/PhbV+MkzONOA+qIANbuYpAugBukTIcXeQ4P4z0H0Fh+PlSAQsi80qBAAAAKwGeg3RH/wAAJb/vjPkaTwYHzl1Tdg+erOIZfIFUP2+JdOoOuMZZbXgY/ZkAAAA8AZ6Fakf/AAAlvYOBygd4vstrfrMF232xkv2TxxWw93QnD1vB95pZZIqocHyrkYw9XXzZbdL58+vXHlEZAAAAh0GaiEmoQWiZTBTwj/3hAAAEVooeTQ9By0AuNSOfpYuCFaqrBRA4LIJmPXaMHxLkUpUaOrjnaCJOROKZ3clv3tE/Ed0ABN+H22TK8IprTNpGqWSvei4LdH9dzC0rKhmpm9EOJs4Hd8ARG1CoUNBGLs1t+0G1w7HwNe9xsJiM1+zkZ8dAMdHfrwAAADkBnqdqR/8AACWtW2Zw7MPks6R9R5Lsoarzu083I/9pYEomduWBtE0AdT0y/2ALV5K+JshjBEkqGRYAAACZQZqsSeEKUmUwI//8hAAAEN257jBzUACwvh8VYUyN7th6P4Sj4HMnVtq2IvAaURcD7yK3WWJC2ePWUi3dhewdt8yy7p3ukI9BrUS1ZL80H5fGdhDr293bIKToOHmrglWj2kV7s6W05EarjNIaoUx23Qy4VhN/8ha3lFk3ihSypwh3xx/ZX5Oz5iX/pJAIPIePOawDJOMSW/eAAAAASEGeykU0TCP/AAAX6GMZQS7CGkM8KL5N4kcSverZsYNyfFj7HGe7x+/ff4y3a4fbUiNoX0Z1KYAMF9iusVXABxYwmQHDAvG+4QAAAEMBnul0R/8AACXAmRm7rcKjroCqqJ/0iS4CdvJGI/UWSi7URiqGTJrbgWpqOppQUGfoBX8HM/qAD9k3F6Gry4oClvuAAAAASAGe62pH/wAAJb2BjrTGdmXCDPhBL4rytmT3Yp/1i0EQ6j3ZOjUa8WBkhBeo53JWO7Fz9KYDjlSLFSByq8jPPK3vRv2Ot3bPgAAAAJRBmu1JqEFomUwIR//94QAABFNb0aGE6tCEAxcj51ET+W61AFwtH9rPHgNzhdvntEAMUXeLzu8a5OMQZUj7YF2eUiqMO+4FfT1UAs2SCtVvtyZS17s1zuodHGoI68H1Fc9wtBEeOU5daxWJk9kf4J7CvXe53Jm7ToFPehnmmkmKnx+wHdME8ra96G8NynO5frWzv/XBAAAAQ0GbEUnhClJlMCEf/eEAAARzUl169+lDLbY7wA+ZMibm6yHONS9xelntCZgeE6ra+OucD2mZiUQI9J6FW3xWuMggyLEAAABJQZ8vRTRMI/8AABh/dR0E9w/dYMik9AARFewmkn+s8c2muKzpT44+Oeaj5dd9CpGvfcPFe7Xc3W5NZl5g1UhTx2wS8Llhj4zPgQAAAEIBn050R/8AACa/71v8wOf8jwq5QwZqTVMsd9kEBUKAguOD3xi7lVzdgEp/eDMF/QAAHeoQFj1CUeZzb01ZceUCTPgAAAA4AZ9Qakf/AAAmrVwMPbVN5CYxVkBPjJj27rGeyueMiQwbvlJIQ8AJMr8WKVwTroM9ud2tf44lhbAAAAB8QZtTSahBaJlMFPCP/eEAAAR0t1KOhgaBxWW19bAFV655JUXOKUyUmjDcKP3UuPS4iK8jmmoByjTz5B+J0rGf//vbPzDwFrlCXUA9rSaV0BXV1PBLsf6wRqEQ3pJTvsFYhOa9mom+IKqeS8zxmd/kQFBKOkjRr5jIZ59egQAAAD0Bn3JqR/8AACatW2ZtIyyrtOz95+LqzebQ7aRqZevVkO0B52Ucj+KUAW2EHsjVJz2Z4vWIe7QpV50Hcc+AAAAAUEGbd0nhClJlMCEf/eEAAASTUlzBgpSpoArQJBrmGAah/pZXGCbaLF27GfAuAq9vehP3UZDTMtEcPswKGbJvs7scf+bQ/Lyf1gas4oZNREigAAAANUGflUU0TCP/AAAZKXxxqRQKT3Ixs5mUBE9tNHF49MtD6m5hF68lwNpgxxAJ7EI/4sBAwsqBAAAALgGftHRH/wAAJsCcJCiuYLA+9hwKEvwoKRhkUOhTn3qZgGS/Mf455jJMhl+F8yoAAAApAZ+2akf/AAAn1zMak3v84PNJAbStq932cvwgVJBhXCOyJv6d7AlRle8AAAB5QZu7SahBaJlMCEf//eEAAASXo9JiwwGnd9Ofs9Y2mKanMQuOFojS3H53OE9gRO5ACNDSIIX77VZJbcl/XPIC8J7TvZnrOBOFs0krMxs0V6b30A/qxaGercLjUI2M9Y67WyDh6mE0wHJo4UKqk4wCwWh4p+2KUXoBCQAAAEpBn9lFESwj/wAAGSh7xtDHW28/phB2t/oz/wA3LRcwC5AnnIDpHwditfaNQH3N86CWlpGVRcJAMMXebl55x5IQfcBg5tPHVXRnLgAAADABn/h0R/8AACe/nWc1inCPQugjnJQJ1UciYDl9hvz2FFEgBtRq2cVqqxfL+n5q3asAAAA7AZ/6akf/AAAnxBm+nK/6JeGO3t3CRLqWe6KdI7stmWmEQuRbMCWE8GoXoLhgYmBOXUKVrOdObdkQexYAAABXQZv/SahBbJlMCEf//eEAAAS0t/7JN1AarrlyFshE1eT/s3j3SG0oAbJTeJlfCagz3RFUHWfV6QHwfSCGtZ6YASbxUaYlfb9MasJPeKLHZAxAXuZmvliBAAAANkGeHUUVLCP/AAAZv4WwD4CmVfRtLpNUwB3+hBp2lkaVmaxHRD0JUbLVby1at69W6dXOgkMziwAAADQBnjx0R/8AACj9oGmmr/FF3VvfEvqPZzkbXCsAwwXR8r2XUsXkPDi8b3cbGYNAVp2+DHWAAAAAOQGePmpH/wAAKOQZMnoBPxhNHtcrV6AIgbO0eLATVSVPygNyvSVo1ha0t0Jc4G19pjwo4PSyJZt2wAAAAJFBmiNJqEFsmUwIR//94QAABNNUa2M4e6JD/DfvEpm0rYmehS1FBxIOvlwFsYin/NZmVjYsCTPL0Q9YoXG4Ge5TsXZZvBM7U2qS9+vMGm+NgmItEC4Ehqp5ihDiXGuGBPzkOHcY+VJH+I4NRgZGShdj8RuSdQrfFit9clk1F+YRh/LS10e3x1Vfd2+0S/bPT2RBAAAATUGeQUUVLCP/AAAaaYWMXqOnDdKlt+D6CwowlPHfJUtG2Ezn/5mqVX8hCzCKCeZi88TgRwSoEVa6UGJvO09aKmcT6fLgHp/NTPjwBGZ8AAAAKAGeYHRH/wAAKN+dZzLYebMFPWhd7iE400ZOhA1k0sbrWRS3FrAKGmEAAAA2AZ5iakf/AAAqGYDYL4Pn4aluqvVc9tBzJtdQuBByzwa5sxT55uroHBNF02Ek03SMcDwwaT3AAAAAgUGaZkmoQWyZTAhH//3hAAAE01JcwZDiAU5ny3Vh56SaSHg4UVTUSjoPPrqTm9Bm9/CgcC7eKYh3AiKV3e/tahVA6T92YCDA1esQGRetTXCZ8n+qHmYI5fT0+vYZholEXXhiw+cwqxzcjE91eku/9O/RyMc40O7U54lqne993uKAgQAAADRBnoRFFSwj/wAAGmibT/Oo1kxKAHuueDvR0U/P1xJ2Ow+AgPlgZAJYs1Cb94a4OLKVuOuVAAAANAGepWpH/wAAKgKcn/l5SJ/E/+MEogBbi5JWlYKlHT41uMnQWCGZ4yVKR60cvLEZU9TquUEAAABeQZqqSahBbJlMCEf//eEAAAT1lF02ovH/LyLjiZx5AD/uubDJuaFRAT7rrA4tyWN+vOvGtBvYjqhl1hOVkVFroub4032T8sLQTC6ahtAvC9odSr/g3Ss1jeTULXNcWwAAAD5BnshFFSwj/wAAGwl8hVJ404gGepZKEC2JoIi1cAAWyMp8+Oxfhur6KXWAFvFvGlBwuh/IDvkcrIkXYbNxkgAAAD4Bnud0R/8AACoanSlEqaXnInt7i8Y5/qSVSwwJ4WHqQniiY6kscpuUAC2YW/oY/9HSQbpEz3YI82A196ssOAAAACgBnulqR/8AACs2jmbqRqns/Xii9rMLZ0CKY3RbPFr+O0gi8AK2B7oPAAAAQ0Ga7EmoQWyZTBRMI//94QAABPWL5LtklzIxgjlhDBUwVkSCGvw+odTocuFiyDAO4Sq0hSXoeQnKuSA4lc5ABQHYcCAAAAA4AZ8Lakf/AAArNzLhsEQC85X05/qZa3AV7qOjNYDcgFUYPIOTSVbOIQAAP25Eil/BfIzuHhczx6oAAAC8QZsQSeEKUmUwIR/94QAABR2neB8VeATK8/hNioO5xYF4DkJOJ8o96Z7F1bgDGoTEz5XbSBmtCbeb+bMFSzAGtmcqAF7TSAOjNsT2KWdLCJJ+Hb1bYAWS3MYSzK6DloBXFQZ+BGoSG3dRPHHlkWQM11YPMBRf/yMftCID5obqOG+V7wEBraCFJvfYDK/DZVF/DAE7vHjS8mqvdDsdl55E4nMk5G0sW18t2WR6+Npbb55DCHDW2kuJqd0s+9EAAABUQZ8uRTRMI/8AABuohGexCz7/auhh1zpJL6BbnaVQO7XarStORPfOkNQ+Gpx27WMmH52xADdlZ8/qIQb+C0+Ek6s9QNkRUzt2cUBU63Q0I4TUeyHTAAAAOQGfTXRH/wAALF4y7vLbTpuiH5powl5j8tCMfSSrjClselh5elw5LS81O3AVLM+hoRujNT87FcYjBQAAAEMBn09qR/8AACxDDh/4vUgFOcBSwYp5r+Yvo/I9EQfkPKpHOc9sOK1ACEN+Gq9yGFm5iAf9FzK3AFzUK/WJfm39drLAAAAAoUGbVEmoQWiZTAhH//3hAAAFPZa1Yuc+TnvVg9ScUA9b3Bk861847dQ5+OFC1fnabQVRx52AFgBO6D2emglXPbqBqB5J+WOPbPqA1wj3AeoZZWFiyDv42/hqOxDYXX9tUXmhQOx35fQNFQk2hbq8xLZ6JbTSvk9U8buXJRzpELjMhzzWmg45h9A/88jWSXpIsgnvJFRWFHTR21GTCfyFdBkDAAAAakGfckURLCP/AAAcWGkfbShqrFfTRbJQTR5x9oB6g86yCMCO89fX2KhGDP5OaEddxhT53BmnYdhRAhOevD2y2OSjXg+joqfPIjAwGlGZ6JnjnU6/b/mU3ABLO1pepl2MpJLd6mLj7KiXaz8AAABRAZ+RdEf/AAAsNAiCtzAmU5WzKiUOLarTcZK62eRfraoQSJTg5+1WNpEIxhw87WEAP7KMEEOntxNrYGMk03t8PoBgfG1fa/QAC4CzFuOeCG/gAAAAUwGfk2pH/wAALXbBDK8RFOuyyqSYSnzyE0iEOXAALYQvdfh4VCt89sE76zZPgOGO30kndZc/WArFZECG5SCvizH65Wl4pU29Nhgz+jn0bSrFvFlAAAAAFkGblUmoQWyZTAj//IQAAAMAAAMAwIEAAAcrbW9vdgAAAGxtdmhkAAAAAAAAAAAAAAAAAAAD6AAABrgAAQAAAQAAAAAAAAAAAAAAAAEAAAAAAAAAAAAAAAAAAAABAAAAAAAAAAAAAAAAAABAAAAAAAAAAAAAAAAAAAAAAAAAAAAAAAAAAAAAAAAAAgAABlV0cmFrAAAAXHRraGQAAAADAAAAAAAAAAAAAAABAAAAAAAABrgAAAAAAAAAAAAAAAAAAAAAAAEAAAAAAAAAAAAAAAAAAAABAAAAAAAAAAAAAAAAAABAAAAAAlgAAAGQAAAAAAAkZWR0cwAAABxlbHN0AAAAAAAAAAEAAAa4AAACAAABAAAAAAXNbWRpYQAAACBtZGhkAAAAAAAAAAAAAAAAAAAyAAAAVgBVxAAAAAAALWhkbHIAAAAAAAAAAHZpZGUAAAAAAAAAAAAAAABWaWRlb0hhbmRsZXIAAAAFeG1pbmYAAAAUdm1oZAAAAAEAAAAAAAAAAAAAACRkaW5mAAAAHGRyZWYAAAAAAAAAAQAAAAx1cmwgAAAAAQAABThzdGJsAAAAsHN0c2QAAAAAAAAAAQAAAKBhdmMxAAAAAAAAAAEAAAAAAAAAAAAAAAAAAAAAAlgBkABIAAAASAAAAAAAAAABFUxhdmM2MC4zMS4xMDIgbGlieDI2NAAAAAAAAAAAAAAAGP//AAAANmF2Y0MBZAAf/+EAGWdkAB+s2UCYM+XhAAADAAEAAAMAZA8YMZYBAAZo6+PLIsD9+PgAAAAAFGJ0cnQAAAAAAACUngAAlJ4AAAAYc3R0cwAAAAAAAAABAAAAVgAAAQAAAAAUc3RzcwAAAAAAAAABAAAAAQAAArhjdHRzAAAAAAAAAFUAAAABAAACAAAAAAEAAAUAAAAAAQAAAgAAAAABAAAAAAAAAAEAAAEAAAAAAQAABQAAAAABAAACAAAAAAEAAAAAAAAAAQAAAQAAAAABAAAFAAAAAAEAAAIAAAAAAQAAAAAAAAABAAABAAAAAAEAAAUAAAAAAQAAAgAAAAABAAAAAAAAAAEAAAEAAAAAAQAABQAAAAABAAACAAAAAAEAAAAAAAAAAQAAAQAAAAABAAAFAAAAAAEAAAIAAAAAAQAAAAAAAAABAAABAAAAAAEAAAUAAAAAAQAAAgAAAAABAAAAAAAAAAEAAAEAAAAAAQAABQAAAAABAAACAAAAAAEAAAAAAAAAAQAAAQAAAAABAAADAAAAAAEAAAEAAAAAAQAABQAAAAABAAACAAAAAAEAAAAAAAAAAQAAAQAAAAABAAADAAAAAAEAAAEAAAAAAQAABQAAAAABAAACAAAAAAEAAAAAAAAAAQAAAQAAAAABAAACAAAAAAEAAAUAAAAAAQAAAgAAAAABAAAAAAAAAAEAAAEAAAAAAQAAAwAAAAABAAABAAAAAAEAAAUAAAAAAQAAAgAAAAABAAAAAAAAAAEAAAEAAAAAAQAABQAAAAABAAACAAAAAAEAAAAAAAAAAQAAAQAAAAABAAAFAAAAAAEAAAIAAAAAAQAAAAAAAAABAAABAAAAAAEAAAUAAAAAAQAAAgAAAAABAAAAAAAAAAEAAAEAAAAAAQAABAAAAAACAAABAAAAAAEAAAUAAAAAAQAAAgAAAAABAAAAAAAAAAEAAAEAAAAAAQAAAwAAAAABAAABAAAAAAEAAAUAAAAAAQAAAgAAAAABAAAAAAAAAAEAAAEAAAAAAQAABQAAAAABAAACAAAAAAEAAAAAAAAAAQAAAQAAAAABAAACAAAAABxzdHNjAAAAAAAAAAEAAAABAAAAVgAAAAEAAAFsc3RzegAAAAAAAAAAAAAAVgAABO4AAAGqAAAATwAAAC4AAAAkAAAAywAAAEAAAAA4AAAAHQAAAHkAAAA8AAAAJAAAACYAAABTAAAAKwAAAC8AAAAbAAAAeQAAAEUAAAAhAAAALgAAAIYAAAAxAAAAMAAAADMAAACeAAAAPQAAADAAAAAsAAAAiQAAAEIAAAAoAAAAJgAAAHQAAAAuAAAAjAAAAE4AAAAvAAAAQAAAAIsAAAA9AAAAnQAAAEwAAABHAAAATAAAAJgAAABHAAAATQAAAEYAAAA8AAAAgAAAAEEAAABUAAAAOQAAADIAAAAtAAAAfQAAAE4AAAA0AAAAPwAAAFsAAAA6AAAAOAAAAD0AAACVAAAAUQAAACwAAAA6AAAAhQAAADgAAAA4AAAAYgAAAEIAAABCAAAALAAAAEcAAAA8AAAAwAAAAFgAAAA9AAAARwAAAKUAAABuAAAAVQAAAFcAAAAaAAAAFHN0Y28AAAAAAAAAAQAAADAAAABidWR0YQAAAFptZXRhAAAAAAAAACFoZGxyAAAAAAAAAABtZGlyYXBwbAAAAAAAAAAAAAAAAC1pbHN0AAAAJal0b28AAAAdZGF0YQAAAAEAAAAATGF2ZjYwLjE2LjEwMA==\" type=\"video/mp4\">\n",
       " Your browser does not support the video tag.\n",
       " </video></div>"
      ],
      "text/plain": [
       "<IPython.core.display.HTML object>"
      ]
     },
     "metadata": {},
     "output_type": "display_data"
    },
    {
     "name": "stdout",
     "output_type": "stream",
     "text": [
      "test/ ex1-episode-300.mp4\n"
     ]
    },
    {
     "data": {
      "text/html": [
       "<div style=\"width: 200px; height: 100px;; border: 1px solid #FF5733;\"><video loop autoplay  width=\"200\"  height=\"100\">\n",
       " <source src=\"data:video/mp4;base64,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\" type=\"video/mp4\">\n",
       " Your browser does not support the video tag.\n",
       " </video></div>"
      ],
      "text/plain": [
       "<IPython.core.display.HTML object>"
      ]
     },
     "metadata": {},
     "output_type": "display_data"
    },
    {
     "name": "stdout",
     "output_type": "stream",
     "text": [
      "test/ ex1-episode-350.mp4\n"
     ]
    },
    {
     "data": {
      "text/html": [
       "<div style=\"width: 200px; height: 100px;; border: 1px solid #FF5733;\"><video loop autoplay  width=\"200\"  height=\"100\">\n",
       " <source src=\"data:video/mp4;base64,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\" type=\"video/mp4\">\n",
       " Your browser does not support the video tag.\n",
       " </video></div>"
      ],
      "text/plain": [
       "<IPython.core.display.HTML object>"
      ]
     },
     "metadata": {},
     "output_type": "display_data"
    },
    {
     "name": "stdout",
     "output_type": "stream",
     "text": [
      "test/ ex1-episode-400.mp4\n"
     ]
    },
    {
     "data": {
      "text/html": [
       "<div style=\"width: 200px; height: 100px;; border: 1px solid #FF5733;\"><video loop autoplay  width=\"200\"  height=\"100\">\n",
       " <source src=\"data:video/mp4;base64,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\" type=\"video/mp4\">\n",
       " Your browser does not support the video tag.\n",
       " </video></div>"
      ],
      "text/plain": [
       "<IPython.core.display.HTML object>"
      ]
     },
     "metadata": {},
     "output_type": "display_data"
    },
    {
     "name": "stdout",
     "output_type": "stream",
     "text": [
      "test/ ex1-episode-450.mp4\n"
     ]
    },
    {
     "data": {
      "text/html": [
       "<div style=\"width: 200px; height: 100px;; border: 1px solid #FF5733;\"><video loop autoplay  width=\"200\"  height=\"100\">\n",
       " <source src=\"data:video/mp4;base64,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\" type=\"video/mp4\">\n",
       " Your browser does not support the video tag.\n",
       " </video></div>"
      ],
      "text/plain": [
       "<IPython.core.display.HTML object>"
      ]
     },
     "metadata": {},
     "output_type": "display_data"
    },
    {
     "name": "stdout",
     "output_type": "stream",
     "text": [
      "test/ ex1-episode-500.mp4\n"
     ]
    },
    {
     "data": {
      "text/html": [
       "<div style=\"width: 200px; height: 100px;; border: 1px solid #FF5733;\"><video loop autoplay  width=\"200\"  height=\"100\">\n",
       " <source src=\"data:video/mp4;base64,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\" type=\"video/mp4\">\n",
       " Your browser does not support the video tag.\n",
       " </video></div>"
      ],
      "text/plain": [
       "<IPython.core.display.HTML object>"
      ]
     },
     "metadata": {},
     "output_type": "display_data"
    }
   ],
   "source": [
    "if not skip_training:\n",
    "    # Train Result\n",
    "    video_dir = work_dir/'video'/'CartPole-v1'/'train'\n",
    "    \n",
    "    # List all MP4 files in the directory\n",
    "    mp4_files = [file for file in os.listdir(video_dir) if file.endswith(\".mp4\")]\n",
    "    frame_colors = ['#FF5733', '#33FF57', '#5733FF', '#FFFF33', '#33FFFF', '#FF33FF']\n",
    "    # Display each MP4 file\n",
    "    for i, mp4_file in enumerate(mp4_files):\n",
    "        video_path = os.path.join(video_dir, mp4_file)\n",
    "        video = Video(video_path, embed=True, html_attributes=\"loop autoplay\", width=200, height=100)\n",
    "        frame_color = frame_colors[i % len(frame_colors)]\n",
    "        video_frame = HTML(f'<div style=\"width: 200px; height: 100px;; border: 1px solid #FF5733;\">{video._repr_html_()}</div>')\n",
    "        print(\"test/\",mp4_file)\n",
    "        display(video_frame)"
   ]
  },
  {
   "cell_type": "code",
   "execution_count": 43,
   "id": "47f0e835-79ad-47c7-9984-bfc705927d7b",
   "metadata": {
    "tags": []
   },
   "outputs": [
    {
     "name": "stdout",
     "output_type": "stream",
     "text": [
      "test/ ex1-episode-0.mp4\n"
     ]
    },
    {
     "data": {
      "text/html": [
       "<div style=\"width: 200px; height: 100px;; border: 1px solid #5733FF;\"><video loop autoplay  width=\"200\"  height=\"100\">\n",
       " <source src=\"data:video/mp4;base64,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\" type=\"video/mp4\">\n",
       " Your browser does not support the video tag.\n",
       " </video></div>"
      ],
      "text/plain": [
       "<IPython.core.display.HTML object>"
      ]
     },
     "metadata": {},
     "output_type": "display_data"
    },
    {
     "name": "stdout",
     "output_type": "stream",
     "text": [
      "test/ ex1-episode-1.mp4\n"
     ]
    },
    {
     "data": {
      "text/html": [
       "<div style=\"width: 200px; height: 100px;; border: 1px solid #5733FF;\"><video loop autoplay  width=\"200\"  height=\"100\">\n",
       " <source src=\"data:video/mp4;base64,AAAAIGZ0eXBpc29tAAACAGlzb21pc28yYXZjMW1wNDEAAAAIZnJlZQAAKxttZGF0AAACrwYF//+r3EXpvebZSLeWLNgg2SPu73gyNjQgLSBjb3JlIDE2NCByMzA5NSBiYWVlNDAwIC0gSC4yNjQvTVBFRy00IEFWQyBjb2RlYyAtIENvcHlsZWZ0IDIwMDMtMjAyMiAtIGh0dHA6Ly93d3cudmlkZW9sYW4ub3JnL3gyNjQuaHRtbCAtIG9wdGlvbnM6IGNhYmFjPTEgcmVmPTMgZGVibG9jaz0xOjA6MCBhbmFseXNlPTB4MzoweDExMyBtZT1oZXggc3VibWU9NyBwc3k9MSBwc3lfcmQ9MS4wMDowLjAwIG1peGVkX3JlZj0xIG1lX3JhbmdlPTE2IGNocm9tYV9tZT0xIHRyZWxsaXM9MSA4eDhkY3Q9MSBjcW09MCBkZWFkem9uZT0yMSwxMSBmYXN0X3Bza2lwPTEgY2hyb21hX3FwX29mZnNldD0tMiB0aHJlYWRzPTEyIGxvb2thaGVhZF90aHJlYWRzPTIgc2xpY2VkX3RocmVhZHM9MCBucj0wIGRlY2ltYXRlPTEgaW50ZXJsYWNlZD0wIGJsdXJheV9jb21wYXQ9MCBjb25zdHJhaW5lZF9pbnRyYT0wIGJmcmFtZXM9MyBiX3B5cmFtaWQ9MiBiX2FkYXB0PTEgYl9iaWFzPTAgZGlyZWN0PTEgd2VpZ2h0Yj0xIG9wZW5fZ29wPTAgd2VpZ2h0cD0yIGtleWludD0yNTAga2V5aW50X21pbj0yNSBzY2VuZWN1dD00MCBpbnRyYV9yZWZyZXNoPTAgcmNfbG9va2FoZWFkPTQwIHJjPWNyZiBtYnRyZWU9MSBjcmY9MjMuMCBxY29tcD0wLjYwIHFwbWluPTAgcXBtYXg9NjkgcXBzdGVwPTQgaXBfcmF0aW89MS40MCBhcT0xOjEuMDAAgAAAAhJliIQAJ//+9bF8CmrJ84oM6DIu4Zckya62IuJtAMAAJShQAAADABLJlCWzIByZd0AAABMgA4ofQZQeYiYqxUCV4g4ExQAWV08dBBUUnO3zO58yfbTdXRFuUuD7qOmmq1nnOwzlABwyrjYVlYyjsRAQsmm8H49KPN3os8usyEVbvlIxiyK8kBnysdEBAtQyQ807ddjN85OtV97mgbjxSH5ulju6JT2L3j2dE+zPeuKga0dOPOrDMsoBbfpfrpWc9YlxKu/NRQi16LkJTp3x9YXX22TEEGr3oG5bAQs6qpUt2TM7kgfaMAQK0OckNrA0JmXiXgCIZ1abfdDdHSiqMBygi4tLV0cUZixlsAjj7Cu+eGPTpDkh25BYMln5DK8+BzNWAPavTysQjJinr+wEV5K5NC/YkfViGw5dRYpf1G4W+M+/zDRcifG5qAAaDcCoj+kQeT65S3wtp2uEj8eBerSXWHv+XYHjH7E6A9CbXjOXbKyErANhQ27tx0NK0Jq2yybKRGWKQedKojzKBZ/cd+cL54ZuWO17LXI0XDopzxWNrfQQLMSPSwXGsGin1d6751+2kvSawZZ6rQAtEDpm7swO0G+/+l3l9oSV2TieONt3Y5CAATkLoz/FW8hNzawHvJY9AprTLKUltrfyxpOzrHUatpDnjaV1w2+BBu+4n2QFNAC51gAAAwAAAwAAAwAAAwCSgQAAAGdBmiRsQr/+OEAAAQ0ajTQKnaYmFX1Ll+6hgfbzP2BL3XztksPXkuYDnSZZqLN4Czn61EI68Hwu8rLYzkXgp4DuTAj9bCiucl6d+L1a+ZQ8c+D1DyFOAAKK/JPmpvRtaghbYrncMkS2AAAAJ0GeQniEfwAAFrNIGJuBu23AM/E9B98m6XUs0cxVrR5SaYRJuO/XHwAAABUBnmF0R/8AACOsOQZaIHWTMbDJU0AAAAAvAZ5jakf/AAAjscwBk5oUM0o8revNHY24UlJsbis7Ni01Cv8YWjRIShbgcwgapUEAAACVQZpoSahBaJlMCEf//eEAAAQTc08haBwwSt2em0K7TUcqMPLOrlRaJW2BZn6qavio9Io4AAt62c1iNJOJz78HIy5AW2PlrHh8zRfAy1x6q4w4cWGoYM5MwWxGPGsBHimq4DW37DOqBSu9GKSpSpfh8ZTEheCjHbPM01TNpHZnutZipaXEymi6ZghGDhxyeRLwqbLzkIEAAAAyQZ6GRREsI/8AABa8Q823FhiDISEHS5AkBw/44U10dOwwTCTJhdg97LkkW49s7p8kp8EAAAAcAZ6ldEf/AAAFHFt5kk93HjyM/oDHhy6LLAlsmQAAACgBnqdqR/8AACO/BCcSyWg2LIyMjPr9kyY5ENFHQYMxoeuBHGBZpTSTAAAAoEGarEmoQWyZTAhH//3hAAADAZFkmDvQC02tpqJmpgQO/zab6QxXyth9cYXs//aGKfzUUwckgvVKJwBjr8SvGyoBoBF0aTAXRSmqBbvzJK67GBm6k9dRxYD7sBjQtTcf3+nxkt3aXMd9rgGMtuDOkFS+rcQ3iVoG46YazvGv81dGvWiphmrHn51u4Hr3jxa3pECN+ILtlubC9ChRXZwS2PAAAAA6QZ7KRRUsI/8AAAhtfD2bHvi4rU1IoDZHKIDZ5GtTjtNl7pWN2WHA2i/aEAI79mAtrgzV+NI/RZDCwQAAAB0Bnul0R/8AAA1+ANKtJf6QX2rKh6bsWKyNp1VbcAAAACEBnutqR/8AAA2ElS6ADGLV4vCpLWPFqCnWaIs7tcp54SoAAAChQZrwSahBbJlMCE///fEAAAMCnwLw4DNIc3vqbMSi6QuaHsUDzzNihX5rjD1GtOlrLAj/OLsMwCzWDCyHAL+X7teaWbxj0FOz+ySTtUQgeAeWgLpvD6pGYyy5FJTXwMBZqypqeTzDFx1DhAuO/b3OkvOZewla83qJSrdtBe7augs/IISavZUeaaceXtzgarzC6Dgda2w1p/HNWOhzxPzZXd0AAABHQZ8ORRUsI/8AABa8Q84Gg4YlVn8nLOoQCLzvttZMnOhs6OuZhEewIhILZgyrbR/5cbuankMAD34zaj799lg6+VICMiA4nwcAAAAaAZ8tdEf/AAANheuEpUonb4E3hNbYm8LYFjcAAAAdAZ8vakf/AAAjvwQnEslpmrhWUx8g+qMonFEe4ckAAACbQZs0SahBbJlMCE///fEAAAMCn7qr9NAVCANNuQ9bZevxG4dM9e7iYvppK9H+9Z3PFw+goRyxSfhdIZlUrbD92ve0uD+LbRXSMhc/8qcbNLGu4k8jrcBU4Lr+uM6rJeT9P7ora7+tVQqpd2mC8p/kYJiFywRWUrgrEgheCRfWNSH+97RX3b1QAnlJDkmM19HEPI6ThC7f7NDW8WAAAABHQZ9SRRUsI/8AABazR0gub/tLrflIG2S64mx5KbTtk3NGe9VmvKSUmFDeWRxUsoRDOOztspt8AEyf5CdxYHbJVU4D5EwYeUEAAAAeAZ9xdEf/AAAjwxd3FXldIOE9UuwVv9yPhY8opKtgAAAAHwGfc2pH/wAAI78EJxLJaZq4V0iCtPr5Et57LzzOdZUAAABcQZt4SahBbJlMCE///fEAAAMCoNVLuTUP8gQDLxrDirIsUDoUODONfRHDC2I5KerOglhFZxG8D4migvK8Jp6gYb9ARqXgtOr8dRcykAROpRJJxLmnCZSXlVChzu8AAAAmQZ+WRRUsI/8AABa8Q823FcysmUk+B0KLZsq0th2gAFsQWMQ1f8oAAAAXAZ+1dEf/AAADAAo/sq2EK21T0rCt00EAAAAqAZ+3akf/AAAjscwJVr7d+gfT9H0IZjOAKuP7Rl5fqFmGZcd7pxlbswHHAAAAekGbvEmoQWyZTAhH//3hAAAEE1u0Y21q5KaAKSXGQPE3epSFwd4yzcApSfgmt1uQ4DUH6NCrB6kJbYchKKTdH16g2wKCBbn/oz2MVVJ7EJP5ei3cjN3/E5IksB00j3a5+f0Z/miMCwirpt+++ifj4qqr1TodO7ub33lwAAAAOEGf2kUVLCP/AAAWs0e3Df/HXJybwhGd9nYn0GjUb7QLyyK6ZRtioB9zgWf2W0ykgOUxk+I2QtmBAAAAGAGf+XRH/wAAI8MXaKmlU9T7wgmNZeMyoAAAAB4Bn/tqR/8AACO/BCcSyWmauFZTHyo7lx9j0VToygkAAAAyQZvgSahBbJlMCEf//eEAAAQTW8++g7xsdhWcdiN2ACDJf8/VKTv0YmUDw3NGDtpd+sEAAAAnQZ4eRRUsI/8AABazR7gAV+26qoJCLhHJPgBxIXU/Oai3uVWZyW2YAAAAGQGePXRH/wAAI8MXaKmlU9T7wgmNRIM8UEAAAAAyAZ4/akf/AAAjvwQnbioX3ip7jxiXC+ZHlA4aHhywcF5dVjsyIp0wb6u2lB4gNTa823EAAABMQZokSahBbJlMCEf//eEAAAQUtJEmLY/LAPZQjGsiw/EArbFPElc0U1zIzV7j88aE8fajjCP40TvAAgsBYktmkDegyuj8dEPRtriRTAAAACpBnkJFFSwj/wAAFrKsjbT0vU71P2dhK3gpknaq+CAG7hCGviLEKUxP628AAAAfAZ5hdEf/AAAjrDj+9JE5he+FydRqi1BPhMK4X4oeDAAAACEBnmNqR/8AACOuX/s4EXgoWxFVpm5QoRZyJuiTD4CvbMEAAAB1QZpoSahBbJlMCEf//eEAAAQzSDLf6f7LVAuojwiLtcSPz8q1BTi7xIia8BABjJn1Nl+HBSAASu4zpzZG9uvUURHtuonPEh5K01qeMVODjcGtHLkFWHRusG4NpYB+G1CiZyIp622j2PiMDOv7Qi6pDuB3ajpBAAAAKEGehkUVLCP/AAAXQqweotYH0bYeV4TCiHrdK3BlKAYnxpcaJ0vq2YEAAAAiAZ6ldEf/AAAkwxHm+EAOQqWKw8k11Ce9TJKXEGL3y61skwAAADIBnqdqR/8AACSuXjOCL5TNrUituBXUxyLZalpp54d7ZI3WrMam1CAAmZEavHeU+FoTtwAAAFVBmqxJqEFsmUwIR//94QAABDNIMt/pcsdqnzBGAafTy5P6jVr4fXQ67N+Vaxh2A01W0AEyt2tUXyo2xve7pTc8AkEnI1Sfvb/jsFVR4sYEtxN1VUaAAAAAJkGeykUVLCP/AAAXQqvotDzTwYvmwm/mfeu5ftWbPLHg1FjFdHJBAAAAJgGe6XRH/wAAJMCZ3elekWbykIIYEMbvSHpXtTBdNaLtKR/wbOSAAAAAMAGe62pH/wAAJK5eM4GyxswZizO0Zd4IFXBPhCIvwu7DMJp6FD1LGWloyfw3U1ZJgAAAAGhBmvBJqEFsmUwIR//94QAABDNL6OfQd6aAtjAAcGYhK/wOpJj2FSaoINDvgJCQ785PngZKre10cAHFX/eJiB6noUvY0yi5dwzSLIxgU9bakcxH/q7cKr+Ao0SlV+AjuXlYSrKaDBXzsQAAAClBnw5FFSwj/wAAF0tbT/Kz4Pid12tn0g1WwgdPF2JSnWL+KXVvKZSMAwAAACIBny10R/8AACTAmd3pXpFlEfqBPFmDGTfPUj2cimuYR9MDAAAALwGfL2pH/wAAJL0mv2T/DTsKaeqT+FsjteST4shrXsJRKPEL2b+CB4LlTmo1k7XgAAAAYkGbNEmoQWyZTAhH//3hAAAEU04QRW4uz67fjqNz/706p+BUkkQzLc1iVifdAFwQEmBgQDdbC7C3/0/YYnMY6Ae1dwLHeEhB0BmhIY56b2AhkJ8cxOOySaECRhdEuf/tb/j4AAAANkGfUkUVLCP/AAAX6XxO9g9OYq89whgVDF0v0gIBtIgD2Q74gBbyRtPwbW/IEWNaxQotTDqrUwAAACwBn3F0R/8AACTAmpwaiIxaoFnEvfqMQAtsoNX5Oteljym+FKioEVtvBEp14AAAACoBn3NqR/8AACW+9HENMh+0A0+M2Sfh8PFas+kFpHsRa1gq4BWj/cZg7XgAAABGQZt4SahBbJlMCEf//eEAAARWjAoqiAHYx4Qt0bQsr0nNagEJYu4vi5m4iaAAuYsfab2cg1vPOH0Lpdflq+mU65jJIKifnQAAADBBn5ZFFSwj/wAAF99DwDvfDXDnbJFgSBGtyCA1hIx38G5CR5pOV1wpxnbXW1BH61IAAAA0AZ+1dEf/AAAlwJnd6YdIoA+FlNqbVDFLAys5OJIuk67E40fQwf9rsURH6/bewQtfrZ3jgwAAADgBn7dqR/8AACWtW8OJHZ4M90aoX5f6eqc8sFVUDhuWnDBMwAX367HByA4eZBkrSJgzAp94W6hl0wAAAIFBm7xJqEFsmUwIR//94QAABFNQOOh3fE0uWKgC4aiT1a9Y6lhCZNYne+z1ITP8aGAA9U9XsGoMkWXTaXlcXlDQAc9B+yjy3vBhG/qiODEG/q70c5rU+vokkOflsVTO8hZ4A5vjyoF+dbjlAUJ58yyomZesxxJBf+dGR3ndioZefzkAAAAqQZ/aRRUsI/8AABffdUjTDbhAh9pUR8mtBVXhm9iyTYS2Cl5I64GdDD7pAAAAIgGf+XRH/wAAJb/v26kOziyiP1A6BmVUaRtQ9ffaSQfINDYAAAAsAZ/7akf/AAAlrVvmkTLW+bVhTJ5uFZIS0HckrhyO2qOw6bnaNqD1Wvu5s+EAAABLQZv/SahBbJlMCEf//eEAAARzTgy9bpRey2XFlIQB+ARVya+spe8sRPP+VYYSOiia5kKvmt3Y6LofKrCr0DSCkOIEEYLzUNBzh6M7AAAAPEGeHUUVLCP/AAAYf3U1FotibkVBRlLpAAF1qqAlUe22HrUpfs70ETowFYmfHaFvUMtYAHz0afe+i7FpwAAAADABnj5qR/8AACatW8OJKfNJfCSckN/ctoPq1zwwyxb9J4GGpzMd3H0mvGnyLdkOrrAAAAA6QZojSahBbJlMCEf//eEAAARzUmDoYGeyPtEasIRfqskJI1LruMKAFYH6rgbfRfRwU9b45xwX8/b5uwAAACdBnkFFFSwj/wAAGH91HQteaeDF82FT13Tg4x33Y2fIC4hjK438QYAAAAA+AZ5gdEf/AAAmwJnd6B7kL0LpMROdx7yuHrI+i0ZuLe0MoZ6TIQUwDIBBSpK8MITTTM4D051MK+QOxvsKu4EAAAAtAZ5iakf/AAAmrVvDiQcFDgDtgaBjSh9xEnyCvoBMFrxwBpPra8D+lPo8NBrwAAAAf0GaZkmoQWyZTAhH//3hAAAEk04MvW6VrIQwdf7hGm27jZD0S+4B34uVMdwfq5evjp9xAXDGZjUo9fdOQTaMQBCwzWz+gZpu8K8iThynf/FV9f/5fhrXUuUgoaFU9bZ8ufRJnpRAVlmDck7dlOdvxL6Qdkjn1HwzmdOcE/34IOsAAABBQZ6ERRUsI/8AABkpfHF2EghZeQQOT6hj6KHjFAl6aZnFLOjDcfCkS0Y3DteeeFS9IoHM9e3R5VYoiNAJjQDt2BEAAAAvAZ6lakf/AAAnxBmXyRwQhba0i39z8Ie5skJlyeGEVDSKo+qt1dc+v17RE1qHcIEAAABsQZqoSahBbJlMFEwj//3hAAAEk0gy4DxAV99/WWsmdoRKb5K8Vp0/7hMDdJpYn/EUdW6QXJbPNSVWa5Tr1Ul483ogCorqRTez6T/sjnBwoEx9YG/AqB2h5wyey/qHvlmILM1W0zIFhq2g7wJBAAAANwGex2pH/wAAJ8QZMnD6Yx1CNp82sya0j/7Uvf7AwRuX5v0q99enbPJcFA74qWaRgBD2oIaM8soAAAB6QZrMSeEKUmUwIR/94QAABJZDeIX1ISAZmSyoHbR7Msvgt1UlwQLZwzPsZ5wGPfGqBOdlju2vLpA66wdVx1E1WFIiwx2BiX1NkORk3NR1yWdksVOGgu3Wm9/LHIeTssUl9eftftexldbbxJiphrTGcuZ/HMY/H7VwimAAAAAxQZ7qRTRMI/8AABnJddDtKF5G9Fa3bZlTNWjaWvfweoOitEFRxw1JJvWRR6jQBTXiwQAAADsBnwl0R/8AACe+vCKm5ksGMLuOXLbzkfsW1+HAr+Ih1IYu0Dg4LwgAs5jRE77aXnEtZ36cksXplObLgAAAADEBnwtqR/8AACj5gZFYN6yo38jHdFD95GSwudhBCOlT0QWdtk6Nc8iAExiO3uK0ATaAAAAAYUGbEEmoQWiZTAhH//3hAAAEs1PTYFWd/gv8r/qgDvnElZX8QK3+YgMXqWz96dQdxIbbHVWYPBgDEnP9YJp+6MxLnCJAhMEg5gKSxxDKnWF5ZzcprwuEdS5TR2ViklT9D8UAAAAwQZ8uRREsI/8AABm/ha9C15p4MX0HgAFiw1meOFaKDPeRm7uAM0AW/64bzF1YcGHXAAAAPgGfTXRH/wAAKN+e2lUGu7ntLMi1WLfOLCaDCNyxZRB1kK/TfVcDvvX4IICNd/hv2aR3dUQAhKJ+wxSJM97dAAAASAGfT2pH/wAAKMg6wBCBQupsjy5oY8gzsy9230N3z13lZ8TcMQ+dEk7JuSKqlGUOQS9EJnESAGwv68z8LcojOSIUp2YfnNHHgAAAAJZBm1NJqEFsmUwIR//94QAABNNSXMGCUHhrIM7GOJT5ARXzIAGkNfkSmaaQ5hJpzMWurwJuSyR/rtbPtvhbSUn1QNy7p1gyiIU2COkKUT7Jb8Z3ftcpJu35muSrCCDLXnO0+qGoGPVH6P68P0pzzcuN8VdKXUo+AhrMFpWUaDRG+zDslSo1cPZe8+1ebvoF5bvGRe0us4AAAAA5QZ9xRRUsI/8AABppgr+2aCAq3YABumudmPfHMxHCDJ0UG+VMEuJyRNb2Up5OSRArfiXN6PIkkjhBAAAALAGfkmpH/wAAKhlrffMmGElUAJLxemnvW4vpHRoZjNE2rJtDClcB+rxTIjwIAAAAiUGbl0moQWyZTAhH//3hAAAE1kM14JM1vANQzoeCBJnvU7ac+WFd475+5e1uGFnD1406/eqmxvI9qIODO5zfVrQR+VdDU36xR+ImvYBUsRcoS2YYPhalSM7Ex0SHa/wRupQscgF54HiA9O5RuYUxq/uQjT+nmfz1hWbsVFv7lg5MvDsxByanLjXIAAAAJ0GftUUVLCP/AAAaaHvLC2J4O77h3Omv80/2ABAEyTL47NPc6GSbpwAAACoBn9R0R/8AACn/npLu7JCX+hRyAuJbRYXfxDLczXPrNhhzXGXjGMoqzAgAAAAlAZ/Wakf/AAAqApyf9IZbolFJ4BtdvcpYZhtg270QXfnpDiDrDwAAAFdBm9tJqEFsmUwIR//94QAABPzdC6jDtHcsgTZUH28n0jI8FomN+K/S16gAULDywpGzWWqlAuQcKiMeP37k9JONOAIxgU9bbIR5aGgQFdcqoAH+Uq4T1dkAAAA9QZ/5RRUsI/8AABsIgBsNbHniPRCWZoByxdiQSJsuJg8eHoPDut5aoCN5BE6l+6xWQXYSChJSuWETyV6u4AAAADkBnhh0R/8AACs+VthF5G/i7SQCwstXiLa8/ur31ZO0FKqbB6d8Zk55eYl20No69wACbxOCt6Y2a7kAAAAlAZ4aakf/AAArNzLhrIfo8hpiarLjsXLFqd8lINuueK1uBjLSQAAAAHZBmh9JqEFsmUwIR//94QAABRsx5Ot17ZPDdPvjHVrg8qKp64xCnyfRuTQB0ASW4S6pnzrkuVIQqPOWwIQxViVi3H7ytzmp8tsA3ejX0y39zvgT5nveWvT7fu7V62U3MLhHzpVFr+S2/Lvj1Scd4SGPDv5TzAPhAAAAMUGePUUVLCP/AAAbqXx8smC51BvR6XK9jmOobfTwCL1Vw5mUbXCPuzsP3HME4szGGCEAAAAvAZ5cdEf/AAArObXbuWrxZzSSiN9VWwwKUwJB85XMsYALWf9nOaYO4dm38Xqg+v4AAAAqAZ5eakf/AAAsWPcawMEab87SRFp9wQs0T6puH2y+aYVRwE3LgRO4+MYIAAAAUEGaQUmoQWyZTBRMI//94QAABRmODL1ulLxQCEQkfjeJdvgI+X763KSVwYMUXDx725ROSGY1An/6D1kum4ovr4csINmU4AZCRzzU7WvEqEJVAAAAKQGeYGpH/wAALEKocJxEqUOioy1eqZPyzUSPErBJKhupzW40bcTYK1lMAAAAU0GaZEnhClJlMCEf/eEAAAU9k9M2fHH/LyKg9Wyp8bPNsIDy0/AYfWGu0lKTiNFgS3hQNXjRGntm7SjHAA0R30L/0K4Flvx7U/zlkZhCuX8uUc51AAAAM0GegkU0TCP/AAAcWHq64WrTi+++1tBMk1tO7Fbbe+O6HPEkE8PoIaN4NIWR7riuP5GLcAAAAC0BnqNqR/8AAC15gRChTAvnoe74sxUBmoRafTWdRyufX8ckJpAJPmXzcaF8MOEAAACYQZqoSahBaJlMCEf//eEAAAVFVJ2RH1u/7XOyPb8aoAuGmgO4qdeWyQrMPn1v1JHyCeRX9hNkIPRVeZS9GsjGrHVRlkb9XqZNbxAJyCfFtQ8cTq5wfNh24YhHjkY8FR35Dz14DL7lW6PHSyluFMEpDQqnrbYwX+ExgpjVVI+e3t5LNxjECK12PrhXycg9zuSScF7qXOSE45kAAAApQZ7GRREsI/8AABxXCD0r3Z4FEss10J99wC3yllW7De9gWlVLUnvq9JEAAAA+AZ7ldEf/AAAtebYZJaqL77yutT81RjiciQjmJwZ8B+h4O+M/dOXuuoyExI0h+xIpFqm5gbvIj4ch5Scf2UEAAAA1AZ7nakf/AAAtYw5zBmgDj/CjPDLKPIs+/r/WTYBxq20expZW9H60SX/9Hr32vvp+YlDErpAAAABZQZrrSahBbJlMCEf//eEAAAVhk9M2fHh3KABuUSM6yYXIwKzpKGcXw5gFtN7/xTpCzhOurU/4cvUvdBUqJf2R2mocNCqettHC5fTuhE1eFHmbVH5VUDKFQQwAAAA4QZ8JRRUsI/8AAB0G3t5sDNYx7oocaI3+TXzkBT3qQhFQ3Td0C9itKJDcQ8o9N8ZopM8XCuHKKx8AAAA8AZ8qakf/AAAugpyf9I3pKRdaxg4SDIGA5MnP++L9SXp6ah1xHwor43tJ2G7jQoYqw1dMy9828nUwvJeAAAAAQUGbLkmoQWyZTAhH//3hAAAFhZPTNnxx/y8bgBAAN4mKlPrrYrmDNCRRxWwk1F3aYmaU7BTElK0TONqvTXCWaUZSAAAAKUGfTEUVLCP/AAAduHq64WrTjEad5mn/xUiLZRSofnSOtbIYiZF6dDirAAAAMQGfbWpH/wAAL9I773MImjZm7HWA2hE4BnkVO+bRjzisbyh2ofENBYo8Sj8ZN1GaPVMAAACAQZtySahBbJlMCP/8hAAAFhTRtisUvzervX6ST+jREDPNl34hT7y/5wZod6N2N3ReDMoPrVg/q/YDYyJrfSZx0xwzbTZJpPUU5/8+CIudRUXj7iVO2r5GiEeEpfN8+lno91pQ0mi7Rhm7/RR6dBDwoG9U05heQ+ODLt1d94J1EAcAAAA0QZ+QRRUsI/8AAB5ochnqIxIBLIAxG1DfnRiHb+vRw1VnImGRgQ8DRL7+QdnMZo9mrHvNwAAAAC4Bn690R/8AAC+z1bJoagEvm7PVtAmBGrUUmEyf8OxQIIoJmJmaEJlQFGWoVhsnAAAAKQGfsWpH/wAAMRI7fU3hsDk6BiFngyrmWtNlBTOkD6ErYPSVIjPglMXTAAAAU0Gbs0moQWyZTAj//IQAABYUgRCh/OEtVGgLvVmL3Ju13sBow2f3FRoqA0cF16z5gQNTPuwp0hbSuCGyAByzaJ1dBrji+VDL2X24sAbNMZDWJu2AAAAAg0Gb1EnhClJlMCEf/eEAAAWpiDqBNUS6gTIFdp9Y77jqUm1wabUadwvf3BSr4gSXNy7zmLi9imeqLkllaNisFCb6OwY0JP5LavRtUvnbvZghZ83OUL5t1cNUuOQoynsTPtMFsqegeblIRMnN/47nUaLeAH9nDkAcmY2K3Qy58DkPQ4kEAAAAT0Gb90nhDomUwIR//eEAAAXNlF02o1VAaj2M+b/cVmXPKjUS+oKLZH86t4QaHbDoZjUktqEOm0Xa3OrgLlh0NCqettOzB3f8fdftL2BU6/cAAAA2QZ4VRRE8I/8AAB8YetORatO1xp0/NE5PoTT+oAMjfApxmi+10Xl2J8aNS848WhR5L9XZUD2gAAAAPAGeNmpH/wAAMjee+vwOAosko9V+H/z6W8kYqFdiBB2uV/GxgcgDTLYV0jJ1NU4ErznUG4qw/rHTqYYlwQAAAEVBmjtJqEFomUwI//yEAAAXNNgBRZHrmb207NaviQ6A18BEKbEVaVw0OW8xIADgaFJ4V68E9HEElk3+Pw0KrBbFijnjH9kAAAA0QZ5ZRREsI/8AAB/IciKSYLZjf88xoSCM0SFU/dwI/m+nIxl9xCUW6B9BMSlDtbU0+PrE4AAAADcBnnh0R/8AADJR4lUR9RWGq9jwcmPuHxyUFzKzzGObeXX74vl5T268cUgAHvemEfoOCbga56CBAAAALQGeempH/wAAM3ee+vwOzhqSn1ZYEGpFt6WzIcfU0pjONDtIqbxKXXTmCDZ55AAAAEZBmnxJqEFsmUwIR//94QAABfRIMt/pS8UAX+ELlnTdh3b2CFQr3+IGTnX1+fDrIJBtjzIC6x8f+yRGhwdzCZfi4C6eNDHBAAAAikGan0nhClJlMCP//IQAABfQDolCT+uZveAt3YxhRSoFYAS5TxtQCDzA7t3EyLOf1M62Vj/QE3aMU0rJMWlfFVmTDHr+beL+/k1LHrDRPL9c8+ioNOsjn8l4A4IPXnvhACa85ebNgsYEQWkE4DjwL1/4nmOtDJNJqdGletnGc53LdUu4MjDa9HrKmQAAADBBnr1FNEwj/wAAILx5LSTBbMzcU6tU6P0tbUbROVHOXprNr/02cVEL3sufityMRQwAAAAmAZ7eakf/AAA0t576/A6R/2bdF2udqpnnGKRowV1bD/GUhLkvklwAAABlQZrASahBaJlMCEf//eEAAAYeZy2g37nqv55iSC0F3wELq2dwRdcShRxzo7DN0Md//3IgtwsNG/zHOAAiIFyT4uHMS6NTBTX1WUyawE8ebB21rAJibuftEq5FGC6/1NVtoEum1KEAAAB4QZriSeEKUmUwURLH//yEAAAYb/yYXk0PzdcjCcPHtKcAEEkJ9VbMHWABowU3MliUx97nRaSxnpeSENTNOWTr3TWrWWZrPHLRyKYe9QiJbULyliO8/SyjydaxIcAsCENr+iD6LOn+2NTbJARi5WBuhkBk1zko4p+AAAAAKwGfAWpH/wAANhJREEeLcUeO11qyYDMsoPQ+K0B0L05skQYWFYh0uTKiBuMAAABXQZsDSeEOiZTAhH/94QAABkkszcTb/34wl3E+fR9gsdoAG5w/m3tWUCnHdz19q+ETGYxIcP42ZWWCjrJgj1Ia1bf6GSttX0ql9PGJA3Tr80Wc+rrmt+uAAAAAe0GbJknhDyZTAhH//eEAAAZt8g3kKvAJrg1VJvmOOscoMJmqNT9G4JrPBcIo44IV91gIc9rhwW1kxujUcjGNKCEoOhCCXr1YfALh+TFVT6TO6WNRJdf8OBDjnoUuMbM5sXWkGOp3rIN5XXPGfoGtaXNFdQePTrJKqlJv+QAAADdBn0RFETwj/wAAIrx5MtmHhwBWgAFsyRlywlNFtTsvs919MqThoubuCrp36U1mRdr9XJZtOOwfAAAAMwGfZWpH/wAAN08oLPhY+H4FtfhksNo6/ftZ6fTj/IO04/Cdi5wSJjyiFBzHZqysozsDyQAAAE5Bm2hJqEFomUwU8I/94QAABmxTSjoYGamAeK5hIwFgAUKjE2bR77dUd+xaY6T8kN0pRFcuqOYW5yINwf/V0ao5hRp6PeAysyKSK+yD0hkAAAA1AZ+Hakf/AAA3N5854xvvnyPYAGk0BeIS6CimVmL5uVEog9aZaj+Amf92FFZpBz4sNXeo+HEAAABEQZuKSeEKUmUwUsf//IQAABmwBTzitjb0lLBB1THLhuvUjkCaY0xOrJuOKaZFM/3sa5O97FPeG0GzZueI/Cnb9HCRTNAAAAAoAZ+pakf/AAA4kNxil5D7bPGL3Cv/t9Tr3X1FtiNOI1Bo1r1QEs9qoQAAAFtBm6tJ4Q6JlMCEf/3hAAAGlEwDu/ykkOjCyqtzQkzK8Wun91hBXQqKJIXGggCJ2FrfvKt9Qe44pALxRbHAT/xM/pHAhTK5O6onkJvo6989uZ+bGTihEY9t7LKVAAAAUUGbzUnhDyZTBRU8K//+OEAAAa895p5q5wA7gI+8OvroKKc/uN66gLLzUddc0RluON0+Th1GbLoCd7EYRq8+s4MwQvsf5IHUVh/uoaVPRdCVQAAAADUBn+xqR/8AADh7XZJwPIlZYdmQ3bFti4wktmIC22BHxxVZpab/DTh+8v8SvTdJEeo27eDdwQAAAD5Bm+5J4Q8mUwIV//44QAABsfUiq7Qz0C7Iv/sTYauD7T/jQlUxCWMvsvzJwh3Wx1nVVprZKbUCmjpIHQC71QAAADZBmhFJ4Q8mUwI///yEAAADA6PoonL2KgWwiCj5rwxJzGnxv+QrvOg8ZrvONWDaTLNJwzkRVU0AAAAnQZ4vRRE8I/8AAAUd4/egh0EIeA4EeqodtbH1iYcW8z9wpdY0AIEWAAAAFgGeUGpH/wAAAwEls/DOQTjfkf4IhbAAAAmrbW9vdgAAAGxtdmhkAAAAAAAAAAAAAAAAAAAD6AAAC2gAAQAAAQAAAAAAAAAAAAAAAAEAAAAAAAAAAAAAAAAAAAABAAAAAAAAAAAAAAAAAABAAAAAAAAAAAAAAAAAAAAAAAAAAAAAAAAAAAAAAAAAAgAACNV0cmFrAAAAXHRraGQAAAADAAAAAAAAAAAAAAABAAAAAAAAC2gAAAAAAAAAAAAAAAAAAAAAAAEAAAAAAAAAAAAAAAAAAAABAAAAAAAAAAAAAAAAAABAAAAAAlgAAAGQAAAAAAAkZWR0cwAAABxlbHN0AAAAAAAAAAEAAAtoAAACAAABAAAAAAhNbWRpYQAAACBtZGhkAAAAAAAAAAAAAAAAAAAyAAAAkgBVxAAAAAAALWhkbHIAAAAAAAAAAHZpZGUAAAAAAAAAAAAAAABWaWRlb0hhbmRsZXIAAAAH+G1pbmYAAAAUdm1oZAAAAAEAAAAAAAAAAAAAACRkaW5mAAAAHGRyZWYAAAAAAAAAAQAAAAx1cmwgAAAAAQAAB7hzdGJsAAAAsHN0c2QAAAAAAAAAAQAAAKBhdmMxAAAAAAAAAAEAAAAAAAAAAAAAAAAAAAAAAlgBkABIAAAASAAAAAAAAAABFUxhdmM2MC4zMS4xMDIgbGlieDI2NAAAAAAAAAAAAAAAGP//AAAANmF2Y0MBZAAf/+EAGWdkAB+s2UCYM+XhAAADAAEAAAMAZA8YMZYBAAZo6+PLIsD9+PgAAAAAFGJ0cnQAAAAAAAB2AgAAdgIAAAAYc3R0cwAAAAAAAAABAAAAkgAAAQAAAAAUc3RzcwAAAAAAAAABAAAAAQAABEhjdHRzAAAAAAAAAIcAAAABAAACAAAAAAEAAAUAAAAAAQAAAgAAAAABAAAAAAAAAAEAAAEAAAAAAQAABQAAAAABAAACAAAAAAEAAAAAAAAAAQAAAQAAAAABAAAFAAAAAAEAAAIAAAAAAQAAAAAAAAABAAABAAAAAAEAAAUAAAAAAQAAAgAAAAABAAAAAAAAAAEAAAEAAAAAAQAABQAAAAABAAACAAAAAAEAAAAAAAAAAQAAAQAAAAABAAAFAAAAAAEAAAIAAAAAAQAAAAAAAAABAAABAAAAAAEAAAUAAAAAAQAAAgAAAAABAAAAAAAAAAEAAAEAAAAAAQAABQAAAAABAAACAAAAAAEAAAAAAAAAAQAAAQAAAAABAAAFAAAAAAEAAAIAAAAAAQAAAAAAAAABAAABAAAAAAEAAAUAAAAAAQAAAgAAAAABAAAAAAAAAAEAAAEAAAAAAQAABQAAAAABAAACAAAAAAEAAAAAAAAAAQAAAQAAAAABAAAFAAAAAAEAAAIAAAAAAQAAAAAAAAABAAABAAAAAAEAAAUAAAAAAQAAAgAAAAABAAAAAAAAAAEAAAEAAAAAAQAABQAAAAABAAACAAAAAAEAAAAAAAAAAQAAAQAAAAABAAAFAAAAAAEAAAIAAAAAAQAAAAAAAAABAAABAAAAAAEAAAQAAAAAAgAAAQAAAAABAAAFAAAAAAEAAAIAAAAAAQAAAAAAAAABAAABAAAAAAEAAAQAAAAAAgAAAQAAAAABAAADAAAAAAEAAAEAAAAAAQAABQAAAAABAAACAAAAAAEAAAAAAAAAAQAAAQAAAAABAAAFAAAAAAEAAAIAAAAAAQAAAAAAAAABAAABAAAAAAEAAAQAAAAAAgAAAQAAAAABAAAFAAAAAAEAAAIAAAAAAQAAAAAAAAABAAABAAAAAAEAAAUAAAAAAQAAAgAAAAABAAAAAAAAAAEAAAEAAAAAAQAABQAAAAABAAACAAAAAAEAAAAAAAAAAQAAAQAAAAABAAADAAAAAAEAAAEAAAAAAQAABAAAAAACAAABAAAAAAEAAAUAAAAAAQAAAgAAAAABAAAAAAAAAAEAAAEAAAAAAQAABAAAAAACAAABAAAAAAEAAAQAAAAAAgAAAQAAAAABAAAFAAAAAAEAAAIAAAAAAQAAAAAAAAABAAABAAAAAAIAAAIAAAAAAQAABAAAAAACAAABAAAAAAEAAAUAAAAAAQAAAgAAAAABAAAAAAAAAAEAAAEAAAAAAQAAAgAAAAABAAAEAAAAAAIAAAEAAAAAAQAAAgAAAAABAAADAAAAAAEAAAEAAAAAAQAAAgAAAAABAAAEAAAAAAIAAAEAAAAAAQAAAwAAAAABAAABAAAAAAEAAAMAAAAAAQAAAQAAAAABAAACAAAAAAEAAAMAAAAAAQAAAQAAAAABAAACAAAAAAEAAAQAAAAAAgAAAQAAAAAcc3RzYwAAAAAAAAABAAAAAQAAAJIAAAABAAACXHN0c3oAAAAAAAAAAAAAAJIAAATJAAAAawAAACsAAAAZAAAAMwAAAJkAAAA2AAAAIAAAACwAAACkAAAAPgAAACEAAAAlAAAApQAAAEsAAAAeAAAAIQAAAJ8AAABLAAAAIgAAACMAAABgAAAAKgAAABsAAAAuAAAAfgAAADwAAAAcAAAAIgAAADYAAAArAAAAHQAAADYAAABQAAAALgAAACMAAAAlAAAAeQAAACwAAAAmAAAANgAAAFkAAAAqAAAAKgAAADQAAABsAAAALQAAACYAAAAzAAAAZgAAADoAAAAwAAAALgAAAEoAAAA0AAAAOAAAADwAAACFAAAALgAAACYAAAAwAAAATwAAAEAAAAA0AAAAPgAAACsAAABCAAAAMQAAAIMAAABFAAAAMwAAAHAAAAA7AAAAfgAAADUAAAA/AAAANQAAAGUAAAA0AAAAQgAAAEwAAACaAAAAPQAAADAAAACNAAAAKwAAAC4AAAApAAAAWwAAAEEAAAA9AAAAKQAAAHoAAAA1AAAAMwAAAC4AAABUAAAALQAAAFcAAAA3AAAAMQAAAJwAAAAtAAAAQgAAADkAAABdAAAAPAAAAEAAAABFAAAALQAAADUAAACEAAAAOAAAADIAAAAtAAAAVwAAAIcAAABTAAAAOgAAAEAAAABJAAAAOAAAADsAAAAxAAAASgAAAI4AAAA0AAAAKgAAAGkAAAB8AAAALwAAAFsAAAB/AAAAOwAAADcAAABSAAAAOQAAAEgAAAAsAAAAXwAAAFUAAAA5AAAAQgAAADoAAAArAAAAGgAAABRzdGNvAAAAAAAAAAEAAAAwAAAAYnVkdGEAAABabWV0YQAAAAAAAAAhaGRscgAAAAAAAAAAbWRpcmFwcGwAAAAAAAAAAAAAAAAtaWxzdAAAACWpdG9vAAAAHWRhdGEAAAABAAAAAExhdmY2MC4xNi4xMDA=\" type=\"video/mp4\">\n",
       " Your browser does not support the video tag.\n",
       " </video></div>"
      ],
      "text/plain": [
       "<IPython.core.display.HTML object>"
      ]
     },
     "metadata": {},
     "output_type": "display_data"
    },
    {
     "name": "stdout",
     "output_type": "stream",
     "text": [
      "test/ ex1-episode-2.mp4\n"
     ]
    },
    {
     "data": {
      "text/html": [
       "<div style=\"width: 200px; height: 100px;; border: 1px solid #5733FF;\"><video loop autoplay  width=\"200\"  height=\"100\">\n",
       " <source src=\"data:video/mp4;base64,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\" type=\"video/mp4\">\n",
       " Your browser does not support the video tag.\n",
       " </video></div>"
      ],
      "text/plain": [
       "<IPython.core.display.HTML object>"
      ]
     },
     "metadata": {},
     "output_type": "display_data"
    },
    {
     "name": "stdout",
     "output_type": "stream",
     "text": [
      "test/ ex1-episode-3.mp4\n"
     ]
    },
    {
     "data": {
      "text/html": [
       "<div style=\"width: 200px; height: 100px;; border: 1px solid #5733FF;\"><video loop autoplay  width=\"200\"  height=\"100\">\n",
       " <source src=\"data:video/mp4;base64,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\" type=\"video/mp4\">\n",
       " Your browser does not support the video tag.\n",
       " </video></div>"
      ],
      "text/plain": [
       "<IPython.core.display.HTML object>"
      ]
     },
     "metadata": {},
     "output_type": "display_data"
    },
    {
     "name": "stdout",
     "output_type": "stream",
     "text": [
      "test/ ex1-episode-4.mp4\n"
     ]
    },
    {
     "data": {
      "text/html": [
       "<div style=\"width: 200px; height: 100px;; border: 1px solid #5733FF;\"><video loop autoplay  width=\"200\"  height=\"100\">\n",
       " <source src=\"data:video/mp4;base64,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\" type=\"video/mp4\">\n",
       " Your browser does not support the video tag.\n",
       " </video></div>"
      ],
      "text/plain": [
       "<IPython.core.display.HTML object>"
      ]
     },
     "metadata": {},
     "output_type": "display_data"
    },
    {
     "name": "stdout",
     "output_type": "stream",
     "text": [
      "test/ ex1-episode-5.mp4\n"
     ]
    },
    {
     "data": {
      "text/html": [
       "<div style=\"width: 200px; height: 100px;; border: 1px solid #5733FF;\"><video loop autoplay  width=\"200\"  height=\"100\">\n",
       " <source src=\"data:video/mp4;base64,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\" type=\"video/mp4\">\n",
       " Your browser does not support the video tag.\n",
       " </video></div>"
      ],
      "text/plain": [
       "<IPython.core.display.HTML object>"
      ]
     },
     "metadata": {},
     "output_type": "display_data"
    },
    {
     "name": "stdout",
     "output_type": "stream",
     "text": [
      "test/ ex1-episode-6.mp4\n"
     ]
    },
    {
     "data": {
      "text/html": [
       "<div style=\"width: 200px; height: 100px;; border: 1px solid #5733FF;\"><video loop autoplay  width=\"200\"  height=\"100\">\n",
       " <source src=\"data:video/mp4;base64,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\" type=\"video/mp4\">\n",
       " Your browser does not support the video tag.\n",
       " </video></div>"
      ],
      "text/plain": [
       "<IPython.core.display.HTML object>"
      ]
     },
     "metadata": {},
     "output_type": "display_data"
    },
    {
     "name": "stdout",
     "output_type": "stream",
     "text": [
      "test/ ex1-episode-7.mp4\n"
     ]
    },
    {
     "data": {
      "text/html": [
       "<div style=\"width: 200px; height: 100px;; border: 1px solid #5733FF;\"><video loop autoplay  width=\"200\"  height=\"100\">\n",
       " <source src=\"data:video/mp4;base64,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\" type=\"video/mp4\">\n",
       " Your browser does not support the video tag.\n",
       " </video></div>"
      ],
      "text/plain": [
       "<IPython.core.display.HTML object>"
      ]
     },
     "metadata": {},
     "output_type": "display_data"
    },
    {
     "name": "stdout",
     "output_type": "stream",
     "text": [
      "test/ ex1-episode-8.mp4\n"
     ]
    },
    {
     "data": {
      "text/html": [
       "<div style=\"width: 200px; height: 100px;; border: 1px solid #5733FF;\"><video loop autoplay  width=\"200\"  height=\"100\">\n",
       " <source src=\"data:video/mp4;base64,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\" type=\"video/mp4\">\n",
       " Your browser does not support the video tag.\n",
       " </video></div>"
      ],
      "text/plain": [
       "<IPython.core.display.HTML object>"
      ]
     },
     "metadata": {},
     "output_type": "display_data"
    },
    {
     "name": "stdout",
     "output_type": "stream",
     "text": [
      "test/ ex1-episode-9.mp4\n"
     ]
    },
    {
     "data": {
      "text/html": [
       "<div style=\"width: 200px; height: 100px;; border: 1px solid #5733FF;\"><video loop autoplay  width=\"200\"  height=\"100\">\n",
       " <source src=\"data:video/mp4;base64,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\" type=\"video/mp4\">\n",
       " Your browser does not support the video tag.\n",
       " </video></div>"
      ],
      "text/plain": [
       "<IPython.core.display.HTML object>"
      ]
     },
     "metadata": {},
     "output_type": "display_data"
    }
   ],
   "source": [
    "if not skip_training:\n",
    "    # Test Result\n",
    "    \n",
    "    video_dir = work_dir/'video'/'CartPole-v1'/'test'\n",
    "    \n",
    "    # List all MP4 files in the directory\n",
    "    mp4_files = [file for file in os.listdir(video_dir) if file.endswith(\".mp4\")]\n",
    "    frame_colors = ['#FF5733', '#33FF57', '#5733FF', '#FFFF33', '#33FFFF', '#FF33FF']\n",
    "    # Display each MP4 file\n",
    "    for i, mp4_file in enumerate(mp4_files):\n",
    "        video_path = os.path.join(video_dir, mp4_file)\n",
    "        video = Video(video_path, embed=True, html_attributes=\"loop autoplay\", width=200, height=100)\n",
    "        frame_color = frame_colors[i % len(frame_colors)]\n",
    "        video_frame = HTML(f'<div style=\"width: 200px; height: 100px;; border: 1px solid #5733FF;\">{video._repr_html_()}</div>')\n",
    "        print(\"test/\",mp4_file)\n",
    "        display(video_frame)"
   ]
  },
  {
   "cell_type": "markdown",
   "id": "b9298a34",
   "metadata": {
    "deletable": false,
    "editable": false,
    "nbgrader": {
     "cell_type": "markdown",
     "checksum": "29f3456bbec5bacc9d93ec415d74e5d3",
     "grade": false,
     "grade_id": "cell-9b1e05f80922c2bf",
     "locked": true,
     "schema_version": 3,
     "solution": false,
     "task": false
    },
    "tags": []
   },
   "source": [
    "<a id='Q1'></a>\n",
    "<div class=\" alert alert-warning\">\n",
    "    <h3><b>Student Question 1.1</b> Learning (10 points) </h3> \n",
    "\n",
    "Test the trained model from Task 1 five times with different random seeds. Did the same model, trained to balance for 100 timesteps, learn to always balance the pole for 1000 timesteps? Why/why not?\n",
    "    \n",
    "🔝\t<a href='#TOC'><b>Table of Contents</b></a>\n",
    "</div>\n"
   ]
  },
  {
   "cell_type": "code",
   "execution_count": 26,
   "id": "e76718b1",
   "metadata": {},
   "outputs": [],
   "source": [
    "#Evaluate the trained model by setting 5 different random seeds chosen by you\n",
    "#Type 5 different  random seeds  in eval_seeds array\n",
    "eval_seeds =  [95 , 115 , 840 , 395 , 460]"
   ]
  },
  {
   "cell_type": "code",
   "execution_count": 27,
   "id": "1549ae65",
   "metadata": {
    "deletable": false,
    "editable": false,
    "nbgrader": {
     "cell_type": "code",
     "checksum": "55507b4aacb261bb5e0c39e9fb9933f9",
     "grade": true,
     "grade_id": "cell-a885538088286a64",
     "locked": true,
     "points": 0,
     "schema_version": 3,
     "solution": false,
     "task": false
    }
   },
   "outputs": [],
   "source": [
    "assert len(set(eval_seeds)) == 5"
   ]
  },
  {
   "cell_type": "code",
   "execution_count": 28,
   "id": "8ea940e9",
   "metadata": {
    "deletable": false,
    "editable": false,
    "nbgrader": {
     "cell_type": "code",
     "checksum": "ebb50086ad7448789468612578cd825d",
     "grade": true,
     "grade_id": "cell-2f9ca7392eabd6d2",
     "locked": true,
     "points": 0,
     "schema_version": 3,
     "solution": false,
     "task": false
    }
   },
   "outputs": [
    {
     "name": "stdout",
     "output_type": "stream",
     "text": [
      "Numpy/Torch/Random Seed:  95\n",
      "Loading model from /notebooks/rl2024/ex1/results/model/CartPole-v1_params.pt ...\n",
      "Testing...\n",
      "Test ep reward: 127.0 seed: 95\n",
      "Average test reward: 127.0 episode length: 127.0\n",
      "Numpy/Torch/Random Seed:  115\n",
      "Loading model from /notebooks/rl2024/ex1/results/model/CartPole-v1_params.pt ...\n",
      "Testing...\n",
      "Test ep reward: 136.0 seed: 115\n",
      "Average test reward: 136.0 episode length: 136.0\n",
      "Numpy/Torch/Random Seed:  840\n",
      "Loading model from /notebooks/rl2024/ex1/results/model/CartPole-v1_params.pt ...\n",
      "Testing...\n",
      "Test ep reward: 145.0 seed: 840\n",
      "Average test reward: 145.0 episode length: 145.0\n",
      "Numpy/Torch/Random Seed:  395\n",
      "Loading model from /notebooks/rl2024/ex1/results/model/CartPole-v1_params.pt ...\n",
      "Testing...\n",
      "Test ep reward: 139.0 seed: 395\n",
      "Average test reward: 139.0 episode length: 139.0\n",
      "Numpy/Torch/Random Seed:  460\n",
      "Loading model from /notebooks/rl2024/ex1/results/model/CartPole-v1_params.pt ...\n",
      "Testing...\n",
      "Test ep reward: 133.0 seed: 460\n",
      "Average test reward: 133.0 episode length: 133.0\n"
     ]
    }
   ],
   "source": [
    "%%capture --no-stdout\n",
    "def question1_1_evaluate1(eval_seeds):\n",
    "    mean_reward = []\n",
    "\n",
    "    for seed in eval_seeds:\n",
    "        acc_rewards = t.test(episodes=1, cfg_path=Path().cwd()/'cfg'/'cartpole_v1.yaml', \n",
    "            cfg_args=dict(testing=True,save_video=False, save_logging=False, save_model=False, \n",
    "            seed=seed, max_episode_steps=1000, model_name=\"CartPole-v1\"))\n",
    "        mean_reward.append(acc_rewards)\n",
    "\n",
    "    return np.mean(mean_reward)\n",
    "\n",
    "assert question1_1_evaluate1(eval_seeds) > 100"
   ]
  },
  {
   "cell_type": "markdown",
   "id": "5d817076",
   "metadata": {
    "deletable": false,
    "editable": false,
    "nbgrader": {
     "cell_type": "markdown",
     "checksum": "f6c1beea3fe0d08543135685a1b18a53",
     "grade": false,
     "grade_id": "cell-34afac26642e2bc4",
     "locked": true,
     "schema_version": 3,
     "solution": false,
     "task": false
    }
   },
   "source": [
    "### Question:\n",
    "Did the same model consistently balance the pole for 1000 timesteps? Select the most appropriate answer.\n",
    "\n",
    "**Options:**\n",
    "Choices:\n",
    "1. No, the agent generally failed around 100-200 timesteps because it encountered unfamiliar states.\n",
    "\n",
    "2. Yes, the agent balanced the pole for 1000 timesteps in every test due to a perfectly learned policy.\n",
    "\n",
    "3. No, although the agent sometimes balanced the pole for 1000 timesteps, it typically failed due to limited generalization to new states.\n",
    "\n",
    "4. Yes, but only with some random seeds; it failed to generalize this behavior across all tests.\n",
    "\n",
    "5. No, the agent frequently moved out of bounds or the pole tilted too much, showing poor adaptation.\n",
    "\n",
    "6. Yes, the agent demonstrated perfect control in all tests due to effective training.\n",
    "\n",
    "7. No, the agent's performance varied significantly with different random seeds, indicating inconsistency in learned behavior.\n",
    "\n",
    "\n"
   ]
  },
  {
   "cell_type": "code",
   "execution_count": 44,
   "id": "3b571667",
   "metadata": {},
   "outputs": [],
   "source": [
    "sq1_1 = 1 #Answer question 1.1 with the appropriate answer number"
   ]
  },
  {
   "cell_type": "code",
   "execution_count": 45,
   "id": "53d85d22",
   "metadata": {
    "deletable": false,
    "editable": false,
    "nbgrader": {
     "cell_type": "code",
     "checksum": "11c62ac2a464b078e231c9be051ec0cc",
     "grade": true,
     "grade_id": "cell-c0b2457bfc16e0b6",
     "locked": true,
     "points": 0,
     "schema_version": 3,
     "solution": false,
     "task": false
    }
   },
   "outputs": [],
   "source": [
    "assert sq1_1 in range(1,8)"
   ]
  },
  {
   "cell_type": "markdown",
   "id": "d0b1a1ca",
   "metadata": {},
   "source": [
    "The following cells are used for grading"
   ]
  },
  {
   "cell_type": "code",
   "execution_count": null,
   "id": "7799a07e",
   "metadata": {
    "deletable": false,
    "editable": false,
    "nbgrader": {
     "cell_type": "code",
     "checksum": "e0f7503516a3888a3292ce9546eec77f",
     "grade": true,
     "grade_id": "cell-47569346bb4f32fa",
     "locked": true,
     "points": 5,
     "schema_version": 3,
     "solution": false,
     "task": false
    }
   },
   "outputs": [],
   "source": []
  },
  {
   "cell_type": "code",
   "execution_count": null,
   "id": "a14c81c7",
   "metadata": {
    "deletable": false,
    "editable": false,
    "nbgrader": {
     "cell_type": "code",
     "checksum": "c67b46c2518a7daaee9b7ded56f1ccff",
     "grade": true,
     "grade_id": "cell-c5e675812f807564",
     "locked": true,
     "points": 5,
     "schema_version": 3,
     "solution": false,
     "task": false
    }
   },
   "outputs": [],
   "source": []
  },
  {
   "cell_type": "markdown",
   "id": "9f3b5ed9",
   "metadata": {
    "deletable": false,
    "editable": false,
    "nbgrader": {
     "cell_type": "markdown",
     "checksum": "3c7f39f15f26fcd1226ebdec7f666a26",
     "grade": false,
     "grade_id": "cell-6fdccf7da0340917",
     "locked": true,
     "schema_version": 3,
     "solution": false,
     "task": false
    },
    "tags": []
   },
   "source": [
    "<a id='T2'></a>\n",
    "<div class=\" alert alert-warning\">\n",
    "    <h3><b>Student Task 2.</b> Investigating Training Performance (10 points) </h3> \n",
    "\n",
    "Repeat the experiment in Task 1 five times, each time training the model from scratch with 100 timesteps and testing it for 1000 timesteps. Use a different seed number for each training/testing cycle. You can use the box below to write a small script to do this. Use the result textbox below to report the average test reward for each repeat. \n",
    "    \n",
    "🔝\t<a href='#TOC'><b>Table of Contents</b></a>\n",
    "</div>\n"
   ]
  },
  {
   "cell_type": "markdown",
   "id": "aa8b9768",
   "metadata": {
    "deletable": false,
    "editable": false,
    "nbgrader": {
     "cell_type": "markdown",
     "checksum": "0e6bbcf84dee7d5a7e4e77f40fef39da",
     "grade": false,
     "grade_id": "cell-52c4064985fce5f1",
     "locked": true,
     "schema_version": 3,
     "solution": false,
     "task": false
    }
   },
   "source": [
    "Make sure to change the model_name for each agent to the ones given and and that the respective parameter file is saved in results/model/\n",
    "\n",
    "In order to get the points for this exercise each of the agents must have a test accuracy of higher than 100."
   ]
  },
  {
   "cell_type": "code",
   "execution_count": 57,
   "id": "01cb1f80",
   "metadata": {},
   "outputs": [
    {
     "name": "stdout",
     "output_type": "stream",
     "text": [
      "CartPole-v1-model0\n",
      "Numpy/Torch/Random Seed:  45\n",
      "Configuration Settings: {'exp_name': 'ex1', 'seed': 45, 'env_name': 'CartPole-v1', 'model_name': 'CartPole-v1-model0', 'max_episode_steps': 100, 'train_episodes': 500, 'batch_size': 64, 'min_update_samples': 2000, 'testing': False, 'model_path': 'default', 'save_video': True, 'save_model': True, 'save_logging': True, 'silent': False, 'use_wandb': True, 'run_suffix': 0}\n",
      "Training device: cpu\n",
      "Observation space dimensions: 4\n",
      "Action space dimensions: 2\n",
      "\n",
      "Episode 0 finished. Total reward: 34.0 (34 timesteps)\n",
      "Episode 5 finished. Total reward: 31.0 (31 timesteps)\n",
      "Episode 10 finished. Total reward: 30.0 (30 timesteps)\n",
      "Episode 15 finished. Total reward: 25.0 (25 timesteps)\n",
      "Episode 20 finished. Total reward: 22.0 (22 timesteps)\n",
      "Episode 25 finished. Total reward: 25.0 (25 timesteps)\n",
      "Episode 30 finished. Total reward: 17.0 (17 timesteps)\n",
      "Episode 35 finished. Total reward: 11.0 (11 timesteps)\n",
      "Episode 40 finished. Total reward: 37.0 (37 timesteps)\n",
      "Episode 45 finished. Total reward: 25.0 (25 timesteps)\n",
      "Episode 50 finished. Total reward: 20.0 (20 timesteps)\n",
      "Episode 55 finished. Total reward: 13.0 (13 timesteps)\n",
      "Episode 60 finished. Total reward: 11.0 (11 timesteps)\n",
      "Episode 65 finished. Total reward: 37.0 (37 timesteps)\n",
      "Episode 70 finished. Total reward: 19.0 (19 timesteps)\n",
      "Episode 75 finished. Total reward: 14.0 (14 timesteps)\n",
      "Episode 80 finished. Total reward: 33.0 (33 timesteps)\n",
      "Episode 85 finished. Total reward: 21.0 (21 timesteps)\n",
      "Episode 90 finished. Total reward: 19.0 (19 timesteps)\n",
      "Updating the policy...\n",
      "Updating finished!\n",
      "Episode 95 finished. Total reward: 20.0 (20 timesteps)\n",
      "Episode 100 finished. Total reward: 22.0 (22 timesteps)\n",
      "Episode 105 finished. Total reward: 11.0 (11 timesteps)\n",
      "Episode 110 finished. Total reward: 30.0 (30 timesteps)\n",
      "Episode 115 finished. Total reward: 15.0 (15 timesteps)\n",
      "Episode 120 finished. Total reward: 25.0 (25 timesteps)\n",
      "Episode 125 finished. Total reward: 58.0 (58 timesteps)\n",
      "Episode 130 finished. Total reward: 12.0 (12 timesteps)\n",
      "Episode 135 finished. Total reward: 19.0 (19 timesteps)\n",
      "Episode 140 finished. Total reward: 27.0 (27 timesteps)\n",
      "Episode 145 finished. Total reward: 14.0 (14 timesteps)\n",
      "Episode 150 finished. Total reward: 60.0 (60 timesteps)\n",
      "Episode 155 finished. Total reward: 44.0 (44 timesteps)\n",
      "Episode 160 finished. Total reward: 17.0 (17 timesteps)\n",
      "Updating the policy...\n",
      "Updating finished!\n",
      "Episode 165 finished. Total reward: 46.0 (46 timesteps)\n",
      "Episode 170 finished. Total reward: 26.0 (26 timesteps)\n",
      "Episode 175 finished. Total reward: 31.0 (31 timesteps)\n",
      "Episode 180 finished. Total reward: 49.0 (49 timesteps)\n",
      "Episode 185 finished. Total reward: 14.0 (14 timesteps)\n",
      "Episode 190 finished. Total reward: 20.0 (20 timesteps)\n",
      "Episode 195 finished. Total reward: 18.0 (18 timesteps)\n",
      "Episode 200 finished. Total reward: 20.0 (20 timesteps)\n",
      "Episode 205 finished. Total reward: 17.0 (17 timesteps)\n",
      "Episode 210 finished. Total reward: 60.0 (60 timesteps)\n",
      "Updating the policy...\n",
      "Updating finished!\n",
      "Episode 215 finished. Total reward: 100.0 (100 timesteps)\n",
      "Episode 220 finished. Total reward: 16.0 (16 timesteps)\n",
      "Episode 225 finished. Total reward: 20.0 (20 timesteps)\n",
      "Episode 230 finished. Total reward: 45.0 (45 timesteps)\n",
      "Episode 235 finished. Total reward: 100.0 (100 timesteps)\n",
      "Episode 240 finished. Total reward: 73.0 (73 timesteps)\n",
      "Updating the policy...\n",
      "Updating finished!\n",
      "Episode 245 finished. Total reward: 60.0 (60 timesteps)\n",
      "Episode 250 finished. Total reward: 100.0 (100 timesteps)\n",
      "Episode 255 finished. Total reward: 22.0 (22 timesteps)\n",
      "Episode 260 finished. Total reward: 21.0 (21 timesteps)\n",
      "Episode 265 finished. Total reward: 49.0 (49 timesteps)\n",
      "Episode 270 finished. Total reward: 76.0 (76 timesteps)\n",
      "Updating the policy...\n",
      "Updating finished!\n",
      "Episode 275 finished. Total reward: 38.0 (38 timesteps)\n",
      "Episode 280 finished. Total reward: 100.0 (100 timesteps)\n",
      "Episode 285 finished. Total reward: 100.0 (100 timesteps)\n",
      "Episode 290 finished. Total reward: 100.0 (100 timesteps)\n",
      "Updating the policy...\n",
      "Updating finished!\n",
      "Episode 295 finished. Total reward: 71.0 (71 timesteps)\n",
      "Episode 300 finished. Total reward: 100.0 (100 timesteps)\n",
      "Episode 305 finished. Total reward: 100.0 (100 timesteps)\n",
      "Episode 310 finished. Total reward: 86.0 (86 timesteps)\n",
      "Episode 315 finished. Total reward: 100.0 (100 timesteps)\n",
      "Updating the policy...\n",
      "Updating finished!\n",
      "Episode 320 finished. Total reward: 100.0 (100 timesteps)\n",
      "Episode 325 finished. Total reward: 100.0 (100 timesteps)\n",
      "Episode 330 finished. Total reward: 100.0 (100 timesteps)\n",
      "Episode 335 finished. Total reward: 100.0 (100 timesteps)\n",
      "Updating the policy...\n",
      "Updating finished!\n",
      "Episode 340 finished. Total reward: 100.0 (100 timesteps)\n",
      "Episode 345 finished. Total reward: 100.0 (100 timesteps)\n",
      "Episode 350 finished. Total reward: 100.0 (100 timesteps)\n",
      "Episode 355 finished. Total reward: 100.0 (100 timesteps)\n",
      "Updating the policy...\n",
      "Updating finished!\n",
      "Episode 360 finished. Total reward: 100.0 (100 timesteps)\n",
      "Episode 365 finished. Total reward: 100.0 (100 timesteps)\n",
      "Episode 370 finished. Total reward: 97.0 (97 timesteps)\n",
      "Episode 375 finished. Total reward: 100.0 (100 timesteps)\n",
      "Updating the policy...\n",
      "Updating finished!\n",
      "Episode 380 finished. Total reward: 100.0 (100 timesteps)\n",
      "Episode 385 finished. Total reward: 90.0 (90 timesteps)\n",
      "Episode 390 finished. Total reward: 100.0 (100 timesteps)\n",
      "Episode 395 finished. Total reward: 100.0 (100 timesteps)\n",
      "Updating the policy...\n",
      "Updating finished!\n",
      "Episode 400 finished. Total reward: 100.0 (100 timesteps)\n",
      "Episode 405 finished. Total reward: 100.0 (100 timesteps)\n",
      "Episode 410 finished. Total reward: 39.0 (39 timesteps)\n",
      "Episode 415 finished. Total reward: 100.0 (100 timesteps)\n",
      "Updating the policy...\n",
      "Updating finished!\n",
      "Episode 420 finished. Total reward: 100.0 (100 timesteps)\n",
      "Episode 425 finished. Total reward: 100.0 (100 timesteps)\n",
      "Episode 430 finished. Total reward: 87.0 (87 timesteps)\n",
      "Episode 435 finished. Total reward: 100.0 (100 timesteps)\n",
      "Updating the policy...\n",
      "Updating finished!\n",
      "Episode 440 finished. Total reward: 100.0 (100 timesteps)\n",
      "Episode 445 finished. Total reward: 100.0 (100 timesteps)\n",
      "Episode 450 finished. Total reward: 100.0 (100 timesteps)\n",
      "Episode 455 finished. Total reward: 100.0 (100 timesteps)\n",
      "Updating the policy...\n",
      "Updating finished!\n",
      "Episode 460 finished. Total reward: 100.0 (100 timesteps)\n",
      "Episode 465 finished. Total reward: 100.0 (100 timesteps)\n",
      "Episode 470 finished. Total reward: 100.0 (100 timesteps)\n",
      "Episode 475 finished. Total reward: 100.0 (100 timesteps)\n",
      "Updating the policy...\n",
      "Updating finished!\n",
      "Episode 480 finished. Total reward: 100.0 (100 timesteps)\n",
      "Episode 485 finished. Total reward: 100.0 (100 timesteps)\n",
      "Episode 490 finished. Total reward: 100.0 (100 timesteps)\n",
      "Episode 495 finished. Total reward: 100.0 (100 timesteps)\n",
      "Updating the policy...\n",
      "Updating finished!\n",
      "Episode 500 finished. Total reward: 100.0 (100 timesteps)\n",
      "Model saved to /notebooks/rl2024/ex1/results/model/CartPole-v1-model0_params.pt\n",
      "------Training finished.------\n",
      "Numpy/Torch/Random Seed:  45\n",
      "Loading model from /notebooks/rl2024/ex1/results/model/CartPole-v1-model0_params.pt ...\n",
      "Testing...\n",
      "Test ep reward: 113.0 seed: 45\n",
      "Average test reward: 113.0 episode length: 113.0\n",
      "Numpy/Torch/Random Seed:  430\n",
      "Loading model from /notebooks/rl2024/ex1/results/model/CartPole-v1-model0_params.pt ...\n",
      "Testing...\n",
      "Test ep reward: 109.0 seed: 430\n",
      "Average test reward: 109.0 episode length: 109.0\n",
      "Numpy/Torch/Random Seed:  295\n",
      "Loading model from /notebooks/rl2024/ex1/results/model/CartPole-v1-model0_params.pt ...\n",
      "Testing...\n",
      "Test ep reward: 115.0 seed: 295\n",
      "Average test reward: 115.0 episode length: 115.0\n",
      "Numpy/Torch/Random Seed:  990\n",
      "Loading model from /notebooks/rl2024/ex1/results/model/CartPole-v1-model0_params.pt ...\n",
      "Testing...\n",
      "Test ep reward: 131.0 seed: 990\n",
      "Average test reward: 131.0 episode length: 131.0\n",
      "Numpy/Torch/Random Seed:  100\n",
      "Loading model from /notebooks/rl2024/ex1/results/model/CartPole-v1-model0_params.pt ...\n",
      "Testing...\n",
      "Test ep reward: 121.0 seed: 100\n",
      "Average test reward: 121.0 episode length: 121.0\n",
      "CartPole-v1-model0 Average accuracy: [121.0]\n",
      "CartPole-v1-model1\n",
      "Numpy/Torch/Random Seed:  430\n",
      "Configuration Settings: {'exp_name': 'ex1', 'seed': 430, 'env_name': 'CartPole-v1', 'model_name': 'CartPole-v1-model1', 'max_episode_steps': 100, 'train_episodes': 500, 'batch_size': 64, 'min_update_samples': 2000, 'testing': False, 'model_path': 'default', 'save_video': True, 'save_model': True, 'save_logging': True, 'silent': False, 'use_wandb': True, 'run_suffix': 0}\n",
      "Training device: cpu\n",
      "Observation space dimensions: 4\n",
      "Action space dimensions: 2\n",
      "\n",
      "Episode 0 finished. Total reward: 42.0 (42 timesteps)\n",
      "Episode 5 finished. Total reward: 12.0 (12 timesteps)\n",
      "Episode 10 finished. Total reward: 13.0 (13 timesteps)\n",
      "Episode 15 finished. Total reward: 100.0 (100 timesteps)\n",
      "Episode 20 finished. Total reward: 16.0 (16 timesteps)\n",
      "Episode 25 finished. Total reward: 26.0 (26 timesteps)\n",
      "Episode 30 finished. Total reward: 12.0 (12 timesteps)\n",
      "Episode 35 finished. Total reward: 18.0 (18 timesteps)\n",
      "Episode 40 finished. Total reward: 11.0 (11 timesteps)\n",
      "Episode 45 finished. Total reward: 14.0 (14 timesteps)\n",
      "Episode 50 finished. Total reward: 19.0 (19 timesteps)\n",
      "Episode 55 finished. Total reward: 16.0 (16 timesteps)\n",
      "Episode 60 finished. Total reward: 21.0 (21 timesteps)\n",
      "Episode 65 finished. Total reward: 30.0 (30 timesteps)\n",
      "Episode 70 finished. Total reward: 10.0 (10 timesteps)\n",
      "Episode 75 finished. Total reward: 31.0 (31 timesteps)\n",
      "Episode 80 finished. Total reward: 13.0 (13 timesteps)\n",
      "Episode 85 finished. Total reward: 14.0 (14 timesteps)\n",
      "Episode 90 finished. Total reward: 17.0 (17 timesteps)\n",
      "Episode 95 finished. Total reward: 22.0 (22 timesteps)\n",
      "Updating the policy...\n",
      "Updating finished!\n",
      "Episode 100 finished. Total reward: 40.0 (40 timesteps)\n",
      "Episode 105 finished. Total reward: 34.0 (34 timesteps)\n",
      "Episode 110 finished. Total reward: 15.0 (15 timesteps)\n",
      "Episode 115 finished. Total reward: 17.0 (17 timesteps)\n",
      "Episode 120 finished. Total reward: 31.0 (31 timesteps)\n",
      "Episode 125 finished. Total reward: 21.0 (21 timesteps)\n",
      "Episode 130 finished. Total reward: 25.0 (25 timesteps)\n",
      "Episode 135 finished. Total reward: 33.0 (33 timesteps)\n",
      "Episode 140 finished. Total reward: 20.0 (20 timesteps)\n",
      "Episode 145 finished. Total reward: 15.0 (15 timesteps)\n",
      "Episode 150 finished. Total reward: 26.0 (26 timesteps)\n",
      "Episode 155 finished. Total reward: 12.0 (12 timesteps)\n",
      "Episode 160 finished. Total reward: 15.0 (15 timesteps)\n",
      "Episode 165 finished. Total reward: 36.0 (36 timesteps)\n",
      "Episode 170 finished. Total reward: 15.0 (15 timesteps)\n",
      "Updating the policy...\n",
      "Updating finished!\n",
      "Episode 175 finished. Total reward: 41.0 (41 timesteps)\n",
      "Episode 180 finished. Total reward: 88.0 (88 timesteps)\n",
      "Episode 185 finished. Total reward: 25.0 (25 timesteps)\n",
      "Episode 190 finished. Total reward: 33.0 (33 timesteps)\n",
      "Episode 195 finished. Total reward: 78.0 (78 timesteps)\n",
      "Episode 200 finished. Total reward: 37.0 (37 timesteps)\n",
      "Episode 205 finished. Total reward: 77.0 (77 timesteps)\n",
      "Episode 210 finished. Total reward: 29.0 (29 timesteps)\n",
      "Updating the policy...\n",
      "Updating finished!\n",
      "Episode 215 finished. Total reward: 95.0 (95 timesteps)\n",
      "Episode 220 finished. Total reward: 32.0 (32 timesteps)\n",
      "Episode 225 finished. Total reward: 15.0 (15 timesteps)\n",
      "Episode 230 finished. Total reward: 29.0 (29 timesteps)\n",
      "Episode 235 finished. Total reward: 46.0 (46 timesteps)\n",
      "Episode 240 finished. Total reward: 100.0 (100 timesteps)\n",
      "Updating the policy...\n",
      "Updating finished!\n",
      "Episode 245 finished. Total reward: 100.0 (100 timesteps)\n",
      "Episode 250 finished. Total reward: 100.0 (100 timesteps)\n",
      "Episode 255 finished. Total reward: 100.0 (100 timesteps)\n",
      "Episode 260 finished. Total reward: 100.0 (100 timesteps)\n",
      "Updating the policy...\n",
      "Updating finished!\n",
      "Episode 265 finished. Total reward: 35.0 (35 timesteps)\n",
      "Episode 270 finished. Total reward: 83.0 (83 timesteps)\n",
      "Episode 275 finished. Total reward: 100.0 (100 timesteps)\n",
      "Episode 280 finished. Total reward: 100.0 (100 timesteps)\n",
      "Episode 285 finished. Total reward: 100.0 (100 timesteps)\n",
      "Updating the policy...\n",
      "Updating finished!\n",
      "Episode 290 finished. Total reward: 100.0 (100 timesteps)\n",
      "Episode 295 finished. Total reward: 100.0 (100 timesteps)\n",
      "Episode 300 finished. Total reward: 100.0 (100 timesteps)\n",
      "Episode 305 finished. Total reward: 100.0 (100 timesteps)\n",
      "Updating the policy...\n",
      "Updating finished!\n",
      "Episode 310 finished. Total reward: 61.0 (61 timesteps)\n",
      "Episode 315 finished. Total reward: 100.0 (100 timesteps)\n",
      "Episode 320 finished. Total reward: 100.0 (100 timesteps)\n",
      "Episode 325 finished. Total reward: 83.0 (83 timesteps)\n",
      "Updating the policy...\n",
      "Updating finished!\n",
      "Episode 330 finished. Total reward: 100.0 (100 timesteps)\n",
      "Episode 335 finished. Total reward: 100.0 (100 timesteps)\n",
      "Episode 340 finished. Total reward: 97.0 (97 timesteps)\n",
      "Episode 345 finished. Total reward: 100.0 (100 timesteps)\n",
      "Updating the policy...\n",
      "Updating finished!\n",
      "Episode 350 finished. Total reward: 100.0 (100 timesteps)\n",
      "Episode 355 finished. Total reward: 100.0 (100 timesteps)\n",
      "Episode 360 finished. Total reward: 100.0 (100 timesteps)\n",
      "Episode 365 finished. Total reward: 100.0 (100 timesteps)\n",
      "Updating the policy...\n",
      "Updating finished!\n",
      "Episode 370 finished. Total reward: 55.0 (55 timesteps)\n",
      "Episode 375 finished. Total reward: 66.0 (66 timesteps)\n",
      "Episode 380 finished. Total reward: 100.0 (100 timesteps)\n",
      "Episode 385 finished. Total reward: 100.0 (100 timesteps)\n",
      "Updating the policy...\n",
      "Updating finished!\n",
      "Episode 390 finished. Total reward: 99.0 (99 timesteps)\n",
      "Episode 395 finished. Total reward: 100.0 (100 timesteps)\n",
      "Episode 400 finished. Total reward: 100.0 (100 timesteps)\n",
      "Episode 405 finished. Total reward: 100.0 (100 timesteps)\n",
      "Updating the policy...\n",
      "Updating finished!\n",
      "Episode 410 finished. Total reward: 100.0 (100 timesteps)\n",
      "Episode 415 finished. Total reward: 100.0 (100 timesteps)\n",
      "Episode 420 finished. Total reward: 100.0 (100 timesteps)\n",
      "Episode 425 finished. Total reward: 100.0 (100 timesteps)\n",
      "Episode 430 finished. Total reward: 35.0 (35 timesteps)\n",
      "Updating the policy...\n",
      "Updating finished!\n",
      "Episode 435 finished. Total reward: 100.0 (100 timesteps)\n",
      "Episode 440 finished. Total reward: 100.0 (100 timesteps)\n",
      "Episode 445 finished. Total reward: 100.0 (100 timesteps)\n",
      "Episode 450 finished. Total reward: 100.0 (100 timesteps)\n",
      "Updating the policy...\n",
      "Updating finished!\n",
      "Episode 455 finished. Total reward: 100.0 (100 timesteps)\n",
      "Episode 460 finished. Total reward: 100.0 (100 timesteps)\n",
      "Episode 465 finished. Total reward: 100.0 (100 timesteps)\n",
      "Episode 470 finished. Total reward: 75.0 (75 timesteps)\n",
      "Updating the policy...\n",
      "Updating finished!\n",
      "Episode 475 finished. Total reward: 100.0 (100 timesteps)\n",
      "Episode 480 finished. Total reward: 100.0 (100 timesteps)\n",
      "Episode 485 finished. Total reward: 100.0 (100 timesteps)\n",
      "Episode 490 finished. Total reward: 100.0 (100 timesteps)\n",
      "Updating the policy...\n",
      "Updating finished!\n",
      "Episode 495 finished. Total reward: 100.0 (100 timesteps)\n",
      "Episode 500 finished. Total reward: 100.0 (100 timesteps)\n",
      "Model saved to /notebooks/rl2024/ex1/results/model/CartPole-v1-model1_params.pt\n",
      "------Training finished.------\n",
      "Numpy/Torch/Random Seed:  45\n",
      "Loading model from /notebooks/rl2024/ex1/results/model/CartPole-v1-model1_params.pt ...\n",
      "Testing...\n",
      "Test ep reward: 120.0 seed: 45\n",
      "Average test reward: 120.0 episode length: 120.0\n",
      "Numpy/Torch/Random Seed:  430\n",
      "Loading model from /notebooks/rl2024/ex1/results/model/CartPole-v1-model1_params.pt ...\n",
      "Testing...\n",
      "Test ep reward: 116.0 seed: 430\n",
      "Average test reward: 116.0 episode length: 116.0\n",
      "Numpy/Torch/Random Seed:  295\n",
      "Loading model from /notebooks/rl2024/ex1/results/model/CartPole-v1-model1_params.pt ...\n",
      "Testing...\n",
      "Test ep reward: 119.0 seed: 295\n",
      "Average test reward: 119.0 episode length: 119.0\n",
      "Numpy/Torch/Random Seed:  990\n",
      "Loading model from /notebooks/rl2024/ex1/results/model/CartPole-v1-model1_params.pt ...\n",
      "Testing...\n",
      "Test ep reward: 142.0 seed: 990\n",
      "Average test reward: 142.0 episode length: 142.0\n",
      "Numpy/Torch/Random Seed:  100\n",
      "Loading model from /notebooks/rl2024/ex1/results/model/CartPole-v1-model1_params.pt ...\n",
      "Testing...\n",
      "Test ep reward: 129.0 seed: 100\n",
      "Average test reward: 129.0 episode length: 129.0\n",
      "CartPole-v1-model1 Average accuracy: [121.0, 129.0]\n",
      "CartPole-v1-model2\n",
      "Numpy/Torch/Random Seed:  295\n",
      "Configuration Settings: {'exp_name': 'ex1', 'seed': 295, 'env_name': 'CartPole-v1', 'model_name': 'CartPole-v1-model2', 'max_episode_steps': 100, 'train_episodes': 500, 'batch_size': 64, 'min_update_samples': 2000, 'testing': False, 'model_path': 'default', 'save_video': True, 'save_model': True, 'save_logging': True, 'silent': False, 'use_wandb': True, 'run_suffix': 0}\n",
      "Training device: cpu\n",
      "Observation space dimensions: 4\n",
      "Action space dimensions: 2\n",
      "\n",
      "Episode 0 finished. Total reward: 44.0 (44 timesteps)\n",
      "Episode 5 finished. Total reward: 27.0 (27 timesteps)\n",
      "Episode 10 finished. Total reward: 28.0 (28 timesteps)\n",
      "Episode 15 finished. Total reward: 20.0 (20 timesteps)\n",
      "Episode 20 finished. Total reward: 19.0 (19 timesteps)\n",
      "Episode 25 finished. Total reward: 17.0 (17 timesteps)\n",
      "Episode 30 finished. Total reward: 25.0 (25 timesteps)\n",
      "Episode 35 finished. Total reward: 14.0 (14 timesteps)\n",
      "Episode 40 finished. Total reward: 18.0 (18 timesteps)\n",
      "Episode 45 finished. Total reward: 17.0 (17 timesteps)\n",
      "Episode 50 finished. Total reward: 13.0 (13 timesteps)\n",
      "Episode 55 finished. Total reward: 41.0 (41 timesteps)\n",
      "Episode 60 finished. Total reward: 29.0 (29 timesteps)\n",
      "Episode 65 finished. Total reward: 10.0 (10 timesteps)\n",
      "Episode 70 finished. Total reward: 14.0 (14 timesteps)\n",
      "Episode 75 finished. Total reward: 25.0 (25 timesteps)\n",
      "Episode 80 finished. Total reward: 16.0 (16 timesteps)\n",
      "Episode 85 finished. Total reward: 15.0 (15 timesteps)\n",
      "Updating the policy...\n",
      "Updating finished!\n",
      "Episode 90 finished. Total reward: 12.0 (12 timesteps)\n",
      "Episode 95 finished. Total reward: 23.0 (23 timesteps)\n",
      "Episode 100 finished. Total reward: 31.0 (31 timesteps)\n",
      "Episode 105 finished. Total reward: 21.0 (21 timesteps)\n",
      "Episode 110 finished. Total reward: 33.0 (33 timesteps)\n",
      "Episode 115 finished. Total reward: 22.0 (22 timesteps)\n",
      "Episode 120 finished. Total reward: 45.0 (45 timesteps)\n",
      "Episode 125 finished. Total reward: 36.0 (36 timesteps)\n",
      "Episode 130 finished. Total reward: 39.0 (39 timesteps)\n",
      "Episode 135 finished. Total reward: 17.0 (17 timesteps)\n",
      "Episode 140 finished. Total reward: 17.0 (17 timesteps)\n",
      "Episode 145 finished. Total reward: 46.0 (46 timesteps)\n",
      "Episode 150 finished. Total reward: 26.0 (26 timesteps)\n",
      "Updating the policy...\n",
      "Updating finished!\n",
      "Episode 155 finished. Total reward: 41.0 (41 timesteps)\n",
      "Episode 160 finished. Total reward: 39.0 (39 timesteps)\n",
      "Episode 165 finished. Total reward: 35.0 (35 timesteps)\n",
      "Episode 170 finished. Total reward: 32.0 (32 timesteps)\n",
      "Episode 175 finished. Total reward: 17.0 (17 timesteps)\n",
      "Episode 180 finished. Total reward: 67.0 (67 timesteps)\n",
      "Episode 185 finished. Total reward: 28.0 (28 timesteps)\n",
      "Episode 190 finished. Total reward: 22.0 (22 timesteps)\n",
      "Episode 195 finished. Total reward: 37.0 (37 timesteps)\n",
      "Updating the policy...\n",
      "Updating finished!\n",
      "Episode 200 finished. Total reward: 24.0 (24 timesteps)\n",
      "Episode 205 finished. Total reward: 36.0 (36 timesteps)\n",
      "Episode 210 finished. Total reward: 57.0 (57 timesteps)\n",
      "Episode 215 finished. Total reward: 34.0 (34 timesteps)\n",
      "Episode 220 finished. Total reward: 49.0 (49 timesteps)\n",
      "Episode 225 finished. Total reward: 53.0 (53 timesteps)\n",
      "Episode 230 finished. Total reward: 49.0 (49 timesteps)\n",
      "Episode 235 finished. Total reward: 9.0 (9 timesteps)\n",
      "Updating the policy...\n",
      "Updating finished!\n",
      "Episode 240 finished. Total reward: 100.0 (100 timesteps)\n",
      "Episode 245 finished. Total reward: 51.0 (51 timesteps)\n",
      "Episode 250 finished. Total reward: 30.0 (30 timesteps)\n",
      "Episode 255 finished. Total reward: 100.0 (100 timesteps)\n",
      "Episode 260 finished. Total reward: 98.0 (98 timesteps)\n",
      "Updating the policy...\n",
      "Updating finished!\n",
      "Episode 265 finished. Total reward: 100.0 (100 timesteps)\n",
      "Episode 270 finished. Total reward: 100.0 (100 timesteps)\n",
      "Episode 275 finished. Total reward: 100.0 (100 timesteps)\n",
      "Episode 280 finished. Total reward: 100.0 (100 timesteps)\n",
      "Updating the policy...\n",
      "Updating finished!\n",
      "Episode 285 finished. Total reward: 100.0 (100 timesteps)\n",
      "Episode 290 finished. Total reward: 100.0 (100 timesteps)\n",
      "Episode 295 finished. Total reward: 100.0 (100 timesteps)\n",
      "Episode 300 finished. Total reward: 82.0 (82 timesteps)\n",
      "Updating the policy...\n",
      "Updating finished!\n",
      "Episode 305 finished. Total reward: 100.0 (100 timesteps)\n",
      "Episode 310 finished. Total reward: 100.0 (100 timesteps)\n",
      "Episode 315 finished. Total reward: 100.0 (100 timesteps)\n",
      "Episode 320 finished. Total reward: 100.0 (100 timesteps)\n",
      "Updating the policy...\n",
      "Updating finished!\n",
      "Episode 325 finished. Total reward: 100.0 (100 timesteps)\n",
      "Episode 330 finished. Total reward: 100.0 (100 timesteps)\n",
      "Episode 335 finished. Total reward: 100.0 (100 timesteps)\n",
      "Episode 340 finished. Total reward: 100.0 (100 timesteps)\n",
      "Updating the policy...\n",
      "Updating finished!\n",
      "Episode 345 finished. Total reward: 100.0 (100 timesteps)\n",
      "Episode 350 finished. Total reward: 83.0 (83 timesteps)\n",
      "Episode 355 finished. Total reward: 67.0 (67 timesteps)\n",
      "Episode 360 finished. Total reward: 100.0 (100 timesteps)\n",
      "Episode 365 finished. Total reward: 100.0 (100 timesteps)\n",
      "Updating the policy...\n",
      "Updating finished!\n",
      "Episode 370 finished. Total reward: 100.0 (100 timesteps)\n",
      "Episode 375 finished. Total reward: 100.0 (100 timesteps)\n",
      "Episode 380 finished. Total reward: 100.0 (100 timesteps)\n",
      "Episode 385 finished. Total reward: 100.0 (100 timesteps)\n",
      "Updating the policy...\n",
      "Updating finished!\n",
      "Episode 390 finished. Total reward: 100.0 (100 timesteps)\n",
      "Episode 395 finished. Total reward: 100.0 (100 timesteps)\n",
      "Episode 400 finished. Total reward: 100.0 (100 timesteps)\n",
      "Episode 405 finished. Total reward: 100.0 (100 timesteps)\n",
      "Episode 410 finished. Total reward: 100.0 (100 timesteps)\n",
      "Updating the policy...\n",
      "Updating finished!\n",
      "Episode 415 finished. Total reward: 100.0 (100 timesteps)\n",
      "Episode 420 finished. Total reward: 100.0 (100 timesteps)\n",
      "Episode 425 finished. Total reward: 100.0 (100 timesteps)\n",
      "Episode 430 finished. Total reward: 100.0 (100 timesteps)\n",
      "Updating the policy...\n",
      "Updating finished!\n",
      "Episode 435 finished. Total reward: 52.0 (52 timesteps)\n",
      "Episode 440 finished. Total reward: 100.0 (100 timesteps)\n",
      "Episode 445 finished. Total reward: 9.0 (9 timesteps)\n",
      "Episode 450 finished. Total reward: 100.0 (100 timesteps)\n",
      "Updating the policy...\n",
      "Updating finished!\n",
      "Episode 455 finished. Total reward: 100.0 (100 timesteps)\n",
      "Episode 460 finished. Total reward: 50.0 (50 timesteps)\n",
      "Episode 465 finished. Total reward: 100.0 (100 timesteps)\n",
      "Episode 470 finished. Total reward: 100.0 (100 timesteps)\n",
      "Updating the policy...\n",
      "Updating finished!\n",
      "Episode 475 finished. Total reward: 100.0 (100 timesteps)\n",
      "Episode 480 finished. Total reward: 100.0 (100 timesteps)\n",
      "Episode 485 finished. Total reward: 100.0 (100 timesteps)\n",
      "Episode 490 finished. Total reward: 100.0 (100 timesteps)\n",
      "Updating the policy...\n",
      "Updating finished!\n",
      "Episode 495 finished. Total reward: 100.0 (100 timesteps)\n",
      "Episode 500 finished. Total reward: 100.0 (100 timesteps)\n",
      "Model saved to /notebooks/rl2024/ex1/results/model/CartPole-v1-model2_params.pt\n",
      "------Training finished.------\n",
      "Numpy/Torch/Random Seed:  45\n",
      "Loading model from /notebooks/rl2024/ex1/results/model/CartPole-v1-model2_params.pt ...\n",
      "Testing...\n",
      "Test ep reward: 121.0 seed: 45\n",
      "Average test reward: 121.0 episode length: 121.0\n",
      "Numpy/Torch/Random Seed:  430\n",
      "Loading model from /notebooks/rl2024/ex1/results/model/CartPole-v1-model2_params.pt ...\n",
      "Testing...\n",
      "Test ep reward: 116.0 seed: 430\n",
      "Average test reward: 116.0 episode length: 116.0\n",
      "Numpy/Torch/Random Seed:  295\n",
      "Loading model from /notebooks/rl2024/ex1/results/model/CartPole-v1-model2_params.pt ...\n",
      "Testing...\n",
      "Test ep reward: 124.0 seed: 295\n",
      "Average test reward: 124.0 episode length: 124.0\n",
      "Numpy/Torch/Random Seed:  990\n",
      "Loading model from /notebooks/rl2024/ex1/results/model/CartPole-v1-model2_params.pt ...\n",
      "Testing...\n",
      "Test ep reward: 188.0 seed: 990\n",
      "Average test reward: 188.0 episode length: 188.0\n",
      "Numpy/Torch/Random Seed:  100\n",
      "Loading model from /notebooks/rl2024/ex1/results/model/CartPole-v1-model2_params.pt ...\n",
      "Testing...\n",
      "Test ep reward: 145.0 seed: 100\n",
      "Average test reward: 145.0 episode length: 145.0\n",
      "CartPole-v1-model2 Average accuracy: [121.0, 129.0, 145.0]\n",
      "CartPole-v1-model3\n",
      "Numpy/Torch/Random Seed:  990\n",
      "Configuration Settings: {'exp_name': 'ex1', 'seed': 990, 'env_name': 'CartPole-v1', 'model_name': 'CartPole-v1-model3', 'max_episode_steps': 100, 'train_episodes': 500, 'batch_size': 64, 'min_update_samples': 2000, 'testing': False, 'model_path': 'default', 'save_video': True, 'save_model': True, 'save_logging': True, 'silent': False, 'use_wandb': True, 'run_suffix': 0}\n",
      "Training device: cpu\n",
      "Observation space dimensions: 4\n",
      "Action space dimensions: 2\n",
      "\n",
      "Episode 0 finished. Total reward: 10.0 (10 timesteps)\n",
      "Episode 5 finished. Total reward: 60.0 (60 timesteps)\n",
      "Episode 10 finished. Total reward: 44.0 (44 timesteps)\n",
      "Episode 15 finished. Total reward: 13.0 (13 timesteps)\n",
      "Episode 20 finished. Total reward: 9.0 (9 timesteps)\n",
      "Episode 25 finished. Total reward: 11.0 (11 timesteps)\n",
      "Episode 30 finished. Total reward: 18.0 (18 timesteps)\n",
      "Episode 35 finished. Total reward: 21.0 (21 timesteps)\n",
      "Episode 40 finished. Total reward: 40.0 (40 timesteps)\n",
      "Episode 45 finished. Total reward: 23.0 (23 timesteps)\n",
      "Episode 50 finished. Total reward: 50.0 (50 timesteps)\n",
      "Episode 55 finished. Total reward: 13.0 (13 timesteps)\n",
      "Episode 60 finished. Total reward: 18.0 (18 timesteps)\n",
      "Episode 65 finished. Total reward: 23.0 (23 timesteps)\n",
      "Episode 70 finished. Total reward: 28.0 (28 timesteps)\n",
      "Episode 75 finished. Total reward: 22.0 (22 timesteps)\n",
      "Episode 80 finished. Total reward: 9.0 (9 timesteps)\n",
      "Episode 85 finished. Total reward: 12.0 (12 timesteps)\n",
      "Episode 90 finished. Total reward: 17.0 (17 timesteps)\n",
      "Updating the policy...\n",
      "Updating finished!\n",
      "Episode 95 finished. Total reward: 63.0 (63 timesteps)\n",
      "Episode 100 finished. Total reward: 14.0 (14 timesteps)\n",
      "Episode 105 finished. Total reward: 35.0 (35 timesteps)\n",
      "Episode 110 finished. Total reward: 19.0 (19 timesteps)\n",
      "Episode 115 finished. Total reward: 100.0 (100 timesteps)\n",
      "Episode 120 finished. Total reward: 31.0 (31 timesteps)\n",
      "Episode 125 finished. Total reward: 36.0 (36 timesteps)\n",
      "Episode 130 finished. Total reward: 16.0 (16 timesteps)\n",
      "Episode 135 finished. Total reward: 20.0 (20 timesteps)\n",
      "Episode 140 finished. Total reward: 26.0 (26 timesteps)\n",
      "Episode 145 finished. Total reward: 27.0 (27 timesteps)\n",
      "Episode 150 finished. Total reward: 11.0 (11 timesteps)\n",
      "Episode 155 finished. Total reward: 18.0 (18 timesteps)\n",
      "Updating the policy...\n",
      "Updating finished!\n",
      "Episode 160 finished. Total reward: 18.0 (18 timesteps)\n",
      "Episode 165 finished. Total reward: 62.0 (62 timesteps)\n",
      "Episode 170 finished. Total reward: 58.0 (58 timesteps)\n",
      "Episode 175 finished. Total reward: 16.0 (16 timesteps)\n",
      "Episode 180 finished. Total reward: 63.0 (63 timesteps)\n",
      "Episode 185 finished. Total reward: 15.0 (15 timesteps)\n",
      "Episode 190 finished. Total reward: 41.0 (41 timesteps)\n",
      "Episode 195 finished. Total reward: 83.0 (83 timesteps)\n",
      "Episode 200 finished. Total reward: 41.0 (41 timesteps)\n",
      "Updating the policy...\n",
      "Updating finished!\n",
      "Episode 205 finished. Total reward: 85.0 (85 timesteps)\n",
      "Episode 210 finished. Total reward: 100.0 (100 timesteps)\n",
      "Episode 215 finished. Total reward: 73.0 (73 timesteps)\n",
      "Episode 220 finished. Total reward: 100.0 (100 timesteps)\n",
      "Episode 225 finished. Total reward: 100.0 (100 timesteps)\n",
      "Updating the policy...\n",
      "Updating finished!\n",
      "Episode 230 finished. Total reward: 63.0 (63 timesteps)\n",
      "Episode 235 finished. Total reward: 100.0 (100 timesteps)\n",
      "Episode 240 finished. Total reward: 52.0 (52 timesteps)\n",
      "Episode 245 finished. Total reward: 28.0 (28 timesteps)\n",
      "Episode 250 finished. Total reward: 88.0 (88 timesteps)\n",
      "Episode 255 finished. Total reward: 100.0 (100 timesteps)\n",
      "Updating the policy...\n",
      "Updating finished!\n",
      "Episode 260 finished. Total reward: 33.0 (33 timesteps)\n",
      "Episode 265 finished. Total reward: 100.0 (100 timesteps)\n",
      "Episode 270 finished. Total reward: 100.0 (100 timesteps)\n",
      "Episode 275 finished. Total reward: 100.0 (100 timesteps)\n",
      "Episode 280 finished. Total reward: 100.0 (100 timesteps)\n",
      "Updating the policy...\n",
      "Updating finished!\n",
      "Episode 285 finished. Total reward: 100.0 (100 timesteps)\n",
      "Episode 290 finished. Total reward: 100.0 (100 timesteps)\n",
      "Episode 295 finished. Total reward: 83.0 (83 timesteps)\n",
      "Episode 300 finished. Total reward: 100.0 (100 timesteps)\n",
      "Updating the policy...\n",
      "Updating finished!\n",
      "Episode 305 finished. Total reward: 100.0 (100 timesteps)\n",
      "Episode 310 finished. Total reward: 100.0 (100 timesteps)\n",
      "Episode 315 finished. Total reward: 100.0 (100 timesteps)\n",
      "Episode 320 finished. Total reward: 100.0 (100 timesteps)\n",
      "Updating the policy...\n",
      "Updating finished!\n",
      "Episode 325 finished. Total reward: 100.0 (100 timesteps)\n",
      "Episode 330 finished. Total reward: 100.0 (100 timesteps)\n",
      "Episode 335 finished. Total reward: 100.0 (100 timesteps)\n",
      "Episode 340 finished. Total reward: 100.0 (100 timesteps)\n",
      "Updating the policy...\n",
      "Updating finished!\n",
      "Episode 345 finished. Total reward: 100.0 (100 timesteps)\n",
      "Episode 350 finished. Total reward: 79.0 (79 timesteps)\n",
      "Episode 355 finished. Total reward: 100.0 (100 timesteps)\n",
      "Episode 360 finished. Total reward: 100.0 (100 timesteps)\n",
      "Episode 365 finished. Total reward: 93.0 (93 timesteps)\n",
      "Updating the policy...\n",
      "Updating finished!\n",
      "Episode 370 finished. Total reward: 100.0 (100 timesteps)\n",
      "Episode 375 finished. Total reward: 100.0 (100 timesteps)\n",
      "Episode 380 finished. Total reward: 100.0 (100 timesteps)\n",
      "Episode 385 finished. Total reward: 100.0 (100 timesteps)\n",
      "Updating the policy...\n",
      "Updating finished!\n",
      "Episode 390 finished. Total reward: 100.0 (100 timesteps)\n",
      "Episode 395 finished. Total reward: 100.0 (100 timesteps)\n",
      "Episode 400 finished. Total reward: 100.0 (100 timesteps)\n",
      "Episode 405 finished. Total reward: 100.0 (100 timesteps)\n",
      "Updating the policy...\n",
      "Updating finished!\n",
      "Episode 410 finished. Total reward: 100.0 (100 timesteps)\n",
      "Episode 415 finished. Total reward: 100.0 (100 timesteps)\n",
      "Episode 420 finished. Total reward: 100.0 (100 timesteps)\n",
      "Episode 425 finished. Total reward: 100.0 (100 timesteps)\n",
      "Updating the policy...\n",
      "Updating finished!\n",
      "Episode 430 finished. Total reward: 94.0 (94 timesteps)\n",
      "Episode 435 finished. Total reward: 100.0 (100 timesteps)\n",
      "Episode 440 finished. Total reward: 100.0 (100 timesteps)\n",
      "Episode 445 finished. Total reward: 100.0 (100 timesteps)\n",
      "Updating the policy...\n",
      "Updating finished!\n",
      "Episode 450 finished. Total reward: 100.0 (100 timesteps)\n",
      "Episode 455 finished. Total reward: 100.0 (100 timesteps)\n",
      "Episode 460 finished. Total reward: 89.0 (89 timesteps)\n",
      "Episode 465 finished. Total reward: 100.0 (100 timesteps)\n",
      "Updating the policy...\n",
      "Updating finished!\n",
      "Episode 470 finished. Total reward: 100.0 (100 timesteps)\n",
      "Episode 475 finished. Total reward: 100.0 (100 timesteps)\n",
      "Episode 480 finished. Total reward: 100.0 (100 timesteps)\n",
      "Episode 485 finished. Total reward: 100.0 (100 timesteps)\n",
      "Updating the policy...\n",
      "Updating finished!\n",
      "Episode 490 finished. Total reward: 100.0 (100 timesteps)\n",
      "Episode 495 finished. Total reward: 100.0 (100 timesteps)\n",
      "Episode 500 finished. Total reward: 100.0 (100 timesteps)\n",
      "Model saved to /notebooks/rl2024/ex1/results/model/CartPole-v1-model3_params.pt\n",
      "------Training finished.------\n",
      "Numpy/Torch/Random Seed:  45\n",
      "Loading model from /notebooks/rl2024/ex1/results/model/CartPole-v1-model3_params.pt ...\n",
      "Testing...\n",
      "Test ep reward: 215.0 seed: 45\n",
      "Average test reward: 215.0 episode length: 215.0\n",
      "Numpy/Torch/Random Seed:  430\n",
      "Loading model from /notebooks/rl2024/ex1/results/model/CartPole-v1-model3_params.pt ...\n",
      "Testing...\n",
      "Test ep reward: 202.0 seed: 430\n",
      "Average test reward: 202.0 episode length: 202.0\n",
      "Numpy/Torch/Random Seed:  295\n",
      "Loading model from /notebooks/rl2024/ex1/results/model/CartPole-v1-model3_params.pt ...\n",
      "Testing...\n",
      "Test ep reward: 171.0 seed: 295\n",
      "Average test reward: 171.0 episode length: 171.0\n",
      "Numpy/Torch/Random Seed:  990\n",
      "Loading model from /notebooks/rl2024/ex1/results/model/CartPole-v1-model3_params.pt ...\n",
      "Testing...\n",
      "Test ep reward: 137.0 seed: 990\n",
      "Average test reward: 137.0 episode length: 137.0\n",
      "Numpy/Torch/Random Seed:  100\n",
      "Loading model from /notebooks/rl2024/ex1/results/model/CartPole-v1-model3_params.pt ...\n",
      "Testing...\n",
      "Test ep reward: 158.0 seed: 100\n",
      "Average test reward: 158.0 episode length: 158.0\n",
      "CartPole-v1-model3 Average accuracy: [121.0, 129.0, 145.0, 158.0]\n",
      "CartPole-v1-model4\n",
      "Numpy/Torch/Random Seed:  100\n",
      "Configuration Settings: {'exp_name': 'ex1', 'seed': 100, 'env_name': 'CartPole-v1', 'model_name': 'CartPole-v1-model4', 'max_episode_steps': 100, 'train_episodes': 500, 'batch_size': 64, 'min_update_samples': 2000, 'testing': False, 'model_path': 'default', 'save_video': True, 'save_model': True, 'save_logging': True, 'silent': False, 'use_wandb': True, 'run_suffix': 0}\n",
      "Training device: cpu\n",
      "Observation space dimensions: 4\n",
      "Action space dimensions: 2\n",
      "\n",
      "Episode 0 finished. Total reward: 24.0 (24 timesteps)\n",
      "Episode 5 finished. Total reward: 19.0 (19 timesteps)\n",
      "Episode 10 finished. Total reward: 39.0 (39 timesteps)\n",
      "Episode 15 finished. Total reward: 19.0 (19 timesteps)\n",
      "Episode 20 finished. Total reward: 11.0 (11 timesteps)\n",
      "Episode 25 finished. Total reward: 21.0 (21 timesteps)\n",
      "Episode 30 finished. Total reward: 33.0 (33 timesteps)\n",
      "Episode 35 finished. Total reward: 14.0 (14 timesteps)\n",
      "Episode 40 finished. Total reward: 23.0 (23 timesteps)\n",
      "Episode 45 finished. Total reward: 16.0 (16 timesteps)\n",
      "Episode 50 finished. Total reward: 20.0 (20 timesteps)\n",
      "Episode 55 finished. Total reward: 11.0 (11 timesteps)\n",
      "Episode 60 finished. Total reward: 18.0 (18 timesteps)\n",
      "Episode 65 finished. Total reward: 29.0 (29 timesteps)\n",
      "Episode 70 finished. Total reward: 25.0 (25 timesteps)\n",
      "Episode 75 finished. Total reward: 17.0 (17 timesteps)\n",
      "Episode 80 finished. Total reward: 14.0 (14 timesteps)\n",
      "Episode 85 finished. Total reward: 38.0 (38 timesteps)\n",
      "Episode 90 finished. Total reward: 15.0 (15 timesteps)\n",
      "Updating the policy...\n",
      "Updating finished!\n",
      "Episode 95 finished. Total reward: 18.0 (18 timesteps)\n",
      "Episode 100 finished. Total reward: 52.0 (52 timesteps)\n",
      "Episode 105 finished. Total reward: 23.0 (23 timesteps)\n",
      "Episode 110 finished. Total reward: 18.0 (18 timesteps)\n",
      "Episode 115 finished. Total reward: 15.0 (15 timesteps)\n",
      "Episode 120 finished. Total reward: 18.0 (18 timesteps)\n",
      "Episode 125 finished. Total reward: 15.0 (15 timesteps)\n",
      "Episode 130 finished. Total reward: 43.0 (43 timesteps)\n",
      "Episode 135 finished. Total reward: 32.0 (32 timesteps)\n",
      "Episode 140 finished. Total reward: 68.0 (68 timesteps)\n",
      "Episode 145 finished. Total reward: 19.0 (19 timesteps)\n",
      "Episode 150 finished. Total reward: 19.0 (19 timesteps)\n",
      "Episode 155 finished. Total reward: 44.0 (44 timesteps)\n",
      "Episode 160 finished. Total reward: 26.0 (26 timesteps)\n",
      "Updating the policy...\n",
      "Updating finished!\n",
      "Episode 165 finished. Total reward: 94.0 (94 timesteps)\n",
      "Episode 170 finished. Total reward: 33.0 (33 timesteps)\n",
      "Episode 175 finished. Total reward: 19.0 (19 timesteps)\n",
      "Episode 180 finished. Total reward: 26.0 (26 timesteps)\n",
      "Episode 185 finished. Total reward: 77.0 (77 timesteps)\n",
      "Episode 190 finished. Total reward: 23.0 (23 timesteps)\n",
      "Episode 195 finished. Total reward: 20.0 (20 timesteps)\n",
      "Episode 200 finished. Total reward: 23.0 (23 timesteps)\n",
      "Episode 205 finished. Total reward: 56.0 (56 timesteps)\n",
      "Episode 210 finished. Total reward: 25.0 (25 timesteps)\n",
      "Updating the policy...\n",
      "Updating finished!\n",
      "Episode 215 finished. Total reward: 100.0 (100 timesteps)\n",
      "Episode 220 finished. Total reward: 58.0 (58 timesteps)\n",
      "Episode 225 finished. Total reward: 55.0 (55 timesteps)\n",
      "Episode 230 finished. Total reward: 75.0 (75 timesteps)\n",
      "Episode 235 finished. Total reward: 100.0 (100 timesteps)\n",
      "Episode 240 finished. Total reward: 45.0 (45 timesteps)\n",
      "Updating the policy...\n",
      "Updating finished!\n",
      "Episode 245 finished. Total reward: 53.0 (53 timesteps)\n",
      "Episode 250 finished. Total reward: 83.0 (83 timesteps)\n",
      "Episode 255 finished. Total reward: 100.0 (100 timesteps)\n",
      "Episode 260 finished. Total reward: 100.0 (100 timesteps)\n",
      "Episode 265 finished. Total reward: 100.0 (100 timesteps)\n",
      "Updating the policy...\n",
      "Updating finished!\n",
      "Episode 270 finished. Total reward: 94.0 (94 timesteps)\n",
      "Episode 275 finished. Total reward: 100.0 (100 timesteps)\n",
      "Episode 280 finished. Total reward: 100.0 (100 timesteps)\n",
      "Episode 285 finished. Total reward: 100.0 (100 timesteps)\n",
      "Updating the policy...\n",
      "Updating finished!\n",
      "Episode 290 finished. Total reward: 100.0 (100 timesteps)\n",
      "Episode 295 finished. Total reward: 89.0 (89 timesteps)\n",
      "Episode 300 finished. Total reward: 24.0 (24 timesteps)\n",
      "Episode 305 finished. Total reward: 100.0 (100 timesteps)\n",
      "Episode 310 finished. Total reward: 100.0 (100 timesteps)\n",
      "Updating the policy...\n",
      "Updating finished!\n",
      "Episode 315 finished. Total reward: 100.0 (100 timesteps)\n",
      "Episode 320 finished. Total reward: 100.0 (100 timesteps)\n",
      "Episode 325 finished. Total reward: 44.0 (44 timesteps)\n",
      "Episode 330 finished. Total reward: 100.0 (100 timesteps)\n",
      "Updating the policy...\n",
      "Updating finished!\n",
      "Episode 335 finished. Total reward: 100.0 (100 timesteps)\n",
      "Episode 340 finished. Total reward: 100.0 (100 timesteps)\n",
      "Episode 345 finished. Total reward: 100.0 (100 timesteps)\n",
      "Episode 350 finished. Total reward: 100.0 (100 timesteps)\n",
      "Updating the policy...\n",
      "Updating finished!\n",
      "Episode 355 finished. Total reward: 100.0 (100 timesteps)\n",
      "Episode 360 finished. Total reward: 100.0 (100 timesteps)\n",
      "Episode 365 finished. Total reward: 100.0 (100 timesteps)\n",
      "Episode 370 finished. Total reward: 100.0 (100 timesteps)\n",
      "Updating the policy...\n",
      "Updating finished!\n",
      "Episode 375 finished. Total reward: 100.0 (100 timesteps)\n",
      "Episode 380 finished. Total reward: 100.0 (100 timesteps)\n",
      "Episode 385 finished. Total reward: 100.0 (100 timesteps)\n",
      "Episode 390 finished. Total reward: 100.0 (100 timesteps)\n",
      "Updating the policy...\n",
      "Updating finished!\n",
      "Episode 395 finished. Total reward: 25.0 (25 timesteps)\n",
      "Episode 400 finished. Total reward: 100.0 (100 timesteps)\n",
      "Episode 405 finished. Total reward: 99.0 (99 timesteps)\n",
      "Episode 410 finished. Total reward: 100.0 (100 timesteps)\n",
      "Episode 415 finished. Total reward: 92.0 (92 timesteps)\n",
      "Updating the policy...\n",
      "Updating finished!\n",
      "Episode 420 finished. Total reward: 49.0 (49 timesteps)\n",
      "Episode 425 finished. Total reward: 100.0 (100 timesteps)\n",
      "Episode 430 finished. Total reward: 49.0 (49 timesteps)\n",
      "Episode 435 finished. Total reward: 100.0 (100 timesteps)\n",
      "Episode 440 finished. Total reward: 100.0 (100 timesteps)\n",
      "Updating the policy...\n",
      "Updating finished!\n",
      "Episode 445 finished. Total reward: 100.0 (100 timesteps)\n",
      "Episode 450 finished. Total reward: 100.0 (100 timesteps)\n",
      "Episode 455 finished. Total reward: 100.0 (100 timesteps)\n",
      "Episode 460 finished. Total reward: 100.0 (100 timesteps)\n",
      "Updating the policy...\n",
      "Updating finished!\n",
      "Episode 465 finished. Total reward: 100.0 (100 timesteps)\n",
      "Episode 470 finished. Total reward: 98.0 (98 timesteps)\n",
      "Episode 475 finished. Total reward: 100.0 (100 timesteps)\n",
      "Episode 480 finished. Total reward: 100.0 (100 timesteps)\n",
      "Updating the policy...\n",
      "Updating finished!\n",
      "Episode 485 finished. Total reward: 100.0 (100 timesteps)\n",
      "Episode 490 finished. Total reward: 100.0 (100 timesteps)\n",
      "Episode 495 finished. Total reward: 100.0 (100 timesteps)\n",
      "Episode 500 finished. Total reward: 100.0 (100 timesteps)\n",
      "Model saved to /notebooks/rl2024/ex1/results/model/CartPole-v1-model4_params.pt\n",
      "------Training finished.------\n",
      "Numpy/Torch/Random Seed:  45\n",
      "Loading model from /notebooks/rl2024/ex1/results/model/CartPole-v1-model4_params.pt ...\n",
      "Testing...\n",
      "Test ep reward: 130.0 seed: 45\n",
      "Average test reward: 130.0 episode length: 130.0\n",
      "Numpy/Torch/Random Seed:  430\n",
      "Loading model from /notebooks/rl2024/ex1/results/model/CartPole-v1-model4_params.pt ...\n",
      "Testing...\n",
      "Test ep reward: 124.0 seed: 430\n",
      "Average test reward: 124.0 episode length: 124.0\n",
      "Numpy/Torch/Random Seed:  295\n",
      "Loading model from /notebooks/rl2024/ex1/results/model/CartPole-v1-model4_params.pt ...\n",
      "Testing...\n",
      "Test ep reward: 131.0 seed: 295\n",
      "Average test reward: 131.0 episode length: 131.0\n",
      "Numpy/Torch/Random Seed:  990\n",
      "Loading model from /notebooks/rl2024/ex1/results/model/CartPole-v1-model4_params.pt ...\n",
      "Testing...\n",
      "Test ep reward: 162.0 seed: 990\n",
      "Average test reward: 162.0 episode length: 162.0\n",
      "Numpy/Torch/Random Seed:  100\n",
      "Loading model from /notebooks/rl2024/ex1/results/model/CartPole-v1-model4_params.pt ...\n",
      "Testing...\n",
      "Test ep reward: 141.0 seed: 100\n",
      "Average test reward: 141.0 episode length: 141.0\n",
      "CartPole-v1-model4 Average accuracy: [121.0, 129.0, 145.0, 158.0, 141.0]\n"
     ]
    }
   ],
   "source": [
    "# %%capture\n",
    "# uncomment if you want to skip the output\n",
    "\n",
    "if not skip_training:\n",
    "    model_names = [\"CartPole-v1-model0\", \"CartPole-v1-model1\", \"CartPole-v1-model2\", \"CartPole-v1-model3\", \"CartPole-v1-model4\"]\n",
    "    model_seeds = [45, 430, 295, 990, 100]\n",
    "\n",
    "    assert len(set(model_seeds)) == 5\n",
    "    '''\n",
    "    TODO: Repeat the experiment in Task 1 five times\n",
    "    '''\n",
    "    ########## Your code starts here ##########\n",
    "    \n",
    "    mean_reward = []\n",
    "    k = 0\n",
    "    \n",
    "    for model in model_names:\n",
    "        print(model)\n",
    "        t.train(cfg_path=Path().cwd()/'cfg'/'cartpole_v1.yaml', cfg_args=dict(seed=model_seeds[k], max_episode_steps=100, model_name=model))\n",
    "       \n",
    "        for seed in model_seeds:\n",
    "            acc_rewards = t.test(episodes=1, cfg_path=Path().cwd()/'cfg'/'cartpole_v1.yaml', \n",
    "                           cfg_args=dict(testing=True,save_video=False, save_logging=False, save_model=True, \n",
    "                           seed=seed, max_episode_steps=1000, model_name=model))\n",
    "        mean_reward.append(acc_rewards)\n",
    "        print(model + \" Average accuracy: \" + str(mean_reward))\n",
    "        k = k+1\n",
    "            \n",
    "    ########## Your code ends here ##########\n",
    "\n"
   ]
  },
  {
   "cell_type": "markdown",
   "id": "0106a2db",
   "metadata": {},
   "source": [
    "Do not delete the cell below as it is used for grading."
   ]
  },
  {
   "cell_type": "code",
   "execution_count": 58,
   "id": "3b59f4fd",
   "metadata": {
    "deletable": false,
    "editable": false,
    "nbgrader": {
     "cell_type": "code",
     "checksum": "9b8f3f542f8ea26128cafabbdb2fc39d",
     "grade": true,
     "grade_id": "cell-410200f55bb863ed",
     "locked": true,
     "points": 10,
     "schema_version": 3,
     "solution": false,
     "task": false
    }
   },
   "outputs": [
    {
     "name": "stdout",
     "output_type": "stream",
     "text": [
      "Numpy/Torch/Random Seed:  700\n",
      "Loading model from /notebooks/rl2024/ex1/results/model/CartPole-v1-model0_params.pt ...\n",
      "Testing...\n",
      "Test ep reward: 114.0 seed: 700\n",
      "Average test reward: 114.0 episode length: 114.0\n",
      "Numpy/Torch/Random Seed:  800\n",
      "Loading model from /notebooks/rl2024/ex1/results/model/CartPole-v1-model0_params.pt ...\n",
      "Testing...\n",
      "Test ep reward: 122.0 seed: 800\n",
      "Average test reward: 122.0 episode length: 122.0\n",
      "Numpy/Torch/Random Seed:  900\n",
      "Loading model from /notebooks/rl2024/ex1/results/model/CartPole-v1-model0_params.pt ...\n",
      "Testing...\n",
      "Test ep reward: 119.0 seed: 900\n",
      "Average test reward: 119.0 episode length: 119.0\n",
      "Numpy/Torch/Random Seed:  1000\n",
      "Loading model from /notebooks/rl2024/ex1/results/model/CartPole-v1-model0_params.pt ...\n",
      "Testing...\n",
      "Test ep reward: 121.0 seed: 1000\n",
      "Average test reward: 121.0 episode length: 121.0\n",
      "Numpy/Torch/Random Seed:  2000\n",
      "Loading model from /notebooks/rl2024/ex1/results/model/CartPole-v1-model0_params.pt ...\n",
      "Testing...\n",
      "Test ep reward: 125.0 seed: 2000\n",
      "Average test reward: 125.0 episode length: 125.0\n",
      "Numpy/Torch/Random Seed:  700\n",
      "Loading model from /notebooks/rl2024/ex1/results/model/CartPole-v1-model1_params.pt ...\n",
      "Testing...\n",
      "Test ep reward: 122.0 seed: 700\n",
      "Average test reward: 122.0 episode length: 122.0\n",
      "Numpy/Torch/Random Seed:  800\n",
      "Loading model from /notebooks/rl2024/ex1/results/model/CartPole-v1-model1_params.pt ...\n",
      "Testing...\n",
      "Test ep reward: 129.0 seed: 800\n",
      "Average test reward: 129.0 episode length: 129.0\n",
      "Numpy/Torch/Random Seed:  900\n",
      "Loading model from /notebooks/rl2024/ex1/results/model/CartPole-v1-model1_params.pt ...\n",
      "Testing...\n",
      "Test ep reward: 126.0 seed: 900\n",
      "Average test reward: 126.0 episode length: 126.0\n",
      "Numpy/Torch/Random Seed:  1000\n",
      "Loading model from /notebooks/rl2024/ex1/results/model/CartPole-v1-model1_params.pt ...\n",
      "Testing...\n",
      "Test ep reward: 129.0 seed: 1000\n",
      "Average test reward: 129.0 episode length: 129.0\n",
      "Numpy/Torch/Random Seed:  2000\n",
      "Loading model from /notebooks/rl2024/ex1/results/model/CartPole-v1-model1_params.pt ...\n",
      "Testing...\n",
      "Test ep reward: 138.0 seed: 2000\n",
      "Average test reward: 138.0 episode length: 138.0\n",
      "Numpy/Torch/Random Seed:  700\n",
      "Loading model from /notebooks/rl2024/ex1/results/model/CartPole-v1-model2_params.pt ...\n",
      "Testing...\n",
      "Test ep reward: 122.0 seed: 700\n",
      "Average test reward: 122.0 episode length: 122.0\n",
      "Numpy/Torch/Random Seed:  800\n",
      "Loading model from /notebooks/rl2024/ex1/results/model/CartPole-v1-model2_params.pt ...\n",
      "Testing...\n",
      "Test ep reward: 136.0 seed: 800\n",
      "Average test reward: 136.0 episode length: 136.0\n",
      "Numpy/Torch/Random Seed:  900\n",
      "Loading model from /notebooks/rl2024/ex1/results/model/CartPole-v1-model2_params.pt ...\n",
      "Testing...\n",
      "Test ep reward: 131.0 seed: 900\n",
      "Average test reward: 131.0 episode length: 131.0\n",
      "Numpy/Torch/Random Seed:  1000\n",
      "Loading model from /notebooks/rl2024/ex1/results/model/CartPole-v1-model2_params.pt ...\n",
      "Testing...\n",
      "Test ep reward: 138.0 seed: 1000\n",
      "Average test reward: 138.0 episode length: 138.0\n",
      "Numpy/Torch/Random Seed:  2000\n",
      "Loading model from /notebooks/rl2024/ex1/results/model/CartPole-v1-model2_params.pt ...\n",
      "Testing...\n",
      "Test ep reward: 155.0 seed: 2000\n",
      "Average test reward: 155.0 episode length: 155.0\n",
      "Numpy/Torch/Random Seed:  700\n",
      "Loading model from /notebooks/rl2024/ex1/results/model/CartPole-v1-model3_params.pt ...\n",
      "Testing...\n",
      "Test ep reward: 182.0 seed: 700\n",
      "Average test reward: 182.0 episode length: 182.0\n",
      "Numpy/Torch/Random Seed:  800\n",
      "Loading model from /notebooks/rl2024/ex1/results/model/CartPole-v1-model3_params.pt ...\n",
      "Testing...\n",
      "Test ep reward: 152.0 seed: 800\n",
      "Average test reward: 152.0 episode length: 152.0\n",
      "Numpy/Torch/Random Seed:  900\n",
      "Loading model from /notebooks/rl2024/ex1/results/model/CartPole-v1-model3_params.pt ...\n",
      "Testing...\n",
      "Test ep reward: 181.0 seed: 900\n",
      "Average test reward: 181.0 episode length: 181.0\n",
      "Numpy/Torch/Random Seed:  1000\n",
      "Loading model from /notebooks/rl2024/ex1/results/model/CartPole-v1-model3_params.pt ...\n",
      "Testing...\n",
      "Test ep reward: 153.0 seed: 1000\n",
      "Average test reward: 153.0 episode length: 153.0\n",
      "Numpy/Torch/Random Seed:  2000\n",
      "Loading model from /notebooks/rl2024/ex1/results/model/CartPole-v1-model3_params.pt ...\n",
      "Testing...\n",
      "Test ep reward: 144.0 seed: 2000\n",
      "Average test reward: 144.0 episode length: 144.0\n",
      "Numpy/Torch/Random Seed:  700\n",
      "Loading model from /notebooks/rl2024/ex1/results/model/CartPole-v1-model4_params.pt ...\n",
      "Testing...\n",
      "Test ep reward: 133.0 seed: 700\n",
      "Average test reward: 133.0 episode length: 133.0\n",
      "Numpy/Torch/Random Seed:  800\n",
      "Loading model from /notebooks/rl2024/ex1/results/model/CartPole-v1-model4_params.pt ...\n",
      "Testing...\n",
      "Test ep reward: 149.0 seed: 800\n",
      "Average test reward: 149.0 episode length: 149.0\n",
      "Numpy/Torch/Random Seed:  900\n",
      "Loading model from /notebooks/rl2024/ex1/results/model/CartPole-v1-model4_params.pt ...\n",
      "Testing...\n",
      "Test ep reward: 138.0 seed: 900\n",
      "Average test reward: 138.0 episode length: 138.0\n",
      "Numpy/Torch/Random Seed:  1000\n",
      "Loading model from /notebooks/rl2024/ex1/results/model/CartPole-v1-model4_params.pt ...\n",
      "Testing...\n",
      "Test ep reward: 145.0 seed: 1000\n",
      "Average test reward: 145.0 episode length: 145.0\n",
      "Numpy/Torch/Random Seed:  2000\n",
      "Loading model from /notebooks/rl2024/ex1/results/model/CartPole-v1-model4_params.pt ...\n",
      "Testing...\n",
      "Test ep reward: 151.0 seed: 2000\n",
      "Average test reward: 151.0 episode length: 151.0\n"
     ]
    }
   ],
   "source": [
    "%%capture --no-stdout\n",
    "test_seeds = [700, 800, 900, 1000, 2000]\n",
    "\n",
    "for i in range(5):\n",
    "    for seed in test_seeds:\n",
    "        assert t.test(episodes=1, cfg_path=Path().cwd()/'cfg'/'cartpole_v1.yaml', \n",
    "            cfg_args=dict(testing=True, seed=seed,save_video=False, save_logging=False, \n",
    "            save_model=False, max_episode_steps=1000, model_name=str(\"CartPole-v1-model\"+str(i)))) > 100\n",
    "\n"
   ]
  },
  {
   "cell_type": "markdown",
   "id": "c5efc121-7d09-4645-804c-25015f5dea2a",
   "metadata": {
    "tags": []
   },
   "source": [
    "CartPole-v1-model0 Average accuracy: [121.0]\n",
    "CartPole-v1-model1 Average accuracy: [129.0]\n",
    "CartPole-v1-model2 Average accuracy: [145.0]\n",
    "CartPole-v1-model3 Average accuracy: [158.0]\n",
    "CartPole-v1-model4 Average accuracy: [141.0]"
   ]
  },
  {
   "cell_type": "markdown",
   "id": "95ff4274",
   "metadata": {
    "deletable": false,
    "editable": false,
    "nbgrader": {
     "cell_type": "markdown",
     "checksum": "4a996d7ff3ccc16e98ef6c64a247a59e",
     "grade": false,
     "grade_id": "cell-7b64e24c45653faa",
     "locked": true,
     "schema_version": 3,
     "solution": false,
     "task": false
    }
   },
   "source": [
    "<a id='Q2'></a>\n",
    "<div class=\" alert alert-warning\">\n",
    "    <h3><b>Student Question 2.1</b> Analysis of Training Performance (15 points) </h3> \n",
    "\n",
    "Are the behavior and performance of the trained models the same every time? Why/why not? Analyze the causes briefly. Hint: the random seed initializes the weights and the environment settings randomly.\n",
    "    \n",
    "🔝\t<a href='#TOC'><b>Table of Contents</b></a>\n",
    "</div>\n"
   ]
  },
  {
   "cell_type": "markdown",
   "id": "eee2bcdb",
   "metadata": {
    "deletable": false,
    "editable": false,
    "nbgrader": {
     "cell_type": "markdown",
     "checksum": "e182f1f667244911d5c375723b971013",
     "grade": false,
     "grade_id": "cell-7af2d94176449236",
     "locked": true,
     "schema_version": 3,
     "solution": false,
     "task": false
    }
   },
   "source": [
    "Select all the correct answers. You can select no more than 6 answers, otherwise you lose all exercise points.\n",
    "\n",
    "1. Yes, because the model has been optimized to always reach the highest possible reward regardless of random seeds or initial conditions.\n",
    "\n",
    "2. No, because the training dynamics and the evaluating dynamics are not the same\n",
    "\n",
    "3. No, because the trained model has stochastic behaviour which may perform differently in different environments\n",
    "\n",
    "4. No, the behaviour and performance are not the same, as shown by the different average rewards in previous Task. \n",
    "\n",
    "5. No, because there’s a lot of stochasticity involved in the training process\n",
    "\n",
    "6. No, because agent explores with random actions during training\n",
    "\n",
    "7. No, because policy is initially randomly initialised with random weights, gradient updates of the policy are noisy. \n",
    "\n",
    "8. No, because the environment may be stochastic: agent is randomly initialised in beginning of each episode, (transitions from one state to next one may follow a probability distribution)\n",
    "\n",
    "9. Yes, all machine learning models perform consistently after training due to the deterministic nature of their algorithms."
   ]
  },
  {
   "cell_type": "code",
   "execution_count": null,
   "id": "24c0e6d4",
   "metadata": {},
   "outputs": [],
   "source": [
    "sq2_1 = [3, 5, 6, 7] #Answer question 2.1 with the appropriate answer numbers"
   ]
  },
  {
   "cell_type": "code",
   "execution_count": null,
   "id": "a4f08826",
   "metadata": {
    "deletable": false,
    "editable": false,
    "nbgrader": {
     "cell_type": "code",
     "checksum": "8984880c713f3f91b66fe44e266ed251",
     "grade": true,
     "grade_id": "cell-722a5d335b120083",
     "locked": true,
     "points": 0,
     "schema_version": 3,
     "solution": false,
     "task": false
    }
   },
   "outputs": [],
   "source": [
    "assert 1 <= len(set(sq2_1)) <= 6\n",
    "assert set(sq2_1) < set(range(1, 10))"
   ]
  },
  {
   "cell_type": "markdown",
   "id": "c5011bb0",
   "metadata": {},
   "source": [
    "Do not remove the following blocks as they are used for grading"
   ]
  },
  {
   "cell_type": "code",
   "execution_count": null,
   "id": "6ea13a03",
   "metadata": {
    "deletable": false,
    "editable": false,
    "nbgrader": {
     "cell_type": "code",
     "checksum": "ecec9d4c828f9bed69a14039122d01f8",
     "grade": true,
     "grade_id": "cell-c78029cac9905a77",
     "locked": true,
     "points": 3,
     "schema_version": 3,
     "solution": false,
     "task": false
    }
   },
   "outputs": [],
   "source": []
  },
  {
   "cell_type": "code",
   "execution_count": null,
   "id": "fa2fbbce",
   "metadata": {
    "deletable": false,
    "editable": false,
    "nbgrader": {
     "cell_type": "code",
     "checksum": "ee347f3560f406aeae33d04d56afa907",
     "grade": true,
     "grade_id": "cell-9d6e251e5ab4caaa",
     "locked": true,
     "points": 3,
     "schema_version": 3,
     "solution": false,
     "task": false
    }
   },
   "outputs": [],
   "source": []
  },
  {
   "cell_type": "code",
   "execution_count": null,
   "id": "cfded39b",
   "metadata": {
    "deletable": false,
    "editable": false,
    "nbgrader": {
     "cell_type": "code",
     "checksum": "b68ba72b4beaba16e6a1a23bd6c7af06",
     "grade": true,
     "grade_id": "cell-0cc6e8153c39e73f",
     "locked": true,
     "points": 3,
     "schema_version": 3,
     "solution": false,
     "task": false
    }
   },
   "outputs": [],
   "source": []
  },
  {
   "cell_type": "code",
   "execution_count": null,
   "id": "5871d663",
   "metadata": {
    "deletable": false,
    "editable": false,
    "nbgrader": {
     "cell_type": "code",
     "checksum": "119a95a042c705feb85c5dc20e6f7143",
     "grade": true,
     "grade_id": "cell-0622d1b37ab64c5f",
     "locked": true,
     "points": 3,
     "schema_version": 3,
     "solution": false,
     "task": false
    }
   },
   "outputs": [],
   "source": []
  },
  {
   "cell_type": "code",
   "execution_count": null,
   "id": "d58c5f09",
   "metadata": {
    "deletable": false,
    "editable": false,
    "nbgrader": {
     "cell_type": "code",
     "checksum": "2482be09b178df1a0623964d5ca75e57",
     "grade": true,
     "grade_id": "cell-cf801ba86d95dc4f",
     "locked": true,
     "points": 3,
     "schema_version": 3,
     "solution": false,
     "task": false
    }
   },
   "outputs": [],
   "source": []
  },
  {
   "cell_type": "markdown",
   "id": "8b248abf",
   "metadata": {
    "deletable": false,
    "editable": false,
    "nbgrader": {
     "cell_type": "markdown",
     "checksum": "160945a6af92cd280f1ac64dfddc0e36",
     "grade": false,
     "grade_id": "cell-e0d965bc4eca7b76",
     "locked": true,
     "schema_version": 3,
     "solution": false,
     "task": false
    },
    "tags": []
   },
   "source": [
    "<a id='Q3'></a>\n",
    "<div class=\" alert alert-warning\">\n",
    "    <h3><b>Student Question 2.2</b> Stochasticity (10 points) </h3> \n",
    "\n",
    "What are the implications of this stochasticity, when it comes to comparing reinforcement learning algorithms to each other? Please explain.\n",
    "    \n",
    "🔝\t<a href='#TOC'><b>Table of Contents</b></a>\n",
    "</div>\n"
   ]
  },
  {
   "cell_type": "markdown",
   "id": "b7b41e22",
   "metadata": {
    "deletable": false,
    "editable": false,
    "nbgrader": {
     "cell_type": "markdown",
     "checksum": "6f8d97d020366dc823856f0e1c7e3ca3",
     "grade": false,
     "grade_id": "cell-20eea1ddc122c6c4",
     "locked": true,
     "schema_version": 3,
     "solution": false,
     "task": false
    }
   },
   "source": [
    "Select the correct answer\n",
    "\n",
    "1. It is only necessary to compare the maximum rewards achieved by each algorithm to determine the best one.\n",
    "\n",
    "2. Stochasticity requires that algorithms be trained and evaluated multiple times to obtain a reliable estimate of performance, including measures of variance besides the average reward.\n",
    "\n",
    "3. Algorithms should be trained once under identical conditions to ensure a fair comparison, focusing on the consistency of the training process.\n",
    "\n",
    "4. The best approach is to evaluate algorithms based on their performance in a single, well-designed test to avoid the confounding effects of random variability.\n",
    "\n",
    "5. To effectively compare algorithms, one should calculate the median reward from multiple trials, as this is the most robust measure against outliers.\n"
   ]
  },
  {
   "cell_type": "code",
   "execution_count": null,
   "id": "ddea5e29",
   "metadata": {},
   "outputs": [],
   "source": [
    "sq2_2 = 2 #Answer question 2.2 with the appropriate answer number"
   ]
  },
  {
   "cell_type": "code",
   "execution_count": null,
   "id": "47fb2651",
   "metadata": {
    "deletable": false,
    "editable": false,
    "nbgrader": {
     "cell_type": "code",
     "checksum": "93b0daa059c5695a24ed19d7f2acdd44",
     "grade": true,
     "grade_id": "cell-f97b7298905094bd",
     "locked": true,
     "points": 0,
     "schema_version": 3,
     "solution": false,
     "task": false
    }
   },
   "outputs": [],
   "source": [
    "assert sq2_2 in range(1,6)"
   ]
  },
  {
   "cell_type": "markdown",
   "id": "82d5d136",
   "metadata": {},
   "source": [
    "The following cells are used for grading"
   ]
  },
  {
   "cell_type": "code",
   "execution_count": null,
   "id": "9307e725",
   "metadata": {
    "deletable": false,
    "editable": false,
    "nbgrader": {
     "cell_type": "code",
     "checksum": "e42ca79b6e86e066e25269ca5c72007e",
     "grade": true,
     "grade_id": "cell-270da713465619af",
     "locked": true,
     "points": 5,
     "schema_version": 3,
     "solution": false,
     "task": false
    }
   },
   "outputs": [],
   "source": []
  },
  {
   "cell_type": "code",
   "execution_count": null,
   "id": "1f38a7a5",
   "metadata": {
    "deletable": false,
    "editable": false,
    "nbgrader": {
     "cell_type": "code",
     "checksum": "c349bcb808edc0e15477780e58064484",
     "grade": true,
     "grade_id": "cell-390e4a656c3243a8",
     "locked": true,
     "points": 5,
     "schema_version": 3,
     "solution": false,
     "task": false
    }
   },
   "outputs": [],
   "source": []
  },
  {
   "cell_type": "markdown",
   "id": "842afa68",
   "metadata": {
    "deletable": false,
    "editable": false,
    "nbgrader": {
     "cell_type": "markdown",
     "checksum": "c77d78adb7ac2e8073a9ea95d4ddece4",
     "grade": false,
     "grade_id": "cell-18b846ee50e61942",
     "locked": true,
     "schema_version": 3,
     "solution": false,
     "task": false
    },
    "tags": []
   },
   "source": [
    "# Reacher <a id='3.'></a>\n",
    "\n",
    "Now we will focus on designing a reward function for a different environment, the Reacher environment, where a two-joint manipulator needs to reach a goal (see Figure 2).\n",
    "\n",
    "<figure>\n",
    "<img src=\"imgs/reacher.png\" width=\"200px\">\n",
    "<figcaption style=\"text-align: center\"> Figure 2: The Reacher environment  </figcaption>\n",
    "</figure>\n",
    "\n",
    "The Cartesian ($x$, $y$) position of the end-effector of the manipulator can be determined following the equation:\n",
    "\n",
    "$$\n",
    " x = L_1 \\sin(\\theta_0)+L_2 \\sin(\\theta_0+\\theta_1)\\\\\n",
    " y = -L_1 \\cos(\\theta_0)-L_2 \\cos(\\theta_0+\\theta_1)\n",
    "$$\n",
    "\n",
    "where $L1 = 1$, $L2 = 1$ are the lengths, and $\\theta_0$, $\\theta_1$ the joint angles of the first and second links respectively. The state (and observation) in this environment is the two element vector:\n",
    "\n",
    "$$\n",
    "o=s=\\left(\\begin{array}{c}\n",
    "\\theta_0 \\\\\n",
    "\\theta_1 \\\\\n",
    "\\end{array}\\right) \\text {, }\n",
    "$$\n",
    "\n",
    "The action space now consists of 5 \"options\"; 4 correspond rotating the first/second joint left/right, and the final one performs no motion at all (the configuration doesn’t change). The episode terminates when the agent reaches the target position, marked in red. Now, let us design a custom reward function and use it for training the RL agent."
   ]
  },
  {
   "cell_type": "markdown",
   "id": "e138b75d",
   "metadata": {
    "deletable": false,
    "editable": false,
    "nbgrader": {
     "cell_type": "markdown",
     "checksum": "ff94517d52449f9ad78ed836e8ae5056",
     "grade": false,
     "grade_id": "cell-47ba07fead317fd8",
     "locked": true,
     "schema_version": 3,
     "solution": false,
     "task": false
    }
   },
   "source": [
    "<a id='T3'></a>\n",
    "<div class=\" alert alert-warning\">\n",
    "    <h3><b>Student Task 3.</b> Reward Functions (20 points) </h3> \n",
    "\n",
    "Below two classes are shown that modify the reward function of the reacher function provided in ```reacher.py```. Edit the function ```get_reward``` _below_ (not in ```reacher.py```) in both classes. For each class, write a reward function to incentivise the agent to learn the following behaviors:\n",
    "\n",
    "Class 1) ```SpinningReacherEnv```: Keep the manipulator rotating clockwise continuously (w.r.t. angle θ_0). You can use a lower number of training episodes for this, e.g. train(cfg_args=dict(env_name='SpinningReacher-v0', train_episodes=200), overrides=['env=reacher_v1'])\n",
    "\n",
    "Class 2) ```TargetReacherEnv```: Reach the goal point located in x = [1.0,1.0] (marked in red). Use at least 500 training episodes.\n",
    "    \n",
    "Train one model for each behavior. \n",
    "\n",
    "**Hint:** Use the observation vector to get the quantities required to compute the new reward (such as the position of the manipulator). You can get the Cartesian position of the end-effector with ```self.get_cartesian_pos(state)```.\n",
    "            \n",
    "🔝\t<a href='#TOC'><b>Table of Contents</b></a>\n",
    "</div>\n"
   ]
  },
  {
   "cell_type": "code",
   "execution_count": 21,
   "id": "32bf76fe",
   "metadata": {
    "tags": []
   },
   "outputs": [
    {
     "name": "stderr",
     "output_type": "stream",
     "text": [
      "/opt/software/lib/python3.10/site-packages/gymnasium/envs/registration.py:693: UserWarning: \u001b[33mWARN: Overriding environment SpinningReacher-v0 already in registry.\u001b[0m\n",
      "  logger.warn(f\"Overriding environment {new_spec.id} already in registry.\")\n",
      "/opt/software/lib/python3.10/site-packages/gymnasium/envs/registration.py:693: UserWarning: \u001b[33mWARN: Overriding environment TargetReacher-v0 already in registry.\u001b[0m\n",
      "  logger.warn(f\"Overriding environment {new_spec.id} already in registry.\")\n"
     ]
    }
   ],
   "source": [
    "from reacher import ReacherEnv\n",
    "from typing import Optional\n",
    "from gymnasium.envs.registration import register\n",
    "\n",
    "class SpinningReacherEnv(ReacherEnv):\n",
    "    def __init__(self, render_mode: Optional[str] = None, max_episode_steps=200):\n",
    "        super().__init__(render_mode=render_mode, max_episode_steps=max_episode_steps)\n",
    "        \n",
    "    def get_reward(self, prev_state, action, next_state):\n",
    "        '''\n",
    "        TODO: Task 3: Implement and test the first reward function\n",
    "        '''\n",
    "        ########## Your code starts here ##########\n",
    "        \n",
    "        theta_0_prev = prev_state[0]\n",
    "        theta_0_curr = next_state[0]\n",
    "        delta_theta_0 = theta_0_curr - theta_0_prev\n",
    "        \n",
    "        reward = -delta_theta_0\n",
    "        \n",
    "        #discouraging no movement\n",
    "        if delta_theta_0 == 0:\n",
    "            reward -= 0.1\n",
    "        \n",
    "        return reward\n",
    "        ########## Your codes end here ########## \n",
    "        \n",
    "    \n",
    "register(\"SpinningReacher-v0\",\n",
    "        entry_point=\"%s:SpinningReacherEnv\"%__name__,\n",
    "        max_episode_steps=200)\n",
    "\n",
    "class TargetReacherEnv(ReacherEnv):\n",
    "    def __init__(self, render_mode: Optional[str] = None, max_episode_steps=200):\n",
    "        super().__init__(render_mode=render_mode, max_episode_steps=max_episode_steps)\n",
    "        \n",
    "    def get_reward(self, prev_state, action, next_state):\n",
    "        '''\n",
    "        # TODO: Task 3: Implement and test the second reward function\n",
    "        '''\n",
    "        ########## Your code starts here ##########\n",
    "        \n",
    "        target_position = np.array([1.0, 1.0])\n",
    "    \n",
    "        #end-effector position\n",
    "        effector_position = np.array(self.get_cartesian_pos(next_state))\n",
    "    \n",
    "        #reward as distance between target and end-effector\n",
    "        reward_distance = -np.linalg.norm(effector_position - target_position)\n",
    "        reward = reward_distance\n",
    "        \n",
    "        return reward\n",
    "    \n",
    "        ########## Your codes end here ########## \n",
    "        \n",
    "register(\"TargetReacher-v0\",\n",
    "        entry_point=\"%s:TargetReacherEnv\"%__name__,\n",
    "        max_episode_steps=200)"
   ]
  },
  {
   "cell_type": "code",
   "execution_count": 11,
   "id": "765ea45c",
   "metadata": {
    "tags": []
   },
   "outputs": [],
   "source": [
    "if not skip_training:\n",
    "      t.train(cfg_path=Path().cwd()/'cfg'/'reacher_v1.yaml', \n",
    "      cfg_args=dict(env_name='SpinningReacher-v0',model_name='SpinningReacher-v0', train_episodes=200, seed=1)) # < 5 mins"
   ]
  },
  {
   "cell_type": "code",
   "execution_count": 12,
   "id": "2d4cb332",
   "metadata": {
    "tags": []
   },
   "outputs": [],
   "source": [
    "if not skip_training:\n",
    "       t.test(episodes=10, cfg_path=Path().cwd()/'cfg'/'reacher_v1.yaml', \n",
    "       cfg_args=dict(env_name='SpinningReacher-v0',model_name='SpinningReacher-v0', testing=True,seed=None))"
   ]
  },
  {
   "cell_type": "markdown",
   "id": "383507bc",
   "metadata": {
    "deletable": false,
    "editable": false,
    "nbgrader": {
     "cell_type": "markdown",
     "checksum": "ae28a94ff0891a34fcdffc954b90cda2",
     "grade": false,
     "grade_id": "cell-06f756f42a921878",
     "locked": true,
     "schema_version": 3,
     "solution": false,
     "task": false
    }
   },
   "source": [
    "The agent acting in the environment can be seen using the following command. Change the ```path``` to pick the episode you want to visualize. Bear in mind by default video saving for training is taken every 50 episodes."
   ]
  },
  {
   "cell_type": "code",
   "execution_count": 15,
   "id": "555bc002",
   "metadata": {
    "tags": []
   },
   "outputs": [
    {
     "data": {
      "text/html": [
       "<video loop autoplay  >\n",
       " <source src=\"data:video/mp4;base64,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\" type=\"video/mp4\">\n",
       " Your browser does not support the video tag.\n",
       " </video>"
      ],
      "text/plain": [
       "<IPython.core.display.Video object>"
      ]
     },
     "metadata": {},
     "output_type": "display_data"
    }
   ],
   "source": [
    "if not skip_training:\n",
    "      video = Video(work_dir/'video'/'SpinningReacher-v0'/'test'/f'ex1-episode-0.mp4',\n",
    "      embed=True, html_attributes=\"loop autoplay\") # Set html_attributes=\"controls\" for video control\n",
    "      display(video)"
   ]
  },
  {
   "cell_type": "code",
   "execution_count": 22,
   "id": "663c258a",
   "metadata": {
    "tags": []
   },
   "outputs": [
    {
     "name": "stdout",
     "output_type": "stream",
     "text": [
      "Numpy/Torch/Random Seed:  1\n",
      "Configuration Settings: {'exp_name': 'ex1', 'seed': 1, 'env_name': 'TargetReacher-v0', 'model_name': 'TargetReacher-v0', 'max_episode_steps': 200, 'train_episodes': 500, 'batch_size': 64, 'min_update_samples': 2000, 'testing': False, 'model_path': 'default', 'save_video': True, 'save_model': True, 'save_logging': True, 'silent': False, 'use_wandb': True, 'run_suffix': 0}\n",
      "Training device: cpu\n",
      "Observation space dimensions: 2\n",
      "Action space dimensions: 5\n",
      "\n"
     ]
    },
    {
     "name": "stderr",
     "output_type": "stream",
     "text": [
      "/opt/software/lib/python3.10/site-packages/gymnasium/wrappers/record_video.py:87: UserWarning: \u001b[33mWARN: Overwriting existing videos at /notebooks/rl2024/ex1/results/video/TargetReacher-v0/train folder (try specifying a different `video_folder` for the `RecordVideo` wrapper if this is not desired)\u001b[0m\n",
      "  logger.warn(\n"
     ]
    },
    {
     "name": "stdout",
     "output_type": "stream",
     "text": [
      "Episode 0 finished. Total reward: -571.9537805008489 (200 timesteps)\n",
      "Episode 5 finished. Total reward: -533.6843759806541 (200 timesteps)\n",
      "Episode 10 finished. Total reward: -604.272767413936 (200 timesteps)\n",
      "Updating the policy...\n",
      "Updating finished!\n",
      "Episode 15 finished. Total reward: -80.1796538766261 (40 timesteps)\n",
      "Episode 20 finished. Total reward: -369.87731162214294 (200 timesteps)\n",
      "Updating the policy...\n",
      "Updating finished!\n",
      "Episode 25 finished. Total reward: -394.4414388304313 (200 timesteps)\n",
      "Episode 30 finished. Total reward: -378.48743626640504 (200 timesteps)\n",
      "Updating the policy...\n",
      "Updating finished!\n",
      "Episode 35 finished. Total reward: -373.0086270680964 (200 timesteps)\n",
      "Episode 40 finished. Total reward: -233.26818804176827 (134 timesteps)\n",
      "Episode 45 finished. Total reward: -60.5237512490564 (31 timesteps)\n",
      "Episode 50 finished. Total reward: -80.45341425616046 (44 timesteps)\n",
      "Updating the policy...\n",
      "Updating finished!\n",
      "Episode 55 finished. Total reward: -35.80822392924983 (21 timesteps)\n",
      "Episode 60 finished. Total reward: -151.32287389355596 (105 timesteps)\n",
      "Episode 65 finished. Total reward: -82.79113477770156 (37 timesteps)\n",
      "Episode 70 finished. Total reward: -325.3955444048953 (179 timesteps)\n",
      "Updating the policy...\n",
      "Updating finished!\n",
      "Episode 75 finished. Total reward: -129.70303411433866 (85 timesteps)\n",
      "Episode 80 finished. Total reward: -382.3229798029909 (189 timesteps)\n",
      "Episode 85 finished. Total reward: -86.74025455218394 (38 timesteps)\n",
      "Episode 90 finished. Total reward: -208.23570339057187 (111 timesteps)\n",
      "Episode 95 finished. Total reward: -299.91780581086226 (164 timesteps)\n",
      "Updating the policy...\n",
      "Updating finished!\n",
      "Episode 100 finished. Total reward: -367.3348305590615 (200 timesteps)\n",
      "Episode 105 finished. Total reward: -34.85407608561298 (25 timesteps)\n",
      "Episode 110 finished. Total reward: -357.7723130233212 (200 timesteps)\n",
      "Episode 115 finished. Total reward: -91.7588256271416 (64 timesteps)\n",
      "Episode 120 finished. Total reward: -273.353337928596 (169 timesteps)\n",
      "Episode 125 finished. Total reward: -280.5299344373903 (163 timesteps)\n",
      "Updating the policy...\n",
      "Updating finished!\n",
      "Episode 130 finished. Total reward: -222.27640157065375 (139 timesteps)\n",
      "Episode 135 finished. Total reward: -365.1862383396505 (200 timesteps)\n",
      "Episode 140 finished. Total reward: -51.60914469248095 (30 timesteps)\n",
      "Episode 145 finished. Total reward: -338.49758369673265 (200 timesteps)\n",
      "Episode 150 finished. Total reward: -39.6645531160769 (21 timesteps)\n",
      "Episode 155 finished. Total reward: -35.86884124642807 (19 timesteps)\n",
      "Updating the policy...\n",
      "Updating finished!\n",
      "Episode 160 finished. Total reward: -30.80251044942633 (17 timesteps)\n",
      "Episode 165 finished. Total reward: -43.05902316159371 (25 timesteps)\n",
      "Episode 170 finished. Total reward: -199.54354881468694 (112 timesteps)\n",
      "Episode 175 finished. Total reward: -42.30615421536371 (21 timesteps)\n",
      "Episode 180 finished. Total reward: -230.88535174481638 (142 timesteps)\n",
      "Episode 185 finished. Total reward: -221.0472965146015 (126 timesteps)\n",
      "Updating the policy...\n",
      "Updating finished!\n",
      "Episode 190 finished. Total reward: -35.838449292640334 (27 timesteps)\n",
      "Episode 195 finished. Total reward: -47.84226076980664 (30 timesteps)\n",
      "Episode 200 finished. Total reward: -298.46125389386214 (175 timesteps)\n",
      "Episode 205 finished. Total reward: -30.488648940288062 (18 timesteps)\n",
      "Episode 210 finished. Total reward: -32.43702402043547 (19 timesteps)\n",
      "Episode 215 finished. Total reward: -61.46050258568872 (47 timesteps)\n",
      "Updating the policy...\n",
      "Updating finished!\n",
      "Episode 220 finished. Total reward: -28.14286054331255 (16 timesteps)\n",
      "Episode 225 finished. Total reward: -32.97550276825772 (19 timesteps)\n",
      "Episode 230 finished. Total reward: -68.2774312735156 (52 timesteps)\n",
      "Episode 235 finished. Total reward: -25.150060366048336 (15 timesteps)\n",
      "Episode 240 finished. Total reward: -348.1143851654531 (200 timesteps)\n",
      "Updating the policy...\n",
      "Updating finished!\n",
      "Episode 245 finished. Total reward: -78.39209810765745 (57 timesteps)\n",
      "Episode 250 finished. Total reward: -355.72393519355114 (200 timesteps)\n",
      "Episode 255 finished. Total reward: -45.29884072513697 (24 timesteps)\n",
      "Episode 260 finished. Total reward: -26.612393535601136 (17 timesteps)\n",
      "Episode 265 finished. Total reward: -27.73773619773191 (16 timesteps)\n",
      "Updating the policy...\n",
      "Updating finished!\n",
      "Episode 270 finished. Total reward: -24.863364770094336 (16 timesteps)\n",
      "Episode 275 finished. Total reward: -78.80020032225862 (62 timesteps)\n",
      "Episode 280 finished. Total reward: -27.957475086126927 (16 timesteps)\n",
      "Episode 285 finished. Total reward: -338.8562585659363 (200 timesteps)\n",
      "Episode 290 finished. Total reward: -32.519009883618736 (21 timesteps)\n",
      "Episode 295 finished. Total reward: -348.86823686322725 (200 timesteps)\n",
      "Episode 300 finished. Total reward: -29.848933722007317 (19 timesteps)\n",
      "Episode 305 finished. Total reward: -34.10132082024734 (21 timesteps)\n",
      "Updating the policy...\n",
      "Updating finished!\n",
      "Episode 310 finished. Total reward: -24.5707829614306 (14 timesteps)\n",
      "Episode 315 finished. Total reward: -67.85193572983357 (48 timesteps)\n",
      "Episode 320 finished. Total reward: -28.76647837238569 (19 timesteps)\n",
      "Episode 325 finished. Total reward: -37.43696515319926 (20 timesteps)\n",
      "Episode 330 finished. Total reward: -28.279336483358463 (18 timesteps)\n",
      "Episode 335 finished. Total reward: -40.156430425456065 (23 timesteps)\n",
      "Episode 340 finished. Total reward: -157.4480321184227 (96 timesteps)\n",
      "Episode 345 finished. Total reward: -26.602077847704916 (16 timesteps)\n",
      "Episode 350 finished. Total reward: -25.18363684891801 (14 timesteps)\n",
      "Updating the policy...\n",
      "Updating finished!\n",
      "Episode 355 finished. Total reward: -361.8265372343272 (200 timesteps)\n",
      "Episode 360 finished. Total reward: -188.95992269848438 (100 timesteps)\n",
      "Episode 365 finished. Total reward: -27.995677348774255 (18 timesteps)\n",
      "Episode 370 finished. Total reward: -34.04309344852075 (18 timesteps)\n",
      "Episode 375 finished. Total reward: -26.99371974246626 (15 timesteps)\n",
      "Episode 380 finished. Total reward: -39.02818868254301 (20 timesteps)\n",
      "Episode 385 finished. Total reward: -32.21459867668866 (18 timesteps)\n",
      "Updating the policy...\n",
      "Updating finished!\n",
      "Episode 390 finished. Total reward: -27.44875967037614 (17 timesteps)\n",
      "Episode 395 finished. Total reward: -197.8764987177071 (107 timesteps)\n",
      "Episode 400 finished. Total reward: -26.872320754655696 (20 timesteps)\n",
      "Episode 405 finished. Total reward: -334.41775388139894 (200 timesteps)\n",
      "Episode 410 finished. Total reward: -32.260479806509785 (18 timesteps)\n",
      "Episode 415 finished. Total reward: -32.507442517110384 (20 timesteps)\n",
      "Episode 420 finished. Total reward: -24.796633858316344 (15 timesteps)\n",
      "Episode 425 finished. Total reward: -198.9968210093196 (126 timesteps)\n",
      "Episode 430 finished. Total reward: -28.215221855267405 (19 timesteps)\n",
      "Episode 435 finished. Total reward: -347.24742005671413 (200 timesteps)\n",
      "Episode 440 finished. Total reward: -33.60766783012935 (20 timesteps)\n",
      "Updating the policy...\n",
      "Updating finished!\n",
      "Episode 445 finished. Total reward: -358.4500074227465 (200 timesteps)\n",
      "Episode 450 finished. Total reward: -31.695111343516654 (18 timesteps)\n",
      "Episode 455 finished. Total reward: -26.55483262913745 (16 timesteps)\n",
      "Episode 460 finished. Total reward: -372.22721574912595 (200 timesteps)\n",
      "Episode 465 finished. Total reward: -27.91654066424372 (17 timesteps)\n",
      "Episode 470 finished. Total reward: -70.28367201682471 (62 timesteps)\n",
      "Episode 475 finished. Total reward: -25.974489253201014 (15 timesteps)\n",
      "Episode 480 finished. Total reward: -25.405948721391834 (16 timesteps)\n",
      "Episode 485 finished. Total reward: -23.38993901562231 (14 timesteps)\n",
      "Updating the policy...\n",
      "Updating finished!\n",
      "Episode 490 finished. Total reward: -30.086791020565375 (19 timesteps)\n",
      "Episode 495 finished. Total reward: -30.35155274741469 (16 timesteps)\n",
      "Episode 500 finished. Total reward: -356.0189181553706 (200 timesteps)\n",
      "Model saved to /notebooks/rl2024/ex1/results/model/TargetReacher-v0_params.pt\n",
      "------Training finished.------\n"
     ]
    }
   ],
   "source": [
    "if not skip_training:\n",
    "      t.train(cfg_path=Path().cwd()/'cfg'/'reacher_v1.yaml', \n",
    "      cfg_args=dict(env_name='TargetReacher-v0',model_name='TargetReacher-v0', train_episodes=500, seed=1)) # < 5 mins"
   ]
  },
  {
   "cell_type": "code",
   "execution_count": 23,
   "id": "4714194c",
   "metadata": {
    "tags": []
   },
   "outputs": [
    {
     "name": "stdout",
     "output_type": "stream",
     "text": [
      "Numpy/Torch/Random Seed:  519\n",
      "Loading model from /notebooks/rl2024/ex1/results/model/TargetReacher-v0_params.pt ...\n",
      "Testing...\n",
      "Test ep reward: -27.82880207688945 seed: 25\n",
      "Test ep reward: -26.783486480853362 seed: 466\n",
      "Test ep reward: -26.184199947698463 seed: 374\n",
      "Test ep reward: -24.76993486409497 seed: 517\n",
      "Test ep reward: -24.320561223924084 seed: 875\n",
      "Test ep reward: -24.613443126057277 seed: 180\n",
      "Test ep reward: -26.138254807258836 seed: 20\n",
      "Test ep reward: -27.78487429442449 seed: 519\n",
      "Test ep reward: -25.025835976465842 seed: 873\n",
      "Test ep reward: -23.337915984927395 seed: 768\n",
      "Average test reward: -25.678730878259415 episode length: 15.3\n"
     ]
    }
   ],
   "source": [
    "if not skip_training:\n",
    "       t.test(episodes=10, cfg_path=Path().cwd()/'cfg'/'reacher_v1.yaml', \n",
    "       cfg_args=dict(env_name='TargetReacher-v0',model_name='TargetReacher-v0', seed=None, testing=True,))"
   ]
  },
  {
   "cell_type": "code",
   "execution_count": 45,
   "id": "67152513",
   "metadata": {
    "tags": []
   },
   "outputs": [
    {
     "data": {
      "text/html": [
       "<video loop autoplay  >\n",
       " <source src=\"data:video/mp4;base64,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\" type=\"video/mp4\">\n",
       " Your browser does not support the video tag.\n",
       " </video>"
      ],
      "text/plain": [
       "<IPython.core.display.Video object>"
      ]
     },
     "metadata": {},
     "output_type": "display_data"
    }
   ],
   "source": [
    "if not skip_training:\n",
    "      video = Video(work_dir/'video'/'TargetReacher-v0'/'test'/f'ex1-episode-7.mp4',\n",
    "      embed=True, html_attributes=\"loop autoplay\") # Set html_attributes=\"controls\" for video control\n",
    "      display(video)"
   ]
  },
  {
   "cell_type": "markdown",
   "id": "947add89",
   "metadata": {
    "deletable": false,
    "editable": false,
    "nbgrader": {
     "cell_type": "markdown",
     "checksum": "24b4e1b132030de471dd3ab7d7d89a7b",
     "grade": false,
     "grade_id": "cell-8fbe6b6920b12c52",
     "locked": true,
     "schema_version": 3,
     "solution": false,
     "task": false
    }
   },
   "source": [
    "Do not delete the following cells as they are used for grading. Make sure to test that both agents work correctly for the selected set of seeds [860, 241, 73, 543, 582, 211, 524, 484, 954, 656]."
   ]
  },
  {
   "cell_type": "code",
   "execution_count": 66,
   "id": "141e44fe",
   "metadata": {
    "deletable": false,
    "editable": false,
    "nbgrader": {
     "cell_type": "code",
     "checksum": "8d262615dcd66ffad7534f4c0c2a5424",
     "grade": true,
     "grade_id": "cell-626f99384bd58109",
     "locked": true,
     "points": 10,
     "schema_version": 3,
     "solution": false,
     "task": false
    }
   },
   "outputs": [],
   "source": [
    "%%capture --no-stdout\n",
    "\"TEST CELL\""
   ]
  },
  {
   "cell_type": "code",
   "execution_count": 67,
   "id": "0ee03e99",
   "metadata": {
    "deletable": false,
    "editable": false,
    "nbgrader": {
     "cell_type": "code",
     "checksum": "80c6477f2fe781715a9c816f5434d617",
     "grade": true,
     "grade_id": "cell-233242cce6bb1187",
     "locked": true,
     "points": 10,
     "schema_version": 3,
     "solution": false,
     "task": false
    }
   },
   "outputs": [],
   "source": [
    "%%capture --no-stdout\n",
    "\"TEST CELL\""
   ]
  },
  {
   "cell_type": "markdown",
   "id": "c384e863",
   "metadata": {
    "deletable": false,
    "editable": false,
    "nbgrader": {
     "cell_type": "markdown",
     "checksum": "f2f484cdc7ececdfcdeb734e9133f0d8",
     "grade": false,
     "grade_id": "cell-54aa2850dfdfb7d1",
     "locked": true,
     "schema_version": 3,
     "solution": false,
     "task": false
    }
   },
   "source": [
    "<a id='T4'></a>\n",
    "<div class=\" alert alert-warning\">\n",
    "    <h3><b>Student Task 4.</b> Visualizing Behavior (10 points) </h3> \n",
    "\n",
    "Now, let us visualize the reward function for the second behavior (reaching the goal [1,1]). Plot the values of the second reward function from Task 3 and the learned best action as a function of the state (the joint positions). Use the code below as a starting point. After plotting, answer the questions below.\n",
    "            \n",
    "🔝\t<a href='#TOC'><b>Table of Contents</b></a>\n",
    "</div>\n"
   ]
  },
  {
   "cell_type": "code",
   "execution_count": 26,
   "id": "139b3387",
   "metadata": {
    "tags": []
   },
   "outputs": [],
   "source": [
    "import matplotlib.pyplot as plt\n",
    "import seaborn as sns\n",
    "import gymnasium as gym\n",
    "from agent import Agent, Policy"
   ]
  },
  {
   "cell_type": "code",
   "execution_count": 39,
   "id": "0035a7f8",
   "metadata": {
    "tags": []
   },
   "outputs": [
    {
     "name": "stdout",
     "output_type": "stream",
     "text": [
      "TargetReacher-v0\n",
      "Loading policy from /notebooks/rl2024/ex1/results/model/TargetReacher-v0_params.pt\n"
     ]
    }
   ],
   "source": [
    "env_name = \"TargetReacher-v0\" \n",
    "resolution = 101  # Resolution of the policy/reward image\n",
    "\n",
    "# Load policy from default path to plot\n",
    "policy_dir = Path().cwd()/'results'/'model'/f'{env_name}_params.pt'\n",
    "\n",
    "sns.set()\n",
    "\n",
    "# Create a gym environment\n",
    "env = gym.make(env_name)\n",
    "\n",
    "print(env.spec.id)\n",
    "\n",
    "action_space_dim = u.get_space_dim(env.action_space)\n",
    "observation_space_dim = u.get_space_dim(env.observation_space)\n",
    "policy = Policy(observation_space_dim, action_space_dim)\n",
    "\n",
    "if policy_dir:\n",
    "    policy.load_state_dict(torch.load(policy_dir))\n",
    "    print(\"Loading policy from\", policy_dir)\n",
    "else:\n",
    "    print(\"Plotting a random policy\")"
   ]
  },
  {
   "cell_type": "code",
   "execution_count": 36,
   "id": "170a06be",
   "metadata": {
    "tags": []
   },
   "outputs": [],
   "source": [
    "# Create a grid and initialize arrays to store rewards and actions\n",
    "npoints = resolution\n",
    "state_range = np.linspace(-np.pi, np.pi, npoints)\n",
    "rewards = np.zeros((npoints, npoints))\n",
    "actions = np.zeros((npoints, npoints), dtype=np.int32)\n",
    "\n",
    "# Loop through state[0] and state[1]\n",
    "for i,th1 in enumerate(state_range):\n",
    "    for j,th2 in enumerate(state_range):\n",
    "        # Create the state vector from th1, th2\n",
    "        state = np.array([th1, th2])\n",
    "\n",
    "        # Query the policy and find the most probable action\n",
    "        with torch.no_grad():\n",
    "            action_dist, _ = policy(torch.from_numpy(state).float().unsqueeze(0))\n",
    "        action_probs = action_dist.probs.numpy()\n",
    "\n",
    "        '''\n",
    "        # TODO: Task 4: \n",
    "        # 1. What's the best action, according to the policy?\n",
    "        # 2. Compute the reward given state\n",
    "        '''\n",
    "        ########## Your code starts here ##########\n",
    "        # TODO: Task 4:\n",
    "        #best actions\n",
    "        actions[i, j] = np.argmax(action_probs)\n",
    "        \n",
    "        prev_state = state\n",
    "        next_state = state\n",
    "        \n",
    "        rewards[i, j] = env.get_reward(prev_state, actions[i, j], next_state)\n",
    "        ########## Your code ends here ##########"
   ]
  },
  {
   "cell_type": "code",
   "execution_count": 37,
   "id": "ea36aa9a",
   "metadata": {
    "tags": []
   },
   "outputs": [
    {
     "data": {
      "image/png": "[encoded data removed]",
      "text/plain": [
       "<Figure size 640x480 with 2 Axes>"
      ]
     },
     "metadata": {},
     "output_type": "display_data"
    }
   ],
   "source": [
    "# Create the reward plot\n",
    "num_ticks = 10\n",
    "tick_skip = max(1, npoints // num_ticks)\n",
    "tick_shift = 2*np.pi/npoints/2\n",
    "tick_points = np.arange(npoints)[::tick_skip] + tick_shift\n",
    "tick_labels = state_range.round(2)[::tick_skip]\n",
    "\n",
    "sns.heatmap(rewards)\n",
    "plt.xticks(tick_points, tick_labels, rotation=45)\n",
    "plt.yticks(tick_points, tick_labels, rotation=45)\n",
    "plt.xlabel(\"J2\")\n",
    "plt.ylabel(\"J1\")\n",
    "plt.title(\"Reward\")\n",
    "plt.suptitle(\"Rewards in %s\" % env_name)\n",
    "plt.show()"
   ]
  },
  {
   "cell_type": "code",
   "execution_count": 40,
   "id": "99f6c89a",
   "metadata": {
    "tags": []
   },
   "outputs": [
    {
     "data": {
      "image/png": "[encoded data removed]",
      "text/plain": [
       "<Figure size 640x480 with 2 Axes>"
      ]
     },
     "metadata": {},
     "output_type": "display_data"
    }
   ],
   "source": [
    "# # Create the policy plot\n",
    "cmap = sns.color_palette(\"deep\", action_space_dim)\n",
    "sns.heatmap(actions, cmap=cmap, vmin=0, vmax=action_space_dim-1)\n",
    "plt.xticks(tick_points, tick_labels, rotation=45)\n",
    "plt.yticks(tick_points, tick_labels, rotation=45)\n",
    "colorbar = plt.gca().collections[0].colorbar\n",
    "ticks = np.array(range(action_space_dim))*((action_space_dim-1)/action_space_dim)+0.5\n",
    "colorbar.set_ticks(ticks)\n",
    "if env.spec.id == \"TargetReacher-v0\":\n",
    "    # In Reacher, we can replace 0..4 with more readable labels\n",
    "    labels = [\"J1+\", \"J1-\", \"J2+\", \"J2-\", \"Stop\"]\n",
    "else:\n",
    "    labels = list(map(str, range(action_space_dim)))\n",
    "colorbar.set_ticklabels(labels)\n",
    "plt.xlabel(\"J2\")\n",
    "plt.ylabel(\"J1\")\n",
    "plt.title(\"Best action\")\n",
    "plt.suptitle(\"Best action in %s\" % env_name)\n",
    "plt.show()"
   ]
  },
  {
   "cell_type": "markdown",
   "id": "7c2187e8-19c3-43a3-8854-7c20a9c73f9d",
   "metadata": {
    "deletable": false,
    "editable": false,
    "nbgrader": {
     "cell_type": "markdown",
     "checksum": "8a786bb3b1a68bc06adae81775588814",
     "grade": false,
     "grade_id": "cell-29064556f36a3c80",
     "locked": true,
     "points": 10,
     "schema_version": 3,
     "solution": false,
     "task": true
    }
   },
   "source": [
    "Do not remove this cell as it is used for grading"
   ]
  },
  {
   "cell_type": "markdown",
   "id": "c45dc911",
   "metadata": {
    "deletable": false,
    "editable": false,
    "nbgrader": {
     "cell_type": "markdown",
     "checksum": "7a79e29e8ff15be5a5132d9afe13efbe",
     "grade": false,
     "grade_id": "cell-a90e3e94423fcb0c",
     "locked": true,
     "schema_version": 3,
     "solution": false,
     "task": false
    }
   },
   "source": [
    "<a id='Q4'></a>\n",
    "<div class=\" alert alert-warning\">\n",
    "    <h3><b>Student Question 4.1</b> Achieved Performance (5 points) </h3> \n",
    "\n",
    "Where are the highest and lowest reward achieved?\n",
    "            \n",
    "🔝\t<a href='#TOC'><b>Table of Contents</b></a>\n",
    "</div>\n"
   ]
  },
  {
   "cell_type": "markdown",
   "id": "7011e57b",
   "metadata": {
    "deletable": false,
    "nbgrader": {
     "cell_type": "markdown",
     "checksum": "0151f821d750a97b7d38442f319f371e",
     "grade": true,
     "grade_id": "cell-e19d78f23a6643a3",
     "locked": false,
     "points": 5,
     "schema_version": 3,
     "solution": true,
     "task": false
    }
   },
   "source": [
    "Minimum Reward -> -3.4138047591214704\n",
    "Maximum Reward -> -2.482534153247273e-16"
   ]
  },
  {
   "cell_type": "markdown",
   "id": "f77cbd95",
   "metadata": {
    "deletable": false,
    "editable": false,
    "nbgrader": {
     "cell_type": "markdown",
     "checksum": "71e236f9aab831df339f717afeb56013",
     "grade": false,
     "grade_id": "cell-4346eec80fe675af",
     "locked": true,
     "schema_version": 3,
     "solution": false,
     "task": false
    }
   },
   "source": [
    "<a id='Q5'></a>\n",
    "<div class=\" alert alert-warning\">\n",
    "    <h3><b>Student Question 4.2</b> Analysis of Behaviour (10 points) </h3> \n",
    "\n",
    "Did the policy learn to reach the goal from every possible state (manipulator configuration) in an optimal way (i.e. with lowest possible number of steps)? Why/why not?\n",
    "            \n",
    "🔝\t<a href='#TOC'><b>Table of Contents</b></a>\n",
    "</div>"
   ]
  },
  {
   "cell_type": "markdown",
   "id": "f5b2b7fd",
   "metadata": {
    "deletable": false,
    "editable": false,
    "nbgrader": {
     "cell_type": "markdown",
     "checksum": "94b370c7ab8e151a80925317aa768e4c",
     "grade": false,
     "grade_id": "cell-44ab862bff7d27bf",
     "locked": true,
     "schema_version": 3,
     "solution": false,
     "task": false
    }
   },
   "source": [
    "Select all the correct answers.You can select no more than 4 answers, otherwise you lose all exercise points:\n",
    "\n",
    "1. Yes, the policy efficiently learns to reach the goal from every state due to comprehensive state exploration.\n",
    "\n",
    "2. No, the policy fails to explore all states adequately because the initial and goal states are nearly constant, leading to limited exploration ability.\n",
    "\n",
    "3. Yes, the model is trained to always find the shortest path due to advanced algorithmic efficiency.\n",
    "\n",
    "4. No, because the policy often chooses longer paths for certain initial states , not exploiting shorter alternatives.\n",
    "\n",
    "5. Yes, continuous training ensures the policy adapts to find the best route from any state over time.\n",
    "\n",
    "6. No, optimal paths are not always found because the exploration phase is limited, causing repeated suboptimal actions.\n",
    "\n",
    "7. No, the policy sometimes achieves the goal optimally, but not consistently across all trials and configurations.\n",
    "\n",
    "8. Yes, the training regime guarantees that all possible configurations are optimally addressed by the final model.\n",
    "\n",
    "9. No, the policy cannot reach from all state because the policy has stochastic behavior.\n",
    "\n",
    "10. No, bacause the policy overfits to the online it collects.\n",
    "\n",
    "11. No, bacause the the reward function is not defined in an optimal way for this task."
   ]
  },
  {
   "cell_type": "code",
   "execution_count": 41,
   "id": "1621dc20",
   "metadata": {
    "tags": []
   },
   "outputs": [],
   "source": [
    "sq4_2 = [2, 6, 10, 11] #Answer question 4.2 with the appropriate answer numbers"
   ]
  },
  {
   "cell_type": "code",
   "execution_count": 42,
   "id": "fcc40e62",
   "metadata": {
    "deletable": false,
    "editable": false,
    "nbgrader": {
     "cell_type": "code",
     "checksum": "d036db91e2228e5f4ac16c460b609890",
     "grade": true,
     "grade_id": "cell-44c69f0bc8c72e3f",
     "locked": true,
     "points": 1,
     "schema_version": 3,
     "solution": false,
     "task": false
    },
    "tags": []
   },
   "outputs": [],
   "source": [
    "assert 1 <= len(set(sq4_2)) <= 4\n",
    "assert set(sq4_2) < set(range(1, 12))"
   ]
  },
  {
   "cell_type": "markdown",
   "id": "3eaeb40d",
   "metadata": {
    "deletable": false,
    "editable": false,
    "nbgrader": {
     "cell_type": "markdown",
     "checksum": "b652e7d56b0faeab487f22b14f619240",
     "grade": false,
     "grade_id": "cell-c1270f97d5ec1f3d",
     "locked": true,
     "schema_version": 3,
     "solution": false,
     "task": false
    }
   },
   "source": [
    "Do not remove the following blocks as they are used for grading"
   ]
  },
  {
   "cell_type": "code",
   "execution_count": null,
   "id": "05031d7b",
   "metadata": {
    "deletable": false,
    "editable": false,
    "nbgrader": {
     "cell_type": "code",
     "checksum": "363e721a50466efc4a48b8eb31060bfc",
     "grade": true,
     "grade_id": "cell-5a73a8d6f1e62a4c",
     "locked": true,
     "points": 3,
     "schema_version": 3,
     "solution": false,
     "task": false
    }
   },
   "outputs": [],
   "source": []
  },
  {
   "cell_type": "code",
   "execution_count": null,
   "id": "75c7b426",
   "metadata": {
    "deletable": false,
    "editable": false,
    "nbgrader": {
     "cell_type": "code",
     "checksum": "7ac4e9f13a548e2d539bd454d10ee8b0",
     "grade": true,
     "grade_id": "cell-b18c9cd3dfeb8639",
     "locked": true,
     "points": 3,
     "schema_version": 3,
     "solution": false,
     "task": false
    }
   },
   "outputs": [],
   "source": []
  },
  {
   "cell_type": "code",
   "execution_count": null,
   "id": "db031f32",
   "metadata": {
    "deletable": false,
    "editable": false,
    "nbgrader": {
     "cell_type": "code",
     "checksum": "27bd6747e4d994a69c36e743a49c9e70",
     "grade": true,
     "grade_id": "cell-20401f4d0e76b565",
     "locked": true,
     "points": 3,
     "schema_version": 3,
     "solution": false,
     "task": false
    }
   },
   "outputs": [],
   "source": []
  },
  {
   "cell_type": "markdown",
   "id": "4c50da4d",
   "metadata": {},
   "source": [
    "# 4. Submitting <a id='4.'></a>\n",
    "Ensure all tasks and questions (in ```ex1.ipynb```) are answered and the relevant plots are recorded in the relevant places. Details about attaching images and figures can be found below. The relevant graphs to be included for this assignment are:\n",
    "- Task 1, CartPole ```episodesep_reward``` plot from logged csv file\n",
    "- x2 Task 4 reward plots\n",
    "\n",
    "Ensure the correct model files are saved:\n",
    "- results/model/CartPole-v1_params.pt\n",
    "- results/model/CartPole-v1-model{0-4}_params.pt\n",
    "- results/model/SpinningReacher-v0_params.pt\n",
    "- results/model/TargetReacher-v0_params.pt\n"
   ]
  },
  {
   "cell_type": "code",
   "execution_count": null,
   "id": "27d551ec",
   "metadata": {
    "deletable": false,
    "editable": false,
    "nbgrader": {
     "cell_type": "code",
     "checksum": "ec29d723e13463965e0cd445e8d76d21",
     "grade": true,
     "grade_id": "cell-b0b285ad316b6cdf",
     "locked": true,
     "points": 0,
     "schema_version": 3,
     "solution": false,
     "task": false
    }
   },
   "outputs": [],
   "source": [
    "# Make sure that skip training is set to True before submission\n",
    "assert skip_training == True"
   ]
  },
  {
   "cell_type": "markdown",
   "id": "d4c3b7e3-49a1-4ca6-8484-e9fd422271be",
   "metadata": {},
   "source": [
    "## 4.1 Feedback <a id='4.1'></a>\n",
    "\n",
    "In order to help the staff of the course as well as the forthcoming students, it would be great if you could answer to the following questions in your submission:"
   ]
  },
  {
   "cell_type": "markdown",
   "id": "29381b17-ce64-4a1c-b16c-e82ea2a0af96",
   "metadata": {},
   "source": [
    "1) How much time did you spend solving this exercise? (change the ```hrs``` variable below to a floating point number representing the number of hours taken e.g. 5.43)\n"
   ]
  },
  {
   "cell_type": "code",
   "execution_count": null,
   "id": "cbc91b59-0048-475d-a679-8e976ba0c7b7",
   "metadata": {},
   "outputs": [],
   "source": [
    "hrs = 5"
   ]
  },
  {
   "cell_type": "markdown",
   "id": "4dbefa77-e4a4-48ec-8049-e52b40fff463",
   "metadata": {},
   "source": [
    "2) Difficulty of each task/question from 1-5 (int or float)"
   ]
  },
  {
   "cell_type": "code",
   "execution_count": null,
   "id": "35321f8a-a156-4953-ba84-689b6e53a0b8",
   "metadata": {},
   "outputs": [],
   "source": [
    "T1 = 1 # Student Task 1. Training a simple model for Cartpole environment\n",
    "Q1_1 = 2 # Student Question 1.1 Learning\n",
    "T2 = 3 # Student Task 2. Investigating training performance\n",
    "Q2_1 = 3 # Student Question 2.1 Analyzing the training performance\n",
    "Q2_2 = 3 # Stochasticity\n",
    "T3 = 3 # Student Task 3. Reward function\n",
    "T4 = 4 # Student Task 4. Visualize behavior\n",
    "Q4_1 = 3 # Student Question 4.1 Achieved performance\n",
    "Q4_2 = 5 # Student Question 4.2 Analysis of behavior"
   ]
  },
  {
   "cell_type": "markdown",
   "id": "ce4983ba-5031-460d-bdb3-e7cd708ed203",
   "metadata": {},
   "source": [
    "3) How well did you understand the content of the task/question from 1-5? (int or float)\n"
   ]
  },
  {
   "cell_type": "code",
   "execution_count": null,
   "id": "6ed5d535-89b1-4852-81ef-541a0e1d6dcd",
   "metadata": {},
   "outputs": [],
   "source": [
    "T1 = 5 # Student Task 1. Training a simple model for Cartpole environment\n",
    "Q1_1 = 5 # Student Question 1.1 Learning\n",
    "T2 = 5 # Student Task 2. Investigating training performance\n",
    "Q2_1 = 4 # Student Question 2.1 Analyzing the training performance\n",
    "Q2_2 = 5 # Stochasticity\n",
    "T3 = 5 # Student Task 3. Reward function\n",
    "T4 = 4 # Student Task 4. Visualize behavior\n",
    "Q4_1 = 4 # Student Question 4.1 Achieved performance\n",
    "Q4_2 = 4 # Student Question 4.2 Analysis of behavior"
   ]
  },
  {
   "cell_type": "markdown",
   "id": "f7670bd2-6bff-418a-bf25-fabf1a3e5396",
   "metadata": {},
   "source": [
    "4) General feedback. Consider questions like:\n",
    "\n",
    "    - Did the content of the lecture relate well with the assignment?\n",
    "    - To what extent did you find the material to be potentially useful for your research and studies?\n",
    "    \n",
    "And other feedback you think is worth including. Type in the box below"
   ]
  },
  {
   "cell_type": "markdown",
   "id": "e4330ed5-2f15-4580-bf05-34e9aaf0004c",
   "metadata": {
    "tags": []
   },
   "source": [
    "Please use the following section to record references.\n",
    "# References <a id='5.'></a>\n",
    "\n",
    "[1] Sutton, Richard S., and Andrew G. Barto. \"Reinforcement Learning: An Introduction (in progress).\" London, England (2017). http://incompleteideas.net/book/RLbook2018.pdf"
   ]
  }
 ],
 "metadata": {
  "kernelspec": {
   "display_name": "Python 3",
   "language": "python",
   "name": "python3"
  },
  "language_info": {
   "codemirror_mode": {
    "name": "ipython",
    "version": 3
   },
   "file_extension": ".py",
   "mimetype": "text/x-python",
   "name": "python",
   "nbconvert_exporter": "python",
   "pygments_lexer": "ipython3",
   "version": "3.10.12"
  }
 },
 "nbformat": 4,
 "nbformat_minor": 5
}
